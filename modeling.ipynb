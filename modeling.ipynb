{
 "cells": [
  {
   "cell_type": "code",
   "execution_count": 1,
   "metadata": {
    "ExecuteTime": {
     "end_time": "2018-11-29T22:07:39.047420Z",
     "start_time": "2018-11-29T22:07:36.579833Z"
    }
   },
   "outputs": [],
   "source": [
    "import json\n",
    "import requests\n",
    "import pandas as pd\n",
    "import numpy as np\n",
    "import networkx as nx\n",
    "import nxpd\n",
    "import matplotlib.pyplot as plt\n",
    "import matplotlib\n",
    "import pyspark\n",
    "import pyspark.sql.functions as F\n",
    "from pyspark.sql.types import *\n",
    "from pyspark.sql import dataframe\n",
    "import graphframes\n",
    "\n",
    "\n",
    "from src.data_reader import DataReader, RetractionFinder\n",
    "from src.to_gexf import to_gexf\n",
    "from src.get_redacted import get_paper, load_redacted, get_doi, gen_retracted\n",
    "import src.load_data as load_data"
   ]
  },
  {
   "cell_type": "code",
   "execution_count": null,
   "metadata": {
    "ExecuteTime": {
     "end_time": "2018-11-29T21:23:19.065837Z",
     "start_time": "2018-11-29T21:22:29.750660Z"
    }
   },
   "outputs": [],
   "source": [
    "df_full = load_data.load_dataframe(source='data/retracted_articles', limit=-1)\n",
    "df = load_data.format_dataframe(df_full)"
   ]
  },
  {
   "cell_type": "markdown",
   "metadata": {
    "ExecuteTime": {
     "end_time": "2018-11-29T18:22:44.526089Z",
     "start_time": "2018-11-29T18:22:44.484050Z"
    }
   },
   "source": [
    "# EDA"
   ]
  },
  {
   "cell_type": "code",
   "execution_count": null,
   "metadata": {
    "ExecuteTime": {
     "end_time": "2018-11-29T21:40:17.344529Z",
     "start_time": "2018-11-29T21:40:17.305077Z"
    }
   },
   "outputs": [],
   "source": [
    "from sklearn.model_selection import train_test_split, KFold, cross_val_score\n",
    "from sklearn.ensemble import RandomForestClassifier, GradientBoostingClassifier\n",
    "from sklearn.metrics import log_loss, roc_curve\n",
    "from sklearn.feature_extraction.text import TfidfVectorizer, TfidfTransformer\n",
    "from sklearn.naive_bayes import MultinomialNB"
   ]
  },
  {
   "cell_type": "code",
   "execution_count": null,
   "metadata": {
    "ExecuteTime": {
     "end_time": "2018-11-29T21:39:45.909427Z",
     "start_time": "2018-11-29T21:39:44.064420Z"
    }
   },
   "outputs": [],
   "source": [
    "X,y = df.loc[:, ['numInCitations','numAuthors', 'numEntities', 'year', 'pageLength']], df['retracted']\n",
    "X,y = df.drop('retracted', axis=1), df['retracted']\n",
    "X0,Xt,y0,yt = train_test_split(X,y)"
   ]
  },
  {
   "cell_type": "code",
   "execution_count": null,
   "metadata": {
    "ExecuteTime": {
     "end_time": "2018-11-29T21:33:41.277070Z",
     "start_time": "2018-11-29T21:33:29.101472Z"
    }
   },
   "outputs": [],
   "source": [
    "rf = RandomForestClassifier(criterion='entropy', max_features='sqrt', \n",
    "                            max_depth=2, n_jobs=-1, n_estimators=1000,\n",
    "                            random_state=5476)\n",
    "gbc = GradientBoostingClassifier(max_features='sqrt',\n",
    "                                 max_depth=2, n_estimators=1000,\n",
    "                                 random_state=5476)\n",
    "\n",
    "rf.fit(X0, y0)\n",
    "gbc.fit(X0, y0)"
   ]
  },
  {
   "cell_type": "code",
   "execution_count": null,
   "metadata": {
    "ExecuteTime": {
     "end_time": "2018-11-29T21:33:41.775586Z",
     "start_time": "2018-11-29T21:33:41.278527Z"
    }
   },
   "outputs": [],
   "source": [
    "print(log_loss(y_pred=rf.predict_proba(Xt)[:,1], y_true=yt))\n",
    "print(log_loss(y_pred=gbc.predict_proba(Xt)[:,1], y_true=yt))"
   ]
  },
  {
   "cell_type": "code",
   "execution_count": null,
   "metadata": {
    "ExecuteTime": {
     "end_time": "2018-11-29T21:33:42.739157Z",
     "start_time": "2018-11-29T21:33:42.375154Z"
    }
   },
   "outputs": [],
   "source": [
    "fpr, tpr, thr = roc_curve(y_score=gbc.predict_proba(Xt)[:,1], y_true=yt)\n",
    "fig, (ax0, ax1) = plt.subplots(1,2, figsize=(15,7))\n",
    "ax0.plot(fpr, tpr)\n",
    "ax1.bar(x=X.columns, height=gbc.feature_importances_)"
   ]
  },
  {
   "cell_type": "code",
   "execution_count": null,
   "metadata": {
    "ExecuteTime": {
     "end_time": "2018-11-29T21:33:56.066429Z",
     "start_time": "2018-11-29T21:33:56.026625Z"
    }
   },
   "outputs": [],
   "source": [
    "def plot_proportions(X, y, lbl):\n",
    "    xx, yy = [], []\n",
    "    for val in np.unique(X[lbl]):\n",
    "        xx.append(val)\n",
    "        y_hat = y[X[lbl] == val]\n",
    "        yy.append(y_hat.sum()/len(y_hat))\n",
    "    return xx,yy"
   ]
  },
  {
   "cell_type": "code",
   "execution_count": null,
   "metadata": {
    "ExecuteTime": {
     "end_time": "2018-11-29T21:34:00.128515Z",
     "start_time": "2018-11-29T21:33:56.516508Z"
    },
    "scrolled": true
   },
   "outputs": [],
   "source": [
    "plt.subplots(figsize=(20,6))\n",
    "plt.subplot('231')\n",
    "plt.scatter(X['year'], y + np.random.normal(loc=0, scale=0.05, size=len(y)), alpha=0.02)\n",
    "plt.plot(*plot_proportions(X,y,'year'), c='orange')\n",
    "plt.title('year')\n",
    "\n",
    "plt.subplot('232')\n",
    "plt.scatter(X['numAuthors'], y + np.random.normal(loc=0, scale=0.05, size=len(y)), alpha=0.02)\n",
    "plt.plot(*plot_proportions(X,y,'numAuthors'), c='orange')\n",
    "plt.xlim(0,50)\n",
    "plt.title('numAuthors')\n",
    "\n",
    "plt.subplot('233')\n",
    "plt.scatter(X['numEntities'], y + np.random.normal(loc=0, scale=0.05, size=len(y)), alpha=0.02)\n",
    "plt.plot(*plot_proportions(X,y,'numEntities'), c='orange')\n",
    "plt.xlim(0,50)\n",
    "plt.title('numEntities')\n",
    "\n",
    "plt.subplot('234')\n",
    "plt.scatter(X['numInCitations'], y + np.random.normal(loc=0, scale=0.05, size=len(y)), alpha=0.02)\n",
    "plt.plot(*plot_proportions(X,y,'numInCitations'), c='orange')\n",
    "plt.xlim(0,50)\n",
    "plt.title('numInCitations')\n",
    "\n",
    "plt.subplot('235')\n",
    "plt.scatter(X['pageLength'], y + np.random.normal(loc=0, scale=0.05, size=len(y)), alpha=0.02)\n",
    "plt.plot(*plot_proportions(X,y,'pageLength'), c='orange')\n",
    "plt.title('pageLength')\n",
    "plt.xlim(0,50)\n"
   ]
  },
  {
   "cell_type": "code",
   "execution_count": null,
   "metadata": {
    "ExecuteTime": {
     "end_time": "2018-11-29T20:33:27.384029Z",
     "start_time": "2018-11-29T20:33:25.457761Z"
    }
   },
   "outputs": [],
   "source": [
    "has_p_value = df_full['paperAbstract'].apply(lambda x: any(p in x.lower() for p in ('pvalue','p-value', 'p value')))"
   ]
  },
  {
   "cell_type": "code",
   "execution_count": null,
   "metadata": {
    "ExecuteTime": {
     "end_time": "2018-11-29T21:21:10.390818Z",
     "start_time": "2018-11-29T21:21:10.211749Z"
    }
   },
   "outputs": [],
   "source": [
    "print(len(df_full['paperAbstract'][has_p_value & df['retracted']]), sum(df['retracted']))\n",
    "print(len(df_full['paperAbstract'][has_p_value & df['retracted']])/sum(df['retracted']))\n",
    "print(np.std([has_p_value & df['retracted']]))"
   ]
  },
  {
   "cell_type": "code",
   "execution_count": null,
   "metadata": {
    "ExecuteTime": {
     "end_time": "2018-11-29T21:21:12.506095Z",
     "start_time": "2018-11-29T21:21:12.354601Z"
    }
   },
   "outputs": [],
   "source": [
    "print(len(df_full['paperAbstract'][has_p_value & ~df['retracted']]), sum(~df['retracted']))\n",
    "print(len(df_full['paperAbstract'][has_p_value & ~df['retracted']])/sum(~df['retracted']))\n",
    "print(np.std([has_p_value & ~df['retracted']]))"
   ]
  },
  {
   "cell_type": "code",
   "execution_count": null,
   "metadata": {
    "ExecuteTime": {
     "end_time": "2018-11-29T20:35:44.115021Z",
     "start_time": "2018-11-29T20:35:43.914117Z"
    }
   },
   "outputs": [],
   "source": []
  },
  {
   "cell_type": "code",
   "execution_count": null,
   "metadata": {
    "ExecuteTime": {
     "end_time": "2018-11-29T20:36:43.602308Z",
     "start_time": "2018-11-29T20:36:43.557935Z"
    }
   },
   "outputs": [],
   "source": []
  },
  {
   "cell_type": "code",
   "execution_count": null,
   "metadata": {
    "ExecuteTime": {
     "end_time": "2018-11-29T20:37:27.860641Z",
     "start_time": "2018-11-29T20:37:27.812150Z"
    }
   },
   "outputs": [],
   "source": []
  },
  {
   "cell_type": "code",
   "execution_count": null,
   "metadata": {
    "ExecuteTime": {
     "end_time": "2018-11-29T20:39:04.111303Z",
     "start_time": "2018-11-29T20:39:03.758496Z"
    }
   },
   "outputs": [],
   "source": []
  },
  {
   "cell_type": "code",
   "execution_count": null,
   "metadata": {
    "ExecuteTime": {
     "end_time": "2018-11-29T21:34:26.746880Z",
     "start_time": "2018-11-29T21:34:26.568267Z"
    }
   },
   "outputs": [],
   "source": []
  },
  {
   "cell_type": "code",
   "execution_count": null,
   "metadata": {
    "ExecuteTime": {
     "end_time": "2018-11-29T21:21:38.564085Z",
     "start_time": "2018-11-29T21:21:38.513910Z"
    }
   },
   "outputs": [],
   "source": []
  },
  {
   "cell_type": "code",
   "execution_count": null,
   "metadata": {
    "ExecuteTime": {
     "end_time": "2018-11-29T21:21:43.985227Z",
     "start_time": "2018-11-29T21:21:43.942523Z"
    }
   },
   "outputs": [],
   "source": [
    "df_full.columns"
   ]
  },
  {
   "cell_type": "code",
   "execution_count": null,
   "metadata": {
    "ExecuteTime": {
     "end_time": "2018-11-29T21:45:16.125703Z",
     "start_time": "2018-11-29T21:45:12.163850Z"
    }
   },
   "outputs": [],
   "source": [
    "abstract_tfidf = TfidfVectorizer()\n",
    "abstract_tfidf.fit(X0['paperAbstract'])\n",
    "abstract_train = abstract_tfidf.transform(X0['paperAbstract'])\n",
    "abstract_test = abstract_tfidf.transform(Xt['paperAbstract'])\n",
    "\n",
    "abstract_bayes = MultinomialNB()\n",
    "abstract_bayes.fit(abstract_train, y0)\n",
    "log_loss(y_pred=abstract_bayes.predict_proba(abstract_test)[:,1], y_true=yt)"
   ]
  },
  {
   "cell_type": "code",
   "execution_count": null,
   "metadata": {
    "ExecuteTime": {
     "end_time": "2018-11-29T21:42:29.678373Z",
     "start_time": "2018-11-29T21:42:29.607635Z"
    }
   },
   "outputs": [],
   "source": [
    "title_tfidf = TfidfVectorizer()\n",
    "title_tfidf.fit(X0['title'])\n",
    "title_train = title_tfidf.transform(X0['title'])\n",
    "title_test = title_tfidf.transform(Xt['title'])\n",
    "\n",
    "\n",
    "title_bayes = MultinomialNB()\n",
    "title_bayes.fit(title_train, y0)\n",
    "log_loss(y_pred=title_bayes.predict_proba(title_test)[:,1], y_true=yt)"
   ]
  },
  {
   "cell_type": "code",
   "execution_count": null,
   "metadata": {
    "ExecuteTime": {
     "end_time": "2018-11-29T21:53:41.395121Z",
     "start_time": "2018-11-29T21:53:41.270080Z"
    }
   },
   "outputs": [],
   "source": []
  },
  {
   "cell_type": "markdown",
   "metadata": {},
   "source": [
    "# Export to Graph File"
   ]
  },
  {
   "cell_type": "code",
   "execution_count": 2,
   "metadata": {
    "ExecuteTime": {
     "end_time": "2018-11-29T22:07:44.341272Z",
     "start_time": "2018-11-29T22:07:43.083201Z"
    }
   },
   "outputs": [],
   "source": [
    "reader = DataReader('data/retracted_articles')\n",
    "reader.write(lim=10000, dynamic=True)"
   ]
  },
  {
   "cell_type": "code",
   "execution_count": 3,
   "metadata": {
    "ExecuteTime": {
     "end_time": "2018-11-29T22:07:48.765105Z",
     "start_time": "2018-11-29T22:07:45.061047Z"
    }
   },
   "outputs": [],
   "source": [
    "edges = spark.createDataFrame(reader.read_edges(), schema=StructType(\n",
    "[\n",
    "    StructField(name='src', dataType=StringType()),\n",
    "    StructField(name='dst', dataType=StringType()),\n",
    "    StructField(name='year', dataType=StringType())\n",
    "]\n",
    ")).withColumn('id', F.monotonically_increasing_id())\n",
    "\n",
    "\n",
    "nodes = spark.createDataFrame(reader.read_nodes(), schema=StructType(\n",
    "[\n",
    "    StructField(name='id', dataType=StringType()),\n",
    "    StructField(name='year', dataType=StringType()),\n",
    "    StructField(name='authors', dataType=StringType())\n",
    "]\n",
    "))"
   ]
  },
  {
   "cell_type": "code",
   "execution_count": 4,
   "metadata": {
    "ExecuteTime": {
     "end_time": "2018-11-29T22:07:51.085925Z",
     "start_time": "2018-11-29T22:07:49.376731Z"
    }
   },
   "outputs": [],
   "source": [
    "g = graphframes.GraphFrame(e=edges, v=nodes)\n",
    "to_gexf(g, 'data/graph.gexf', dynamic=True)"
   ]
  },
  {
   "cell_type": "code",
   "execution_count": 37,
   "metadata": {
    "ExecuteTime": {
     "end_time": "2018-11-29T23:17:05.212833Z",
     "start_time": "2018-11-29T23:13:42.887229Z"
    }
   },
   "outputs": [],
   "source": [
    "with smart_open('data/zipped/s2-corpus-00.gz', 'r') as f:\n",
    "    gz = pd.read_json(f, lines=-1)"
   ]
  },
  {
   "cell_type": "code",
   "execution_count": null,
   "metadata": {
    "ExecuteTime": {
     "end_time": "2018-11-29T23:21:40.317603Z",
     "start_time": "2018-11-29T23:21:32.249130Z"
    }
   },
   "outputs": [],
   "source": []
  },
  {
   "cell_type": "code",
   "execution_count": null,
   "metadata": {
    "ExecuteTime": {
     "end_time": "2018-11-29T23:21:56.785988Z",
     "start_time": "2018-11-29T23:21:54.104453Z"
    }
   },
   "outputs": [],
   "source": []
  },
  {
   "cell_type": "code",
   "execution_count": null,
   "metadata": {
    "ExecuteTime": {
     "end_time": "2018-11-29T23:22:05.729387Z",
     "start_time": "2018-11-29T23:22:05.692229Z"
    }
   },
   "outputs": [],
   "source": []
  },
  {
   "cell_type": "code",
   "execution_count": 53,
   "metadata": {
    "ExecuteTime": {
     "end_time": "2018-11-29T23:22:43.399246Z",
     "start_time": "2018-11-29T23:22:43.361508Z"
    }
   },
   "outputs": [
    {
     "data": {
      "text/plain": [
       "dict_keys(['__name__', '__doc__', '__package__', '__loader__', '__spec__', '__builtin__', '__builtins__', '_ih', '_oh', '_dh', 'In', 'Out', 'get_ipython', 'exit', 'quit', '_', '__', '___', 'atexit', 'os', 'platform', 'warnings', 'py4j', 'SparkConf', 'SparkContext', 'SparkSession', 'SQLContext', 'conf', 'spark', 'sc', 'sql', 'sqlContext', 'sqlCtx', '_pythonstartup', '_i', '_ii', '_iii', '_i1', 'json', 'requests', 'pd', 'np', 'nx', 'nxpd', 'plt', 'matplotlib', 'pyspark', 'F', 'DataType', 'NullType', 'StringType', 'BinaryType', 'BooleanType', 'DateType', 'TimestampType', 'DecimalType', 'DoubleType', 'FloatType', 'ByteType', 'IntegerType', 'LongType', 'ShortType', 'ArrayType', 'MapType', 'StructField', 'StructType', 'dataframe', 'graphframes', 'DataReader', 'RetractionFinder', 'to_gexf', 'get_paper', 'load_redacted', 'get_doi', 'gen_retracted', 'load_data', '_i2', 'reader', '_i3', 'edges', 'nodes', '_i4', 'g', '_i5', 'f', '_i6', 'smart_open', '_i7', 'line', '_i8', 'cnt', '_i9', '_i10', '_i11', '_i12', '_i13', '_i14', '_14', '_i15', '_15', '_i16', '_i17', '_i18', '_i19', '_i20', '_i21', '_i22', '_i23', '_i24', '_i25', 'entry', 'inCitations', 'outCitations', '_i26', '_i27', '_i28', '_i29', '_i30', '_i31', '_i32', '_i33', '_i34', '_i35', '_i36', '_i37', '_i38', '_38', '_i39', '_39', '_i40', '_i41', '_41', '_i42', '_i43', '_43', '_i44', '_i45', '_i46', '_i47', '_i48', '_i49', '_i50', '_i51', '_i52', '_52', '_i53'])"
      ]
     },
     "execution_count": 53,
     "metadata": {},
     "output_type": "execute_result"
    }
   ],
   "source": [
    "globals().keys()"
   ]
  },
  {
   "cell_type": "code",
   "execution_count": null,
   "metadata": {},
   "outputs": [],
   "source": []
  }
 ],
 "metadata": {
  "kernelspec": {
   "display_name": "Python 3",
   "language": "python",
   "name": "python3"
  },
  "language_info": {
   "codemirror_mode": {
    "name": "ipython",
    "version": 3
   },
   "file_extension": ".py",
   "mimetype": "text/x-python",
   "name": "python",
   "nbconvert_exporter": "python",
   "pygments_lexer": "ipython3",
   "version": "3.6.5"
  }
 },
 "nbformat": 4,
 "nbformat_minor": 2
}
