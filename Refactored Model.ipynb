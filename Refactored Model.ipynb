{
 "cells": [
  {
   "cell_type": "code",
   "execution_count": 1,
   "metadata": {
    "ExecuteTime": {
     "end_time": "2018-12-10T21:01:59.465012Z",
     "start_time": "2018-12-10T21:01:58.482160Z"
    }
   },
   "outputs": [],
   "source": [
    "import pandas as pd\n",
    "import numpy as np\n",
    "from pymongo import MongoClient\n",
    "from src.source_selector import Recommender, InfluenceModel, EdgeSplitter, PaperNLP\n",
    "from src.graphing import AuthorNetwork\n",
    "from sklearn.ensemble import GradientBoostingClassifier, RandomForestRegressor\n",
    "from sklearn.metrics.pairwise import cosine_similarity\n",
    "from sklearn.metrics import roc_auc_score, roc_curve, log_loss\n",
    "from sklearn.model_selection import train_test_split\n",
    "from src.component import ComponentCreator\n",
    "from src.to_gexf import pd_to_gexf\n",
    "\n",
    "import matplotlib.pyplot as plt"
   ]
  },
  {
   "cell_type": "code",
   "execution_count": 2,
   "metadata": {
    "ExecuteTime": {
     "end_time": "2018-12-10T21:01:59.497115Z",
     "start_time": "2018-12-10T21:01:59.466781Z"
    }
   },
   "outputs": [],
   "source": [
    "client = MongoClient()\n",
    "papers = client.capstone.papers"
   ]
  },
  {
   "cell_type": "code",
   "execution_count": 3,
   "metadata": {
    "ExecuteTime": {
     "end_time": "2018-12-10T21:01:59.528899Z",
     "start_time": "2018-12-10T21:01:59.498376Z"
    }
   },
   "outputs": [],
   "source": [
    "comp_creator = ComponentCreator(collection=papers)"
   ]
  },
  {
   "cell_type": "code",
   "execution_count": 4,
   "metadata": {
    "ExecuteTime": {
     "end_time": "2018-12-10T21:01:59.558756Z",
     "start_time": "2018-12-10T21:01:59.530515Z"
    }
   },
   "outputs": [],
   "source": [
    "# retracted = pd.read_json('data/retracted_articles0', lines=-1)['id'].values"
   ]
  },
  {
   "cell_type": "code",
   "execution_count": 5,
   "metadata": {
    "ExecuteTime": {
     "end_time": "2018-12-10T21:01:59.589638Z",
     "start_time": "2018-12-10T21:01:59.560089Z"
    }
   },
   "outputs": [],
   "source": [
    "# E,X = comp_creator.edge_construct(retracted.iloc)\n",
    "# E['retracted_src'] = E['src'].apply(lambda x: x in retracted)"
   ]
  },
  {
   "cell_type": "code",
   "execution_count": 6,
   "metadata": {
    "ExecuteTime": {
     "end_time": "2018-12-10T21:01:59.907582Z",
     "start_time": "2018-12-10T21:01:59.869941Z"
    }
   },
   "outputs": [],
   "source": [
    "# X['retracted'] = X['_id'].apply(lambda x: 1 if x in retracted else 0)"
   ]
  },
  {
   "cell_type": "code",
   "execution_count": 7,
   "metadata": {
    "ExecuteTime": {
     "end_time": "2018-12-10T21:02:00.124839Z",
     "start_time": "2018-12-10T21:02:00.090151Z"
    }
   },
   "outputs": [],
   "source": [
    "# X['id'] = X['_id']\n",
    "# E['id'] = np.arange(len(E))"
   ]
  },
  {
   "cell_type": "code",
   "execution_count": null,
   "metadata": {
    "ExecuteTime": {
     "end_time": "2018-12-09T05:49:12.991765Z",
     "start_time": "2018-12-09T05:49:12.912831Z"
    }
   },
   "outputs": [],
   "source": []
  },
  {
   "cell_type": "code",
   "execution_count": 30,
   "metadata": {
    "ExecuteTime": {
     "end_time": "2018-12-10T21:19:42.570112Z",
     "start_time": "2018-12-10T21:19:42.533062Z"
    }
   },
   "outputs": [],
   "source": [
    "# E,X = comp_creator.edge_construct(retracted[np.random.choice(len(retracted), size=10)], depth=2, lim=10000)\n",
    "E,X = comp_creator.random_construct()\n",
    "# E['retracted_src'] = E['src'].apply(lambda x: x in retracted)\n",
    "# X['retracted'] = X['_id'].apply(lambda x: 1 if x in retracted else 0)"
   ]
  },
  {
   "cell_type": "code",
   "execution_count": 45,
   "metadata": {
    "ExecuteTime": {
     "end_time": "2018-12-10T21:22:11.489862Z",
     "start_time": "2018-12-10T21:21:25.916886Z"
    }
   },
   "outputs": [],
   "source": [
    "E,X,y = comp_creator.edge_construct(10, 4, get_influence=True, lim=1000)"
   ]
  },
  {
   "cell_type": "code",
   "execution_count": null,
   "metadata": {
    "ExecuteTime": {
     "end_time": "2018-12-10T21:20:16.408007Z",
     "start_time": "2018-12-10T21:20:16.369965Z"
    }
   },
   "outputs": [],
   "source": []
  },
  {
   "cell_type": "code",
   "execution_count": 46,
   "metadata": {
    "ExecuteTime": {
     "end_time": "2018-12-10T21:22:28.619699Z",
     "start_time": "2018-12-10T21:22:28.582508Z"
    }
   },
   "outputs": [
    {
     "data": {
      "text/plain": [
       "(2432, 3986)"
      ]
     },
     "execution_count": 46,
     "metadata": {},
     "output_type": "execute_result"
    }
   ],
   "source": [
    "X['id'] = X['_id']\n",
    "E['id'] = np.arange(len(E))\n",
    "len(X), len(E)"
   ]
  },
  {
   "cell_type": "code",
   "execution_count": null,
   "metadata": {
    "ExecuteTime": {
     "end_time": "2018-12-10T21:21:14.912978Z",
     "start_time": "2018-12-10T21:21:14.874730Z"
    }
   },
   "outputs": [],
   "source": []
  },
  {
   "cell_type": "code",
   "execution_count": 10,
   "metadata": {
    "ExecuteTime": {
     "end_time": "2018-12-10T21:02:03.140418Z",
     "start_time": "2018-12-10T21:02:03.105650Z"
    }
   },
   "outputs": [],
   "source": [
    "# edges = {Edge(network[src], network[dst]) for _, (src,dst) \n",
    "#          in E.loc[:, ['src','dst']].iterrows()\n",
    "#          if src in network and dst in network}"
   ]
  },
  {
   "cell_type": "code",
   "execution_count": 11,
   "metadata": {
    "ExecuteTime": {
     "end_time": "2018-12-10T21:02:03.173827Z",
     "start_time": "2018-12-10T21:02:03.141677Z"
    }
   },
   "outputs": [],
   "source": [
    "# pd_to_gexf(edges=E,nodes=X, path='retracted_full.gexf', node_attr={'year':'float','retracted':'integer'})"
   ]
  },
  {
   "cell_type": "code",
   "execution_count": 238,
   "metadata": {
    "ExecuteTime": {
     "end_time": "2018-12-11T15:53:07.503317Z",
     "start_time": "2018-12-11T15:53:07.418889Z"
    },
    "code_folding": [
     2,
     3,
     16,
     19,
     29,
     42,
     46,
     49,
     50,
     54,
     57,
     71,
     75,
     79,
     86,
     96,
     99,
     103,
     106,
     114,
     115,
     125,
     142,
     151,
     160,
     169,
     172,
     173,
     176,
     181,
     184,
     185,
     190,
     200,
     215,
     219,
     223,
     230,
     238,
     249,
     258,
     264,
     310
    ]
   },
   "outputs": [],
   "source": [
    "from sklearn.feature_extraction.text import TfidfVectorizer, TfidfTransformer\n",
    "from scipy.sparse import coo_matrix\n",
    "class Node():\n",
    "    def __init__(self, x):\n",
    "        self.id = x['_id'] if '_id' in x else '-1'\n",
    "        self.authors = (set((itm['ids'][0] if itm['ids'] else -1) \n",
    "                            if isinstance(itm, dict) else itm\n",
    "                            for itm in x['authors'])\n",
    "                        if 'authors' in x else set())\n",
    "        self.in_ = set(x['inCitations']) if 'inCitations' in x else set()\n",
    "        self.out_ = set(x['outCitations']) if 'outCitations' in x else set()\n",
    "        self.year = x['year'] if 'inCitations' in x else 2018\n",
    "        self.title = x['title'] if 'title' in x else ''\n",
    "        self.abstract = x['paperAbstract'] if 'paperAbstract' in x else ''\n",
    "        self.topics = set(x['entities']) if 'entities' in x else set()\n",
    "        \n",
    "    def __repr__(self):\n",
    "        return f'<{self.id}>'\n",
    "    \n",
    "    def to_string(self):\n",
    "        return f'''\n",
    "            {self.title}\n",
    "            {str(self.year).center(len(self.title))}\n",
    "            \n",
    "        {self.abstract}\n",
    "        \n",
    "        Tags: {', '.join(self.topics)}\n",
    "        '''\n",
    "    \n",
    "    def to_dict(self):\n",
    "        return {\n",
    "            'id':self.id,\n",
    "            'authors': self.authors,\n",
    "            'inCitations': self.in_,\n",
    "            'outCitations': self.out_,\n",
    "            'year': self.year,\n",
    "            'title': self.title,\n",
    "            'paperAbstract': self.abstract,\n",
    "            'entities': self.topics\n",
    "        }\n",
    "        \n",
    "    @property\n",
    "    def n_authors(self):\n",
    "        return len(self.authors)\n",
    "    \n",
    "    @staticmethod\n",
    "    def new_node(**kwargs):\n",
    "        return Node(kwargs)\n",
    "        \n",
    "class Edge():\n",
    "    def __init__(self, src, dst):\n",
    "        self.src = src\n",
    "        self.dst = dst\n",
    "        \n",
    "    def __repr__(self):\n",
    "        return f'Edge(src={self.src}, dst={self.dst})'\n",
    "    \n",
    "    def similarity(self, attr):\n",
    "        src_val = getattr(self.src, attr)\n",
    "        dst_val = getattr(self.dst, attr)\n",
    "        src_val = src_val if isinstance(src_val, str) else ' '.join(src_val)\n",
    "        dst_val = dst_val if isinstance(dst_val, str) else ' '.join(dst_val)\n",
    "        if len(src_val) == 0 or len(dst_val) == 0:\n",
    "            return 0\n",
    "        tfidf = TfidfVectorizer()\n",
    "        tfidf.fit([src_val, dst_val])\n",
    "        u,v = tfidf.transform([src_val, dst_val])\n",
    "        similarity = (u @ v.T)\n",
    "        return similarity.data[0] if similarity.count_nonzero() > 0 else 0\n",
    "            \n",
    "    @property\n",
    "    def topics(self):\n",
    "        return self.src.topics & self.dst.topics\n",
    "    \n",
    "    @property\n",
    "    def age(self):\n",
    "        return self.dst.year - self.src.year\n",
    "    \n",
    "class Network():\n",
    "    def __init__(self, nodes=[]):\n",
    "        self.nodes = {}\n",
    "        self.edges = set()\n",
    "        self._construct(nodes)\n",
    "        self._tfidf = {}\n",
    "        self._node_nlp = {}\n",
    "        \n",
    "    def _construct(self, nodes):\n",
    "        for node in nodes:\n",
    "            self.nodes[node.id] = node\n",
    "            for src in node.in_:\n",
    "                if src in self:\n",
    "                    self.edges |= {(src, node.id)} \n",
    "            for dst in node.out_:\n",
    "                if dst in self:\n",
    "                    self.edges |= {(node.id, dst)}\n",
    "        \n",
    "    def __getitem__(self, key):\n",
    "        return self.nodes[key]\n",
    "    \n",
    "    def __iter__(self):\n",
    "        for key in self.nodes:\n",
    "            yield key\n",
    "\n",
    "    def __contains__(self, key):\n",
    "        return key in self.nodes\n",
    "    \n",
    "    def _fit_nlp(self, attr):\n",
    "        self._tfidf[attr] = TfidfVectorizer(max_features=500)\n",
    "        self._tfidf[attr].fit(getattr(node, attr) if isinstance(getattr(node, attr), str)\n",
    "                              else ' '.join(getattr(node, attr))\n",
    "                              for node in self.nodes.values())\n",
    "        if attr in self._node_nlp:\n",
    "            del self._node_nlp[attr]\n",
    "        \n",
    "    def _run_nlp(self, attr):\n",
    "        for attr in self._tfidf:\n",
    "            for node in  self.nodes.values():\n",
    "                node_attr = getattr(node, attr)\n",
    "                if attr not in self._node_nlp:\n",
    "                    self._node_nlp[attr] = {}\n",
    "                if node.id not in self._node_nlp[attr]:\n",
    "                    self._node_nlp[attr][node.id] = self._tfidf[attr].transform([\n",
    "                        node_attr if isinstance(node_attr, str)\n",
    "                        else ' '.join(node_attr)])\n",
    "       \n",
    "    def compare(self, n, m, attr=None):\n",
    "        if attr is None:\n",
    "            return n == m\n",
    "        n_attr, m_attr = (getattr(self[x], attr) for x in (n,m))\n",
    "        if attr in self._tfidf:\n",
    "            n_, m_ = self._node_nlp[attr][n], self._node_nlp[attr][m]\n",
    "            similarity = (n_ @ m_.T)\n",
    "            return similarity.data[0] if similarity.count_nonzero() > 0 else 0\n",
    "        \n",
    "        if isinstance(n_attr, set):\n",
    "            return len(n_attr & m_attr)\n",
    "        \n",
    "        if isinstance(n_attr, (int, float)):\n",
    "            return abs(n_attr - m_attr)\n",
    "        \n",
    "        return n_attr == m_attr\n",
    "    \n",
    "    def compare_many(self, n, m, attr):\n",
    "        n_attr, m_attr = [np.array([getattr(self[x], attr) for x in u]) for u in (m,n)]\n",
    "        if n_attr.dtype.kind in 'fi':\n",
    "            return abs(n_attr - m_attr)\n",
    "        else:\n",
    "            return np.array([\n",
    "             self.compare(x,y, attr) for (x,y) in zip(n,m)   \n",
    "            ])\n",
    "        \n",
    "    def adj_matrix(self, idx=False):\n",
    "        n_nodes = len(self.nodes)\n",
    "        idx = dict(zip(self.nodes, range(n_nodes)))\n",
    "        r,c,d = zip(*((idx[u], idx[v], 1) \n",
    "              for u,v in self.edges\n",
    "              if u in idx and v in idx))\n",
    "        M = coo_matrix((d, (r,c)), shape=(n_nodes, n_nodes), dtype=int)\n",
    "        return M if not idx else (M, idx)\n",
    "    \n",
    "    def sim_matrix(self, attr):\n",
    "        n_nodes = len(self.nodes)\n",
    "        idx = dict(zip(self.nodes, range(n_nodes)))\n",
    "        r,c,d = zip(*((idx[u], idx[v], self.compare(u,v, attr)) \n",
    "              for u,v in self.edges\n",
    "              if u in idx and v in idx))\n",
    "        M = coo_matrix((d, (r,c)), shape=(n_nodes, n_nodes), dtype=int)\n",
    "        return M\n",
    "        \n",
    "    def add_nodes(self, nodes):\n",
    "        self._construct(nodes)\n",
    "    \n",
    "    def remove_nodes(self, nodes):\n",
    "        for node in nodes:\n",
    "            del self.nodes[node]\n",
    "        \n",
    "    def page_rank(self):\n",
    "        pg_ranks = power_iteration(self.adj_matrix(), 50)\n",
    "        return {node: rnk for node,rnk in zip(self.nodes.keys(), pg_ranks)}\n",
    "    \n",
    "    @property\n",
    "    def shape(self):\n",
    "        return f'(nodes x {len(self.nodes)}), (edges x {len(self.edges)})'\n",
    "    \n",
    "class Model():\n",
    "    def __init__(self, base_estimator, attributes=[]):\n",
    "        self.base_estimator = base_estimator\n",
    "        self.attributes = attributes\n",
    "        self._network = Network()\n",
    "    \n",
    "    def fit(self, X, y=None):\n",
    "        nodes = {Node(x) for _, x in X.iterrows()}\n",
    "        self._network = Network(nodes)\n",
    "        for attr in ['topics','title','abstract']:\n",
    "                self._network._fit_nlp(attr)\n",
    "                self._network._run_nlp(attr)\n",
    "        E,y = Splitter.create_edges(nodes, 5.0)\n",
    "        self._fit(E,y)\n",
    "        return self\n",
    "    \n",
    "    def _fit(self, E, y, n_passes=0):\n",
    "        X = self._transform(E)\n",
    "        self.base_estimator.fit(X, y)\n",
    "        if 0 < n_passes: \n",
    "            y_ = []\n",
    "            X_ = []\n",
    "            for x in E[:,1]:\n",
    "                recs,_ = self._recommend(x, 5)\n",
    "                X_.extend([[rec, x] for rec in recs])\n",
    "                y_.extend([1 if np.any([rec,x] == X) else 0 for rec in recs])\n",
    "            X_ = np.array([x for x in X_ if x in E[y.astype(bool)]])\n",
    "            y_ = np.zeros(len(X_))\n",
    "            X_,y_ = np.concatenate((E, X_)), np.append(y, y_)\n",
    "            self._fit(X_, y_, n_passes-1)\n",
    "        \n",
    "    def predict(self, X):\n",
    "        X_ = self._transform(X)\n",
    "        return self.base_estimator.predict(X_)\n",
    "            \n",
    "    def predict_proba(self, X):\n",
    "        X_ = self._transform(X)\n",
    "        return self.base_estimator.predict_proba(X_)\n",
    "         \n",
    "    def _transform(self, E):\n",
    "        X_ = np.zeros((E.shape[0], len(self.attributes)))\n",
    "        for i, attr in enumerate(self.attributes):\n",
    "            X_[:, i] = self._network.compare_many(E[:,0], E[:,1], attr)\n",
    "        X_[np.isnan(X_)] = 0\n",
    "        return X_\n",
    "    \n",
    "    def _update_network(self, X):\n",
    "        if isinstance(X, pd.DataFrame):\n",
    "            self._network.add_nodes(Node(x) for _, x in X.iterrows())\n",
    "        elif isinstance(X, (np.ndarray, list, tuple)):\n",
    "            self._network.add_nodes(Node(x) for x in X)\n",
    "        for attr in self._network._tfidf:\n",
    "            self._network._run_nlp(attr) \n",
    "        \n",
    "    def _recommend(self, x, k=6):\n",
    "        if isinstance(x, dict):\n",
    "            x = Node.new_node(**x)\n",
    "        if isinstance(x, str):\n",
    "            x = self._network[x]\n",
    "        E = np.array([[src, x.id] for src in self._network])\n",
    "        self._network.add_nodes([x])\n",
    "        pred = self.predict_proba(E)[:, 1]\n",
    "        sort_idxs = np.argsort(pred)[::-1]\n",
    "        return (E[sort_idxs][:k, 0], pred[sort_idxs][:k])\n",
    "    \n",
    "    def recommend(self, k=6, **kwargs):\n",
    "        for i, (_id, prb) in enumerate(zip(*self._recommend(kwargs, k))):\n",
    "            print(f'Match Probability: {prb*100:0.1f}%')\n",
    "            print(self._network[_id].to_string())\n",
    "            if i + 1 != k:\n",
    "                usr_input = input('Any key for next suggestion or \"exit\" to quit: ')\n",
    "            if \"exit\" in usr_input.lower():\n",
    "                break\n",
    "            \n",
    "    def _page_ranks(self, v):\n",
    "        adj_mat, idx = self._network.adj_matrix(idx=True)\n",
    "        pg_rank = power_iteration(adj_mat, 50)\n",
    "        idxs = np.array([idx[u] for u in v])\n",
    "        return pg_rank[idxs].ravel()\n",
    "         \n",
    "class Splitter():\n",
    "    @staticmethod\n",
    "    def split(X, random=0.0, **kwargs):\n",
    "        X0, Xt = train_test_split(X, **kwargs)\n",
    "        E0,y0 = Splitter.create_edges(X0, random=random)\n",
    "        Et,yt = Splitter.create_edges(Xt, random=random)\n",
    "        return X0,Xt, y0,yt, E0,Et\n",
    "        \n",
    "    @staticmethod\n",
    "    def create_edges(X, random=0.0):\n",
    "        if isinstance(X, pd.DataFrame):\n",
    "            X = {Node(x) for _,x in X.iterrows()}\n",
    "        return Splitter._construct_edges(X, int(random * len(X)))  \n",
    "        \n",
    "    @staticmethod\n",
    "    def _construct_edges(nodes, n_random):\n",
    "        edges = set()\n",
    "        node_ids = {node.id for node in nodes}\n",
    "        \n",
    "        src_idxs=np.random.choice(np.arange(len(nodes)), n_random)\n",
    "        dst_idxs=np.random.choice(np.arange(len(nodes)), n_random)\n",
    "\n",
    "        rand_srcs = np.array(['' for _ in range(n_random)], dtype='O')\n",
    "        rand_dsts = np.array(['' for _ in range(n_random)], dtype='O')\n",
    "        for i, node in enumerate(nodes):\n",
    "            src_match = (src_idxs == i)\n",
    "            dst_match = (dst_idxs == i)\n",
    "            if np.any(src_match):\n",
    "                rand_srcs[src_match] = node.id\n",
    "            if np.any(dst_match):\n",
    "                rand_dsts[dst_match] = node.id\n",
    "            for src in node.in_:\n",
    "                if src in node_ids:\n",
    "                    edges |= {(src, node.id)} \n",
    "            for dst in node.out_:\n",
    "                if dst in node_ids:\n",
    "                    edges |= {(node.id, dst)}\n",
    "                    \n",
    "        rand_E = np.array(list(zip(rand_srcs, rand_dsts)))\n",
    "        E = np.array(list(edges))\n",
    "        y = np.ones(len(E))\n",
    "        rand_y = np.zeros(len(rand_E))\n",
    "        E = np.append(E, rand_E, axis=0)\n",
    "        y = np.append(y, rand_y, axis=0)\n",
    "        return E,y\n",
    "    \n",
    "class Util():\n",
    "    @staticmethod\n",
    "    def some(seq):\n",
    "        for itm in seq:\n",
    "            if itm: return itm\n",
    "            \n",
    "    @staticmethod\n",
    "    def zip_value(seq, val):\n",
    "        for itm in seq:\n",
    "            yield (itm, val)\n",
    "       \n",
    "    @staticmethod\n",
    "    def power_iteration(X, n):\n",
    "        v = Util.unit_vect((X.shape[1],1))\n",
    "        for _ in range(n):\n",
    "            v_ = X @ v\n",
    "            v = v_ / np.linalg.norm(v)\n",
    "        return v\n",
    "\n",
    "    @staticmethod\n",
    "    def cosim(n, m, S, A, C=1e-5, k=100, nodelist=None):\n",
    "        A/= np.sqrt((A * A).sum(axis=1))\n",
    "        A = np.where(np.isfinite(A), A, 0)\n",
    "        p_ = p(n, A.shape[1])\n",
    "        sim = 0\n",
    "        for k_ in range(k):\n",
    "            sim += C**k_ * p_[m] * p_[n]\n",
    "            p_ = A @ p_\n",
    "        return sim\n",
    "\n",
    "    @staticmethod\n",
    "    def p(i, n):\n",
    "        return np.where(np.arange(n) == i, 1, 0)\n",
    "\n",
    "    @staticmethod\n",
    "    def unit_vect(shape):\n",
    "        v = np.random.rand(*shape)\n",
    "        v /= np.linalg.norm(v)\n",
    "        return v\n",
    "\n",
    "    @staticmethod\n",
    "    def pagerank(X, eps=1e-3, p=0.85):\n",
    "        if not isinstance(X, np.ndarray):\n",
    "            X = X.toarray()\n",
    "        X_ = (p * X) + (1 - p) / X.shape[1]\n",
    "        v, v_ = Util.unit_vect((X.shape[1], 1)), 1\n",
    "        while np.linalg.norm(v - v_) > eps:\n",
    "            v_ = v\n",
    "            v = X_ @ v / np.linalg.norm(v)\n",
    "        return v\n",
    "    \n",
    "    @staticmethod\n",
    "    def cosimrank(S, A, C=1e-5):\n",
    "        A,S = A.tocsr(), S.tocsr()\n",
    "        A/= np.sqrt((A * A).sum(axis=1))\n",
    "        A = np.where(np.isfinite(A), A, 0)\n",
    "        return C*(A.T @ S @ A) + np.identity(A.shape[0])\n"
   ]
  },
  {
   "cell_type": "code",
   "execution_count": 208,
   "metadata": {
    "ExecuteTime": {
     "end_time": "2018-12-10T23:17:20.817558Z",
     "start_time": "2018-12-10T23:17:20.778177Z"
    },
    "code_folding": [
     0,
     1
    ]
   },
   "outputs": [],
   "source": [
    "# class Model():\n",
    "#     def __init__(self, base_estimator, attributes=[]):\n",
    "#         self.base_estimator = base_estimator\n",
    "#         self.attributes = attributes\n",
    "#         self._network = Network()\n",
    "        \n",
    "#     def fit(self, X, y=None):\n",
    "#         nodes = {Node(x) for _, x in X.iterrows()}\n",
    "#         E,y = self._transform(nodes)\n",
    "#         X_ = np.zeros((y.shape[-1], len(self.attributes)))\n",
    "#         self._network = Network(nodes)\n",
    "#         for i, attr in enumerate(self.attributes):\n",
    "#             if attr in {'topics','title','abstract'}:\n",
    "#                 self._network._fit_nlp(attr)\n",
    "#             X_[:, i] = self._network.compare_many(E[:,0], E[:,1], attr)\n",
    "#         X_[np.isnan(X_)] = 0\n",
    "#         self.base_estimator.fit(X_, y)\n",
    "#         return self\n",
    "    \n",
    "#     def _fit(self, X, y=None, n_passes = 2):\n",
    "#         nodes = {Node(x) for _, x in X.iterrows()}\n",
    "#         E,y = self._transform(nodes)\n",
    "#         X_ = np.zeros((y.shape[-1], len(self.attributes)))\n",
    "#         self._network = Network(nodes)\n",
    "#         S = {}\n",
    "#         for attr in self.attributes:\n",
    "#             if attr in {'topics','title','abstract'}:\n",
    "#                 self._network._fit_nlp(attr)\n",
    "#             S[attr] = self._network.sim_matrix(attr)\n",
    "#         idxs = {v:i for i,v in enumerate(self._network)}\n",
    "#         for i, attr in enumerate(self.attributes):\n",
    "#             s = S[attr].toarray()\n",
    "#             X_[:, i] = [s[idxs[u], idxs[v]] for u,v in E]\n",
    "#         X_[np.isnan(X_)] = 0\n",
    "#         self.base_estimator.fit(X_, y)\n",
    "#         return self\n",
    "    \n",
    "#     def _fit_1(self, X):\n",
    "#         pass\n",
    "    \n",
    "#     def _fit_2(self, X, y):\n",
    "#         pass\n",
    "    \n",
    "#     def predict(self, X):\n",
    "#         X_ = np.zeros((X.shape[0], len(self.attributes)))\n",
    "#         for i, attr in enumerate(self.attributes):\n",
    "#             X_[:, i] = [self._network.compare(n,m, attr) for (n,m) in X]\n",
    "#         X_[np.isnan(X_)] = 0\n",
    "#         return self.base_estimator.predict(X_)\n",
    "            \n",
    "#     def predict_proba(self, X):\n",
    "#         X_ = np.zeros((X.shape[0], len(self.attributes)))\n",
    "#         for i, attr in enumerate(self.attributes):\n",
    "#             X_[:, i] = self._network.compare_many(X[:,0], X[:,1], attr)\n",
    "# #         X_[:, i+1] = self._page_ranks(X[:, 0])\n",
    "#         X_[np.isnan(X_)] = 0\n",
    "#         return self.base_estimator.predict_proba(X_)\n",
    "            \n",
    "#     def _transform(self, X):\n",
    "#         E, y = Splitter.create_edges(X, 5.0)\n",
    "#         return E,y\n",
    "    \n",
    "#     def _update_network(self, X):\n",
    "#         if isinstance(X, pd.DataFrame):\n",
    "#             self._network.add_nodes(Node(x) for _, x in X.iterrows())\n",
    "#         elif isinstance(X, (np.ndarray, list, tuple)):\n",
    "#             self._network.add_nodes(Node(x) for x in X)\n",
    "        \n",
    "#     def _recommend(self, x, k=6):\n",
    "#         if isinstance(x, dict):\n",
    "#             x = Node.new_node(**x)\n",
    "#         E = np.array([[src, x.id] for src in self._network])\n",
    "#         self._network.add_nodes([x])\n",
    "#         pred = self.predict_proba(E)[:, 1]\n",
    "#         sort_idxs = np.argsort(pred)[::-1]\n",
    "#         return (E[sort_idxs][:k, 0], pred[sort_idxs][:k])\n",
    "    \n",
    "#     def recommend(self, k=6, **kwargs):\n",
    "#         for i, (_id, prb) in enumerate(zip(*self._recommend(kwargs, k))):\n",
    "#             print(f'Match Probability: {prb*100:0.1f}%')\n",
    "#             print(self._network[_id].to_string())\n",
    "#             if i + 1 != k:\n",
    "#                 usr_input = input('Any key for next suggestion or \"exit\" to quit: ')\n",
    "#             if \"exit\" in usr_input.lower():\n",
    "#                 break\n",
    "            \n",
    "#     def _page_ranks(self, v):\n",
    "#         adj_mat, idx = self._network.adj_matrix(idx=True)\n",
    "#         pg_rank = power_iteration(adj_mat, 50)\n",
    "#         idxs = np.array([idx[u] for u in v])\n",
    "#         return pg_rank[idxs].ravel()\n",
    " "
   ]
  },
  {
   "cell_type": "code",
   "execution_count": 209,
   "metadata": {
    "ExecuteTime": {
     "end_time": "2018-12-10T23:17:21.202297Z",
     "start_time": "2018-12-10T23:17:21.161030Z"
    },
    "code_folding": []
   },
   "outputs": [],
   "source": [
    "import networkx as nx\n",
    "def cosimrank(S, A, C=1e-5):\n",
    "    A,S = A.tocsr(), S.tocsr()\n",
    "    A/= np.sqrt((A * A).sum(axis=1))\n",
    "    A = np.where(np.isfinite(A), A, 0)\n",
    "    return C*(A.T @ S @ A) + np.identity(A.shape[0])\n",
    "\n",
    "def simrank(S, A, C=1e-5):\n",
    "    return (cosimrank(S,A,C) - np.identity(A.shape[0])).max(axis=1)\n",
    "\n",
    "def adj_matrix(edges, nodelist=None):\n",
    "    g = nx.Graph(edges)\n",
    "    return nx.adj_matrix(g, nodelist=nodelist)\n",
    "\n",
    "def sim_matrix(nodes, mdl):\n",
    "    return mdl.similarity_matrix(nodes)\n",
    "\n",
    "def power_iteration(X, n):\n",
    "    v = unit_vect((X.shape[1],1))\n",
    "    for _ in range(n):\n",
    "        v_ = X @ v\n",
    "        v = v_ / np.linalg.norm(v)\n",
    "    return v\n",
    "\n",
    "def cosim(n, m, S, A, C=1e-5, k=100, nodelist=None):\n",
    "    A/= np.sqrt((A * A).sum(axis=1))\n",
    "    A = np.where(np.isfinite(A), A, 0)\n",
    "    p_ = p(n, A.shape[1])\n",
    "    sim = 0\n",
    "    for k_ in range(k):\n",
    "        sim += C**k_ * p_[m] * p_[n]\n",
    "        p_ = A @ p_\n",
    "    return sim\n",
    "\n",
    "def p(i, n):\n",
    "    return np.where(np.arange(n) == i, 1, 0)\n",
    "\n",
    "def unit_vect(shape):\n",
    "    v = np.random.rand(*shape)\n",
    "    v /= np.linalg.norm(v)\n",
    "    return v\n",
    "\n",
    "def pagerank(X, eps=1e-3, p=0.85):\n",
    "    if not isinstance(X, np.ndarray):\n",
    "        X = X.toarray()\n",
    "    X_ = (p * X) + (1 - p) / X.shape[1]\n",
    "    v, v_ = unit_vect((X.shape[1], 1)), 1\n",
    "    while np.linalg.norm(v - v_) > eps:\n",
    "        v_ = v\n",
    "        v = X_ @ v / np.linalg.norm(v)\n",
    "    return v"
   ]
  },
  {
   "cell_type": "code",
   "execution_count": 210,
   "metadata": {
    "ExecuteTime": {
     "end_time": "2018-12-10T23:17:24.025456Z",
     "start_time": "2018-12-10T23:17:23.256997Z"
    }
   },
   "outputs": [],
   "source": [
    "X0,Xt,y0,yt,E0,Et = Splitter.split(X, 50.0, random_state=5476)"
   ]
  },
  {
   "cell_type": "code",
   "execution_count": 239,
   "metadata": {
    "ExecuteTime": {
     "end_time": "2018-12-11T15:53:39.056813Z",
     "start_time": "2018-12-11T15:53:17.488348Z"
    }
   },
   "outputs": [
    {
     "name": "stdout",
     "output_type": "stream",
     "text": [
      "Automatic pdb calling has been turned ON\n"
     ]
    }
   ],
   "source": [
    "%pdb\n",
    "mdl = Model(GradientBoostingClassifier(n_estimators=5000, subsample=0.9, max_features='sqrt', max_depth=2), \n",
    "            ['topics','title','abstract','year','n_authors'])\n",
    "mdl.fit(X0.iloc[:, :])\n",
    "mdl._update_network(X0)\n",
    "mdl._update_network(Xt)"
   ]
  },
  {
   "cell_type": "code",
   "execution_count": 240,
   "metadata": {
    "ExecuteTime": {
     "end_time": "2018-12-11T15:53:48.836367Z",
     "start_time": "2018-12-11T15:53:47.390377Z"
    }
   },
   "outputs": [],
   "source": [
    "# x = mdl._network['dc77ded547b66a2a9e6277c436ce34dd9e8af0da']\n",
    "recs,prbs = mdl._recommend(x, 5000)"
   ]
  },
  {
   "cell_type": "code",
   "execution_count": 234,
   "metadata": {
    "ExecuteTime": {
     "end_time": "2018-12-11T00:36:51.830026Z",
     "start_time": "2018-12-11T00:36:51.798640Z"
    },
    "collapsed": true
   },
   "outputs": [
    {
     "name": "stdout",
     "output_type": "stream",
     "text": [
      "total matches possible: 43\n",
      "0 0.999417733535087\n",
      "1 0.9979310716253165\n",
      "2 0.9956725139220127\n",
      "4 0.993517733573869\n",
      "6 0.9920299209774561\n",
      "11 0.9835801308136352\n",
      "20 0.9687065929365622\n"
     ]
    }
   ],
   "source": [
    "print(f'total matches possible: {sum(1 for itm in (x.in_ | x.out_) if itm in mdl._network)}')\n",
    "for i,rec in enumerate(recs):\n",
    "    if rec in (x.in_ | x.out_):\n",
    "        print(i, prbs[i])"
   ]
  },
  {
   "cell_type": "code",
   "execution_count": 122,
   "metadata": {
    "ExecuteTime": {
     "end_time": "2018-12-10T21:38:41.920140Z",
     "start_time": "2018-12-10T21:38:41.881799Z"
    }
   },
   "outputs": [
    {
     "data": {
      "text/plain": [
       "12251"
      ]
     },
     "execution_count": 122,
     "metadata": {},
     "output_type": "execute_result"
    }
   ],
   "source": [
    "len(e0) + len(et) - len(E)"
   ]
  },
  {
   "cell_type": "code",
   "execution_count": 241,
   "metadata": {
    "ExecuteTime": {
     "end_time": "2018-12-11T15:55:14.853969Z",
     "start_time": "2018-12-11T15:53:52.397802Z"
    },
    "code_folding": []
   },
   "outputs": [],
   "source": [
    "pred_0 = mdl.predict_proba(E0)[:, 1]\n",
    "pred_t = mdl.predict_proba(Et)[:, 1]"
   ]
  },
  {
   "cell_type": "code",
   "execution_count": 242,
   "metadata": {
    "ExecuteTime": {
     "end_time": "2018-12-11T15:58:47.884534Z",
     "start_time": "2018-12-11T15:58:47.652933Z"
    }
   },
   "outputs": [
    {
     "name": "stdout",
     "output_type": "stream",
     "text": [
      "train: 0.9253823593998528\n",
      "test: 0.8484439698179098\n"
     ]
    },
    {
     "data": {
      "text/plain": [
       "[<matplotlib.lines.Line2D at 0x1a27e51fd0>]"
      ]
     },
     "execution_count": 242,
     "metadata": {},
     "output_type": "execute_result"
    },
    {
     "data": {
      "image/png": "[encoded data removed]",
      "text/plain": [
       "<Figure size 432x288 with 1 Axes>"
      ]
     },
     "metadata": {},
     "output_type": "display_data"
    }
   ],
   "source": [
    "print('train:', roc_auc_score(y_true=y0.astype(int), \n",
    "                              y_score=pred_0))\n",
    "print('test:', roc_auc_score(y_true=yt.astype(int), \n",
    "                             y_score=pred_t))\n",
    "tpr, fpr, thr = roc_curve(y_true=yt.astype(int), \n",
    "                          y_score=pred_t)\n",
    "plt.plot(tpr, fpr)\n",
    "tpr, fpr, thr = roc_curve(y_true=y0.astype(int), \n",
    "                          y_score=pred_0)\n",
    "plt.plot(tpr, fpr, color='orange')"
   ]
  },
  {
   "cell_type": "code",
   "execution_count": 237,
   "metadata": {
    "ExecuteTime": {
     "end_time": "2018-12-11T15:52:30.989270Z",
     "start_time": "2018-12-11T15:50:44.985325Z"
    }
   },
   "outputs": [
    {
     "ename": "KeyboardInterrupt",
     "evalue": "",
     "output_type": "error",
     "traceback": [
      "\u001b[0;31m---------------------------------------------------------------------------\u001b[0m",
      "\u001b[0;31mKeyboardInterrupt\u001b[0m                         Traceback (most recent call last)",
      "\u001b[0;32m<ipython-input-237-dafc7567020c>\u001b[0m in \u001b[0;36m<module>\u001b[0;34m()\u001b[0m\n\u001b[1;32m      4\u001b[0m \u001b[0;32mfor\u001b[0m \u001b[0mx\u001b[0m \u001b[0;32min\u001b[0m \u001b[0mXt\u001b[0m\u001b[0;34m[\u001b[0m\u001b[0;34m'_id'\u001b[0m\u001b[0;34m]\u001b[0m\u001b[0;34m.\u001b[0m\u001b[0miloc\u001b[0m\u001b[0;34m[\u001b[0m\u001b[0;34m:\u001b[0m\u001b[0;36m100\u001b[0m\u001b[0;34m]\u001b[0m\u001b[0;34m:\u001b[0m\u001b[0;34m\u001b[0m\u001b[0m\n\u001b[1;32m      5\u001b[0m     \u001b[0mx\u001b[0m \u001b[0;34m=\u001b[0m \u001b[0mmdl\u001b[0m\u001b[0;34m.\u001b[0m\u001b[0m_network\u001b[0m\u001b[0;34m[\u001b[0m\u001b[0mx\u001b[0m\u001b[0;34m]\u001b[0m\u001b[0;34m\u001b[0m\u001b[0m\n\u001b[0;32m----> 6\u001b[0;31m     \u001b[0mrecs\u001b[0m\u001b[0;34m,\u001b[0m \u001b[0mprbs\u001b[0m \u001b[0;34m=\u001b[0m \u001b[0mmdl\u001b[0m\u001b[0;34m.\u001b[0m\u001b[0m_recommend\u001b[0m\u001b[0;34m(\u001b[0m\u001b[0mx\u001b[0m\u001b[0;34m,\u001b[0m \u001b[0;36m6\u001b[0m\u001b[0;34m)\u001b[0m\u001b[0;34m\u001b[0m\u001b[0m\n\u001b[0m\u001b[1;32m      7\u001b[0m     \u001b[0mlst\u001b[0m\u001b[0;34m.\u001b[0m\u001b[0mappend\u001b[0m\u001b[0;34m(\u001b[0m\u001b[0msum\u001b[0m\u001b[0;34m(\u001b[0m\u001b[0;36m1\u001b[0m \u001b[0;32mif\u001b[0m \u001b[0mrec\u001b[0m \u001b[0;32min\u001b[0m \u001b[0;34m(\u001b[0m\u001b[0mx\u001b[0m\u001b[0;34m.\u001b[0m\u001b[0min_\u001b[0m \u001b[0;34m|\u001b[0m \u001b[0mx\u001b[0m\u001b[0;34m.\u001b[0m\u001b[0mout_\u001b[0m\u001b[0;34m)\u001b[0m \u001b[0;32melse\u001b[0m \u001b[0;36m0\u001b[0m \u001b[0;32mfor\u001b[0m \u001b[0mrec\u001b[0m \u001b[0;32min\u001b[0m \u001b[0mrecs\u001b[0m\u001b[0;34m)\u001b[0m\u001b[0;34m)\u001b[0m\u001b[0;34m\u001b[0m\u001b[0m\n\u001b[1;32m      8\u001b[0m     lst2.append(lst[-1]/max(1, min(\n",
      "\u001b[0;32m<ipython-input-207-1004c52c7d4c>\u001b[0m in \u001b[0;36m_recommend\u001b[0;34m(self, x, k)\u001b[0m\n\u001b[1;32m    244\u001b[0m         \u001b[0mE\u001b[0m \u001b[0;34m=\u001b[0m \u001b[0mnp\u001b[0m\u001b[0;34m.\u001b[0m\u001b[0marray\u001b[0m\u001b[0;34m(\u001b[0m\u001b[0;34m[\u001b[0m\u001b[0;34m[\u001b[0m\u001b[0msrc\u001b[0m\u001b[0;34m,\u001b[0m \u001b[0mx\u001b[0m\u001b[0;34m.\u001b[0m\u001b[0mid\u001b[0m\u001b[0;34m]\u001b[0m \u001b[0;32mfor\u001b[0m \u001b[0msrc\u001b[0m \u001b[0;32min\u001b[0m \u001b[0mself\u001b[0m\u001b[0;34m.\u001b[0m\u001b[0m_network\u001b[0m\u001b[0;34m]\u001b[0m\u001b[0;34m)\u001b[0m\u001b[0;34m\u001b[0m\u001b[0m\n\u001b[1;32m    245\u001b[0m         \u001b[0mself\u001b[0m\u001b[0;34m.\u001b[0m\u001b[0m_network\u001b[0m\u001b[0;34m.\u001b[0m\u001b[0madd_nodes\u001b[0m\u001b[0;34m(\u001b[0m\u001b[0;34m[\u001b[0m\u001b[0mx\u001b[0m\u001b[0;34m]\u001b[0m\u001b[0;34m)\u001b[0m\u001b[0;34m\u001b[0m\u001b[0m\n\u001b[0;32m--> 246\u001b[0;31m         \u001b[0mpred\u001b[0m \u001b[0;34m=\u001b[0m \u001b[0mself\u001b[0m\u001b[0;34m.\u001b[0m\u001b[0mpredict_proba\u001b[0m\u001b[0;34m(\u001b[0m\u001b[0mE\u001b[0m\u001b[0;34m)\u001b[0m\u001b[0;34m[\u001b[0m\u001b[0;34m:\u001b[0m\u001b[0;34m,\u001b[0m \u001b[0;36m1\u001b[0m\u001b[0;34m]\u001b[0m\u001b[0;34m\u001b[0m\u001b[0m\n\u001b[0m\u001b[1;32m    247\u001b[0m         \u001b[0msort_idxs\u001b[0m \u001b[0;34m=\u001b[0m \u001b[0mnp\u001b[0m\u001b[0;34m.\u001b[0m\u001b[0margsort\u001b[0m\u001b[0;34m(\u001b[0m\u001b[0mpred\u001b[0m\u001b[0;34m)\u001b[0m\u001b[0;34m[\u001b[0m\u001b[0;34m:\u001b[0m\u001b[0;34m:\u001b[0m\u001b[0;34m-\u001b[0m\u001b[0;36m1\u001b[0m\u001b[0;34m]\u001b[0m\u001b[0;34m\u001b[0m\u001b[0m\n\u001b[1;32m    248\u001b[0m         \u001b[0;32mreturn\u001b[0m \u001b[0;34m(\u001b[0m\u001b[0mE\u001b[0m\u001b[0;34m[\u001b[0m\u001b[0msort_idxs\u001b[0m\u001b[0;34m]\u001b[0m\u001b[0;34m[\u001b[0m\u001b[0;34m:\u001b[0m\u001b[0mk\u001b[0m\u001b[0;34m,\u001b[0m \u001b[0;36m0\u001b[0m\u001b[0;34m]\u001b[0m\u001b[0;34m,\u001b[0m \u001b[0mpred\u001b[0m\u001b[0;34m[\u001b[0m\u001b[0msort_idxs\u001b[0m\u001b[0;34m]\u001b[0m\u001b[0;34m[\u001b[0m\u001b[0;34m:\u001b[0m\u001b[0mk\u001b[0m\u001b[0;34m]\u001b[0m\u001b[0;34m)\u001b[0m\u001b[0;34m\u001b[0m\u001b[0m\n",
      "\u001b[0;32m<ipython-input-207-1004c52c7d4c>\u001b[0m in \u001b[0;36mpredict_proba\u001b[0;34m(self, X)\u001b[0m\n\u001b[1;32m    219\u001b[0m \u001b[0;34m\u001b[0m\u001b[0m\n\u001b[1;32m    220\u001b[0m     \u001b[0;32mdef\u001b[0m \u001b[0mpredict_proba\u001b[0m\u001b[0;34m(\u001b[0m\u001b[0mself\u001b[0m\u001b[0;34m,\u001b[0m \u001b[0mX\u001b[0m\u001b[0;34m)\u001b[0m\u001b[0;34m:\u001b[0m\u001b[0;34m\u001b[0m\u001b[0m\n\u001b[0;32m--> 221\u001b[0;31m         \u001b[0mX_\u001b[0m \u001b[0;34m=\u001b[0m \u001b[0mself\u001b[0m\u001b[0;34m.\u001b[0m\u001b[0m_transform\u001b[0m\u001b[0;34m(\u001b[0m\u001b[0mX\u001b[0m\u001b[0;34m)\u001b[0m\u001b[0;34m\u001b[0m\u001b[0m\n\u001b[0m\u001b[1;32m    222\u001b[0m         \u001b[0;32mreturn\u001b[0m \u001b[0mself\u001b[0m\u001b[0;34m.\u001b[0m\u001b[0mbase_estimator\u001b[0m\u001b[0;34m.\u001b[0m\u001b[0mpredict_proba\u001b[0m\u001b[0;34m(\u001b[0m\u001b[0mX_\u001b[0m\u001b[0;34m)\u001b[0m\u001b[0;34m\u001b[0m\u001b[0m\n\u001b[1;32m    223\u001b[0m \u001b[0;34m\u001b[0m\u001b[0m\n",
      "\u001b[0;32m<ipython-input-207-1004c52c7d4c>\u001b[0m in \u001b[0;36m_transform\u001b[0;34m(self, E)\u001b[0m\n\u001b[1;32m    225\u001b[0m         \u001b[0mX_\u001b[0m \u001b[0;34m=\u001b[0m \u001b[0mnp\u001b[0m\u001b[0;34m.\u001b[0m\u001b[0mzeros\u001b[0m\u001b[0;34m(\u001b[0m\u001b[0;34m(\u001b[0m\u001b[0mE\u001b[0m\u001b[0;34m.\u001b[0m\u001b[0mshape\u001b[0m\u001b[0;34m[\u001b[0m\u001b[0;36m0\u001b[0m\u001b[0;34m]\u001b[0m\u001b[0;34m,\u001b[0m \u001b[0mlen\u001b[0m\u001b[0;34m(\u001b[0m\u001b[0mself\u001b[0m\u001b[0;34m.\u001b[0m\u001b[0mattributes\u001b[0m\u001b[0;34m)\u001b[0m\u001b[0;34m)\u001b[0m\u001b[0;34m)\u001b[0m\u001b[0;34m\u001b[0m\u001b[0m\n\u001b[1;32m    226\u001b[0m         \u001b[0;32mfor\u001b[0m \u001b[0mi\u001b[0m\u001b[0;34m,\u001b[0m \u001b[0mattr\u001b[0m \u001b[0;32min\u001b[0m \u001b[0menumerate\u001b[0m\u001b[0;34m(\u001b[0m\u001b[0mself\u001b[0m\u001b[0;34m.\u001b[0m\u001b[0mattributes\u001b[0m\u001b[0;34m)\u001b[0m\u001b[0;34m:\u001b[0m\u001b[0;34m\u001b[0m\u001b[0m\n\u001b[0;32m--> 227\u001b[0;31m             \u001b[0mX_\u001b[0m\u001b[0;34m[\u001b[0m\u001b[0;34m:\u001b[0m\u001b[0;34m,\u001b[0m \u001b[0mi\u001b[0m\u001b[0;34m]\u001b[0m \u001b[0;34m=\u001b[0m \u001b[0mself\u001b[0m\u001b[0;34m.\u001b[0m\u001b[0m_network\u001b[0m\u001b[0;34m.\u001b[0m\u001b[0mcompare_many\u001b[0m\u001b[0;34m(\u001b[0m\u001b[0mE\u001b[0m\u001b[0;34m[\u001b[0m\u001b[0;34m:\u001b[0m\u001b[0;34m,\u001b[0m\u001b[0;36m0\u001b[0m\u001b[0;34m]\u001b[0m\u001b[0;34m,\u001b[0m \u001b[0mE\u001b[0m\u001b[0;34m[\u001b[0m\u001b[0;34m:\u001b[0m\u001b[0;34m,\u001b[0m\u001b[0;36m1\u001b[0m\u001b[0;34m]\u001b[0m\u001b[0;34m,\u001b[0m \u001b[0mattr\u001b[0m\u001b[0;34m)\u001b[0m\u001b[0;34m\u001b[0m\u001b[0m\n\u001b[0m\u001b[1;32m    228\u001b[0m         \u001b[0mX_\u001b[0m\u001b[0;34m[\u001b[0m\u001b[0mnp\u001b[0m\u001b[0;34m.\u001b[0m\u001b[0misnan\u001b[0m\u001b[0;34m(\u001b[0m\u001b[0mX_\u001b[0m\u001b[0;34m)\u001b[0m\u001b[0;34m]\u001b[0m \u001b[0;34m=\u001b[0m \u001b[0;36m0\u001b[0m\u001b[0;34m\u001b[0m\u001b[0m\n\u001b[1;32m    229\u001b[0m         \u001b[0;32mreturn\u001b[0m \u001b[0mX_\u001b[0m\u001b[0;34m\u001b[0m\u001b[0m\n",
      "\u001b[0;32m<ipython-input-207-1004c52c7d4c>\u001b[0m in \u001b[0;36mcompare_many\u001b[0;34m(self, n, m, attr)\u001b[0m\n\u001b[1;32m    147\u001b[0m         \u001b[0;32melse\u001b[0m\u001b[0;34m:\u001b[0m\u001b[0;34m\u001b[0m\u001b[0m\n\u001b[1;32m    148\u001b[0m             return np.array([\n\u001b[0;32m--> 149\u001b[0;31m              \u001b[0mself\u001b[0m\u001b[0;34m.\u001b[0m\u001b[0mcompare\u001b[0m\u001b[0;34m(\u001b[0m\u001b[0mx\u001b[0m\u001b[0;34m,\u001b[0m\u001b[0my\u001b[0m\u001b[0;34m,\u001b[0m \u001b[0mattr\u001b[0m\u001b[0;34m)\u001b[0m \u001b[0;32mfor\u001b[0m \u001b[0;34m(\u001b[0m\u001b[0mx\u001b[0m\u001b[0;34m,\u001b[0m\u001b[0my\u001b[0m\u001b[0;34m)\u001b[0m \u001b[0;32min\u001b[0m \u001b[0mzip\u001b[0m\u001b[0;34m(\u001b[0m\u001b[0mn\u001b[0m\u001b[0;34m,\u001b[0m\u001b[0mm\u001b[0m\u001b[0;34m)\u001b[0m\u001b[0;34m\u001b[0m\u001b[0m\n\u001b[0m\u001b[1;32m    150\u001b[0m             ])\n\u001b[1;32m    151\u001b[0m \u001b[0;34m\u001b[0m\u001b[0m\n",
      "\u001b[0;32m<ipython-input-207-1004c52c7d4c>\u001b[0m in \u001b[0;36m<listcomp>\u001b[0;34m(.0)\u001b[0m\n\u001b[1;32m    147\u001b[0m         \u001b[0;32melse\u001b[0m\u001b[0;34m:\u001b[0m\u001b[0;34m\u001b[0m\u001b[0m\n\u001b[1;32m    148\u001b[0m             return np.array([\n\u001b[0;32m--> 149\u001b[0;31m              \u001b[0mself\u001b[0m\u001b[0;34m.\u001b[0m\u001b[0mcompare\u001b[0m\u001b[0;34m(\u001b[0m\u001b[0mx\u001b[0m\u001b[0;34m,\u001b[0m\u001b[0my\u001b[0m\u001b[0;34m,\u001b[0m \u001b[0mattr\u001b[0m\u001b[0;34m)\u001b[0m \u001b[0;32mfor\u001b[0m \u001b[0;34m(\u001b[0m\u001b[0mx\u001b[0m\u001b[0;34m,\u001b[0m\u001b[0my\u001b[0m\u001b[0;34m)\u001b[0m \u001b[0;32min\u001b[0m \u001b[0mzip\u001b[0m\u001b[0;34m(\u001b[0m\u001b[0mn\u001b[0m\u001b[0;34m,\u001b[0m\u001b[0mm\u001b[0m\u001b[0;34m)\u001b[0m\u001b[0;34m\u001b[0m\u001b[0m\n\u001b[0m\u001b[1;32m    150\u001b[0m             ])\n\u001b[1;32m    151\u001b[0m \u001b[0;34m\u001b[0m\u001b[0m\n",
      "\u001b[0;32m<ipython-input-207-1004c52c7d4c>\u001b[0m in \u001b[0;36mcompare\u001b[0;34m(self, n, m, attr)\u001b[0m\n\u001b[1;32m    130\u001b[0m         \u001b[0;32mif\u001b[0m \u001b[0mattr\u001b[0m \u001b[0;32min\u001b[0m \u001b[0mself\u001b[0m\u001b[0;34m.\u001b[0m\u001b[0m_tfidf\u001b[0m\u001b[0;34m:\u001b[0m\u001b[0;34m\u001b[0m\u001b[0m\n\u001b[1;32m    131\u001b[0m             \u001b[0mn_\u001b[0m\u001b[0;34m,\u001b[0m \u001b[0mm_\u001b[0m \u001b[0;34m=\u001b[0m \u001b[0mself\u001b[0m\u001b[0;34m.\u001b[0m\u001b[0m_node_nlp\u001b[0m\u001b[0;34m[\u001b[0m\u001b[0mattr\u001b[0m\u001b[0;34m]\u001b[0m\u001b[0;34m[\u001b[0m\u001b[0mn\u001b[0m\u001b[0;34m]\u001b[0m\u001b[0;34m,\u001b[0m \u001b[0mself\u001b[0m\u001b[0;34m.\u001b[0m\u001b[0m_node_nlp\u001b[0m\u001b[0;34m[\u001b[0m\u001b[0mattr\u001b[0m\u001b[0;34m]\u001b[0m\u001b[0;34m[\u001b[0m\u001b[0mm\u001b[0m\u001b[0;34m]\u001b[0m\u001b[0;34m\u001b[0m\u001b[0m\n\u001b[0;32m--> 132\u001b[0;31m             \u001b[0msimilarity\u001b[0m \u001b[0;34m=\u001b[0m \u001b[0;34m(\u001b[0m\u001b[0mn_\u001b[0m \u001b[0;34m@\u001b[0m \u001b[0mm_\u001b[0m\u001b[0;34m.\u001b[0m\u001b[0mT\u001b[0m\u001b[0;34m)\u001b[0m\u001b[0;34m\u001b[0m\u001b[0m\n\u001b[0m\u001b[1;32m    133\u001b[0m             \u001b[0;32mreturn\u001b[0m \u001b[0msimilarity\u001b[0m\u001b[0;34m.\u001b[0m\u001b[0mdata\u001b[0m\u001b[0;34m[\u001b[0m\u001b[0;36m0\u001b[0m\u001b[0;34m]\u001b[0m \u001b[0;32mif\u001b[0m \u001b[0msimilarity\u001b[0m\u001b[0;34m.\u001b[0m\u001b[0mcount_nonzero\u001b[0m\u001b[0;34m(\u001b[0m\u001b[0;34m)\u001b[0m \u001b[0;34m>\u001b[0m \u001b[0;36m0\u001b[0m \u001b[0;32melse\u001b[0m \u001b[0;36m0\u001b[0m\u001b[0;34m\u001b[0m\u001b[0m\n\u001b[1;32m    134\u001b[0m \u001b[0;34m\u001b[0m\u001b[0m\n",
      "\u001b[0;32m~/anaconda3/lib/python3.6/site-packages/scipy/sparse/base.py\u001b[0m in \u001b[0;36m__getattr__\u001b[0;34m(self, attr)\u001b[0m\n\u001b[1;32m    674\u001b[0m             \u001b[0;32mreturn\u001b[0m \u001b[0mself\u001b[0m\u001b[0;34m.\u001b[0m\u001b[0mtoarray\u001b[0m\u001b[0;34m(\u001b[0m\u001b[0;34m)\u001b[0m\u001b[0;34m\u001b[0m\u001b[0m\n\u001b[1;32m    675\u001b[0m         \u001b[0;32melif\u001b[0m \u001b[0mattr\u001b[0m \u001b[0;34m==\u001b[0m \u001b[0;34m'T'\u001b[0m\u001b[0;34m:\u001b[0m\u001b[0;34m\u001b[0m\u001b[0m\n\u001b[0;32m--> 676\u001b[0;31m             \u001b[0;32mreturn\u001b[0m \u001b[0mself\u001b[0m\u001b[0;34m.\u001b[0m\u001b[0mtranspose\u001b[0m\u001b[0;34m(\u001b[0m\u001b[0;34m)\u001b[0m\u001b[0;34m\u001b[0m\u001b[0m\n\u001b[0m\u001b[1;32m    677\u001b[0m         \u001b[0;32melif\u001b[0m \u001b[0mattr\u001b[0m \u001b[0;34m==\u001b[0m \u001b[0;34m'H'\u001b[0m\u001b[0;34m:\u001b[0m\u001b[0;34m\u001b[0m\u001b[0m\n\u001b[1;32m    678\u001b[0m             \u001b[0;32mreturn\u001b[0m \u001b[0mself\u001b[0m\u001b[0;34m.\u001b[0m\u001b[0mgetH\u001b[0m\u001b[0;34m(\u001b[0m\u001b[0;34m)\u001b[0m\u001b[0;34m\u001b[0m\u001b[0m\n",
      "\u001b[0;32m~/anaconda3/lib/python3.6/site-packages/scipy/sparse/csr.py\u001b[0m in \u001b[0;36mtranspose\u001b[0;34m(self, axes, copy)\u001b[0m\n\u001b[1;32m    139\u001b[0m         \u001b[0;32mfrom\u001b[0m \u001b[0;34m.\u001b[0m\u001b[0mcsc\u001b[0m \u001b[0;32mimport\u001b[0m \u001b[0mcsc_matrix\u001b[0m\u001b[0;34m\u001b[0m\u001b[0m\n\u001b[1;32m    140\u001b[0m         return csc_matrix((self.data, self.indices,\n\u001b[0;32m--> 141\u001b[0;31m                            self.indptr), shape=(N, M), copy=copy)\n\u001b[0m\u001b[1;32m    142\u001b[0m \u001b[0;34m\u001b[0m\u001b[0m\n\u001b[1;32m    143\u001b[0m     \u001b[0mtranspose\u001b[0m\u001b[0;34m.\u001b[0m\u001b[0m__doc__\u001b[0m \u001b[0;34m=\u001b[0m \u001b[0mspmatrix\u001b[0m\u001b[0;34m.\u001b[0m\u001b[0mtranspose\u001b[0m\u001b[0;34m.\u001b[0m\u001b[0m__doc__\u001b[0m\u001b[0;34m\u001b[0m\u001b[0m\n",
      "\u001b[0;32m~/anaconda3/lib/python3.6/site-packages/scipy/sparse/compressed.py\u001b[0m in \u001b[0;36m__init__\u001b[0;34m(self, arg1, shape, dtype, copy)\u001b[0m\n\u001b[1;32m     60\u001b[0m                     \u001b[0;32mif\u001b[0m \u001b[0mshape\u001b[0m \u001b[0;32mis\u001b[0m \u001b[0;32mnot\u001b[0m \u001b[0;32mNone\u001b[0m\u001b[0;34m:\u001b[0m\u001b[0;34m\u001b[0m\u001b[0m\n\u001b[1;32m     61\u001b[0m                         \u001b[0mmaxval\u001b[0m \u001b[0;34m=\u001b[0m \u001b[0mmax\u001b[0m\u001b[0;34m(\u001b[0m\u001b[0mshape\u001b[0m\u001b[0;34m)\u001b[0m\u001b[0;34m\u001b[0m\u001b[0m\n\u001b[0;32m---> 62\u001b[0;31m                     \u001b[0midx_dtype\u001b[0m \u001b[0;34m=\u001b[0m \u001b[0mget_index_dtype\u001b[0m\u001b[0;34m(\u001b[0m\u001b[0;34m(\u001b[0m\u001b[0mindices\u001b[0m\u001b[0;34m,\u001b[0m \u001b[0mindptr\u001b[0m\u001b[0;34m)\u001b[0m\u001b[0;34m,\u001b[0m \u001b[0mmaxval\u001b[0m\u001b[0;34m=\u001b[0m\u001b[0mmaxval\u001b[0m\u001b[0;34m,\u001b[0m \u001b[0mcheck_contents\u001b[0m\u001b[0;34m=\u001b[0m\u001b[0;32mTrue\u001b[0m\u001b[0;34m)\u001b[0m\u001b[0;34m\u001b[0m\u001b[0m\n\u001b[0m\u001b[1;32m     63\u001b[0m \u001b[0;34m\u001b[0m\u001b[0m\n\u001b[1;32m     64\u001b[0m                     \u001b[0mself\u001b[0m\u001b[0;34m.\u001b[0m\u001b[0mindices\u001b[0m \u001b[0;34m=\u001b[0m \u001b[0mnp\u001b[0m\u001b[0;34m.\u001b[0m\u001b[0marray\u001b[0m\u001b[0;34m(\u001b[0m\u001b[0mindices\u001b[0m\u001b[0;34m,\u001b[0m \u001b[0mcopy\u001b[0m\u001b[0;34m=\u001b[0m\u001b[0mcopy\u001b[0m\u001b[0;34m,\u001b[0m \u001b[0mdtype\u001b[0m\u001b[0;34m=\u001b[0m\u001b[0midx_dtype\u001b[0m\u001b[0;34m)\u001b[0m\u001b[0;34m\u001b[0m\u001b[0m\n",
      "\u001b[0;32m~/anaconda3/lib/python3.6/site-packages/scipy/sparse/sputils.py\u001b[0m in \u001b[0;36mget_index_dtype\u001b[0;34m(arrays, maxval, check_contents)\u001b[0m\n\u001b[1;32m    143\u001b[0m     \u001b[0mint32max\u001b[0m \u001b[0;34m=\u001b[0m \u001b[0mnp\u001b[0m\u001b[0;34m.\u001b[0m\u001b[0miinfo\u001b[0m\u001b[0;34m(\u001b[0m\u001b[0mnp\u001b[0m\u001b[0;34m.\u001b[0m\u001b[0mint32\u001b[0m\u001b[0;34m)\u001b[0m\u001b[0;34m.\u001b[0m\u001b[0mmax\u001b[0m\u001b[0;34m\u001b[0m\u001b[0m\n\u001b[1;32m    144\u001b[0m \u001b[0;34m\u001b[0m\u001b[0m\n\u001b[0;32m--> 145\u001b[0;31m     \u001b[0mdtype\u001b[0m \u001b[0;34m=\u001b[0m \u001b[0mnp\u001b[0m\u001b[0;34m.\u001b[0m\u001b[0mintc\u001b[0m\u001b[0;34m\u001b[0m\u001b[0m\n\u001b[0m\u001b[1;32m    146\u001b[0m     \u001b[0;32mif\u001b[0m \u001b[0mmaxval\u001b[0m \u001b[0;32mis\u001b[0m \u001b[0;32mnot\u001b[0m \u001b[0;32mNone\u001b[0m\u001b[0;34m:\u001b[0m\u001b[0;34m\u001b[0m\u001b[0m\n\u001b[1;32m    147\u001b[0m         \u001b[0;32mif\u001b[0m \u001b[0mmaxval\u001b[0m \u001b[0;34m>\u001b[0m \u001b[0mint32max\u001b[0m\u001b[0;34m:\u001b[0m\u001b[0;34m\u001b[0m\u001b[0m\n",
      "\u001b[0;31mKeyboardInterrupt\u001b[0m: "
     ]
    }
   ],
   "source": [
    "lst = []\n",
    "lst2 = []\n",
    "# mdl._update_network(Xt)\n",
    "for x in Xt['_id'].iloc[:100]:\n",
    "    x = mdl._network[x]\n",
    "    recs, prbs = mdl._recommend(x, 6)\n",
    "    lst.append(sum(1 if rec in (x.in_ | x.out_) else 0 for rec in recs))\n",
    "    lst2.append(lst[-1]/max(1, min(\n",
    "        len((x.in_ | x.out_) & set(mdl._network.nodes.keys())), \n",
    "            len(recs))))"
   ]
  },
  {
   "cell_type": "code",
   "execution_count": 230,
   "metadata": {
    "ExecuteTime": {
     "end_time": "2018-12-11T00:32:07.419194Z",
     "start_time": "2018-12-11T00:32:07.381188Z"
    }
   },
   "outputs": [
    {
     "data": {
      "text/plain": [
       "0.26376010737628386"
      ]
     },
     "execution_count": 230,
     "metadata": {},
     "output_type": "execute_result"
    }
   ],
   "source": [
    "np.mean(lst2)"
   ]
  },
  {
   "cell_type": "code",
   "execution_count": 226,
   "metadata": {
    "ExecuteTime": {
     "end_time": "2018-12-10T23:23:01.677818Z",
     "start_time": "2018-12-10T23:23:01.637781Z"
    }
   },
   "outputs": [
    {
     "data": {
      "text/plain": [
       "'(nodes x 2432), (edges x 6482)'"
      ]
     },
     "execution_count": 226,
     "metadata": {},
     "output_type": "execute_result"
    }
   ],
   "source": [
    "mdl._network.shape"
   ]
  },
  {
   "cell_type": "code",
   "execution_count": null,
   "metadata": {},
   "outputs": [],
   "source": []
  },
  {
   "cell_type": "code",
   "execution_count": null,
   "metadata": {},
   "outputs": [],
   "source": []
  },
  {
   "cell_type": "code",
   "execution_count": null,
   "metadata": {},
   "outputs": [],
   "source": []
  },
  {
   "cell_type": "code",
   "execution_count": null,
   "metadata": {},
   "outputs": [],
   "source": []
  },
  {
   "cell_type": "code",
   "execution_count": null,
   "metadata": {
    "ExecuteTime": {
     "end_time": "2018-12-10T02:35:07.691927Z",
     "start_time": "2018-12-10T02:35:05.312065Z"
    }
   },
   "outputs": [],
   "source": [
    "splitter = EdgeSplitter()\n",
    "X0, Xt, E0, Et = splitter.split(X, E, 5.0)\n",
    "y0, yt = E0['edge'], Et['edge']\n",
    "for e in (E0,Et): e.drop('edge', axis=1, inplace=True)"
   ]
  },
  {
   "cell_type": "code",
   "execution_count": null,
   "metadata": {
    "ExecuteTime": {
     "end_time": "2018-12-10T02:35:10.543091Z",
     "start_time": "2018-12-10T02:35:08.195030Z"
    }
   },
   "outputs": [],
   "source": [
    "nodes = {Node(x) for _, x in X0.iterrows()}\n",
    "network = Network(nodes)\n",
    "for attr in ('topics', 'title', 'abstract'):\n",
    "    network._fit_nlp(attr)"
   ]
  },
  {
   "cell_type": "code",
   "execution_count": null,
   "metadata": {
    "ExecuteTime": {
     "end_time": "2018-12-10T02:38:07.823907Z",
     "start_time": "2018-12-10T02:35:33.565249Z"
    }
   },
   "outputs": [],
   "source": [
    "for attr in ('topics','title','abstract','year','authors','n_authors'):\n",
    "    E0[f'{attr}_simimilarity'] = [network.compare(row[0],row[1], attr) for _,row in E0.iterrows()]\n",
    "E0.fillna(0, inplace=True)"
   ]
  },
  {
   "cell_type": "code",
   "execution_count": null,
   "metadata": {
    "ExecuteTime": {
     "end_time": "2018-12-10T02:38:39.131525Z",
     "start_time": "2018-12-10T02:38:07.825329Z"
    }
   },
   "outputs": [],
   "source": [
    "mdl = GradientBoostingClassifier(n_estimators=5000, subsample=0.9, max_features='sqrt', max_depth=1)\n",
    "mdl.fit(E0.drop(['src','dst'], axis=1), y0.astype(int))"
   ]
  },
  {
   "cell_type": "code",
   "execution_count": null,
   "metadata": {
    "ExecuteTime": {
     "end_time": "2018-12-10T02:40:54.321674Z",
     "start_time": "2018-12-10T02:38:39.133023Z"
    }
   },
   "outputs": [],
   "source": [
    "network.add_nodes(Node(x) for _, x in Xt.iterrows())\n",
    "for attr in ('topics','title','abstract','year','authors','n_authors'):\n",
    "    Et[f'{attr}_simimilarity'] = [network.compare(row[0],row[1], attr) for _,row in Et.iterrows()]\n",
    "Et.fillna(0, inplace=True)"
   ]
  },
  {
   "cell_type": "code",
   "execution_count": null,
   "metadata": {
    "ExecuteTime": {
     "end_time": "2018-12-10T02:40:56.887706Z",
     "start_time": "2018-12-10T02:40:54.323410Z"
    }
   },
   "outputs": [],
   "source": [
    "print('train:', roc_auc_score(y_true=y0.astype(int), \n",
    "                              y_score=mdl.predict_proba(E0.drop(['src','dst'], axis=1))[:, 1]))\n",
    "print('test:', roc_auc_score(y_true=yt.astype(int), \n",
    "                             y_score=mdl.predict_proba(Et.drop(['src','dst'], axis=1))[:, 1]))\n",
    "tpr, fpr, thr = roc_curve(y_true=yt.astype(int), \n",
    "                          y_score=mdl.predict_proba(Et.drop(['src','dst'], axis=1))[:, 1])\n",
    "plt.plot(tpr, fpr)\n",
    "tpr, fpr, thr = roc_curve(y_true=y0.astype(int), \n",
    "                          y_score=mdl.predict_proba(E0.drop(['src','dst'], axis=1))[:, 1])\n",
    "plt.plot(tpr, fpr, color='orange')"
   ]
  }
 ],
 "metadata": {
  "kernelspec": {
   "display_name": "Python 3",
   "language": "python",
   "name": "python3"
  },
  "language_info": {
   "codemirror_mode": {
    "name": "ipython",
    "version": 3
   },
   "file_extension": ".py",
   "mimetype": "text/x-python",
   "name": "python",
   "nbconvert_exporter": "python",
   "pygments_lexer": "ipython3",
   "version": "3.6.5"
  }
 },
 "nbformat": 4,
 "nbformat_minor": 2
}
