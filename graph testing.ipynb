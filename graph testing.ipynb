{
 "cells": [
  {
   "cell_type": "code",
   "execution_count": 158,
   "metadata": {
    "ExecuteTime": {
     "end_time": "2018-11-26T21:50:38.409677Z",
     "start_time": "2018-11-26T21:50:38.374543Z"
    }
   },
   "outputs": [],
   "source": [
    "import io\n",
    "import requests\n",
    "import pandas as pd\n",
    "import numpy as np\n",
    "import networkx as nx\n",
    "import nxpd\n",
    "import matplotlib.pyplot as plt\n",
    "import matplotlib\n",
    "import pyspark\n",
    "import pyspark.sql.functions as F\n",
    "from pyspark.sql.types import *\n",
    "from pyspark.sql import dataframe\n",
    "import graphframes\n",
    "\n",
    "from src.data_reader import DataReader\n",
    "from src.to_gexf import to_gexf"
   ]
  },
  {
   "cell_type": "code",
   "execution_count": 159,
   "metadata": {
    "ExecuteTime": {
     "end_time": "2018-11-26T21:50:38.682324Z",
     "start_time": "2018-11-26T21:50:38.648605Z"
    }
   },
   "outputs": [],
   "source": [
    "reader = DataReader('data/sample-S2-records')"
   ]
  },
  {
   "cell_type": "code",
   "execution_count": 160,
   "metadata": {
    "ExecuteTime": {
     "end_time": "2018-11-26T21:50:39.041431Z",
     "start_time": "2018-11-26T21:50:38.991258Z"
    }
   },
   "outputs": [],
   "source": [
    "reader.write()"
   ]
  },
  {
   "cell_type": "code",
   "execution_count": 161,
   "metadata": {
    "ExecuteTime": {
     "end_time": "2018-11-26T21:50:39.504067Z",
     "start_time": "2018-11-26T21:50:39.418036Z"
    }
   },
   "outputs": [],
   "source": [
    "edges = spark.createDataFrame(reader.read_edges(), schema=StructType(\n",
    "[\n",
    "    StructField(name='src', dataType=StringType()),\n",
    "    StructField(name='dst', dataType=StringType())\n",
    "]\n",
    ")).withColumn('id', F.monotonically_increasing_id())\n",
    "\n",
    "\n",
    "nodes = spark.createDataFrame(reader.read_nodes(), schema=StructType(\n",
    "[\n",
    "    StructField(name='id', dataType=StringType()),\n",
    "    StructField(name='year', dataType=StringType()),\n",
    "    StructField(name='authors', dataType=StringType()),\n",
    "    StructField(name='entities', dataType=StringType())\n",
    "]\n",
    "))\n"
   ]
  },
  {
   "cell_type": "code",
   "execution_count": 162,
   "metadata": {
    "ExecuteTime": {
     "end_time": "2018-11-26T21:50:40.346319Z",
     "start_time": "2018-11-26T21:50:40.145677Z"
    }
   },
   "outputs": [],
   "source": [
    "g = graphframes.GraphFrame(e=edges, v=nodes)\n",
    "to_gexf(g, 'data/graph.gexf')"
   ]
  },
  {
   "cell_type": "code",
   "execution_count": null,
   "metadata": {},
   "outputs": [],
   "source": []
  },
  {
   "cell_type": "code",
   "execution_count": null,
   "metadata": {},
   "outputs": [],
   "source": []
  }
 ],
 "metadata": {
  "kernelspec": {
   "display_name": "Python 3",
   "language": "python",
   "name": "python3"
  },
  "language_info": {
   "codemirror_mode": {
    "name": "ipython",
    "version": 3
   },
   "file_extension": ".py",
   "mimetype": "text/x-python",
   "name": "python",
   "nbconvert_exporter": "python",
   "pygments_lexer": "ipython3",
   "version": "3.6.5"
  }
 },
 "nbformat": 4,
 "nbformat_minor": 2
}
