{
 "cells": [
  {
   "cell_type": "code",
   "execution_count": 5,
   "metadata": {
    "ExecuteTime": {
     "end_time": "2018-11-27T19:10:12.735518Z",
     "start_time": "2018-11-27T19:10:12.704575Z"
    }
   },
   "outputs": [],
   "source": [
    "import xml\n",
    "import requests\n",
    "import pandas as pd\n",
    "import numpy as np\n",
    "import networkx as nx\n",
    "import nxpd\n",
    "import matplotlib.pyplot as plt\n",
    "import matplotlib\n",
    "import pyspark\n",
    "import pyspark.sql.functions as F\n",
    "from pyspark.sql.types import *\n",
    "from pyspark.sql import dataframe\n",
    "import graphframes\n",
    "\n",
    "from src.data_reader import DataReader\n",
    "# from src.to_gexf import to_gexf\n",
    "from src.get_redacted import get_paper, load_redacted, get_doi\n",
    "\n",
    "\n",
    "if 'written' in globals(): del written"
   ]
  },
  {
   "cell_type": "code",
   "execution_count": 2,
   "metadata": {
    "ExecuteTime": {
     "end_time": "2018-11-27T16:16:40.544149Z",
     "start_time": "2018-11-27T16:16:40.508747Z"
    }
   },
   "outputs": [],
   "source": [
    "reader = DataReader('data/s2-corpus-00')"
   ]
  },
  {
   "cell_type": "code",
   "execution_count": 3,
   "metadata": {
    "ExecuteTime": {
     "end_time": "2018-11-27T16:16:41.242297Z",
     "start_time": "2018-11-27T16:16:41.196144Z"
    }
   },
   "outputs": [],
   "source": [
    "reader.write(50) if not 'written' in globals() else None\n",
    "written = True"
   ]
  },
  {
   "cell_type": "code",
   "execution_count": 4,
   "metadata": {
    "ExecuteTime": {
     "end_time": "2018-11-27T16:16:45.484102Z",
     "start_time": "2018-11-27T16:16:42.162496Z"
    }
   },
   "outputs": [],
   "source": [
    "edges = spark.createDataFrame(reader.read_edges(), schema=StructType(\n",
    "[\n",
    "    StructField(name='src', dataType=StringType()),\n",
    "    StructField(name='dst', dataType=StringType())\n",
    "]\n",
    ")).withColumn('id', F.monotonically_increasing_id())\n",
    "\n",
    "\n",
    "nodes = spark.createDataFrame(reader.read_nodes(), schema=StructType(\n",
    "[\n",
    "    StructField(name='id', dataType=StringType()),\n",
    "    StructField(name='year', dataType=StringType()),\n",
    "    StructField(name='authors', dataType=StringType()),\n",
    "    StructField(name='entities', dataType=StringType())\n",
    "]\n",
    "))\n"
   ]
  },
  {
   "cell_type": "code",
   "execution_count": 5,
   "metadata": {
    "ExecuteTime": {
     "end_time": "2018-11-27T16:16:47.848012Z",
     "start_time": "2018-11-27T16:16:46.600547Z"
    }
   },
   "outputs": [],
   "source": [
    "g = graphframes.GraphFrame(e=edges, v=nodes)\n",
    "to_gexf(g, 'data/graph2.gexf')"
   ]
  },
  {
   "cell_type": "code",
   "execution_count": null,
   "metadata": {
    "ExecuteTime": {
     "end_time": "2018-11-26T22:54:13.723712Z",
     "start_time": "2018-11-26T22:52:22.029443Z"
    }
   },
   "outputs": [],
   "source": [
    "page_rank = g.pageRank(maxIter=5, resetProbability=0.9)"
   ]
  },
  {
   "cell_type": "code",
   "execution_count": null,
   "metadata": {
    "ExecuteTime": {
     "end_time": "2018-11-26T22:55:29.360132Z",
     "start_time": "2018-11-26T22:54:52.079249Z"
    }
   },
   "outputs": [],
   "source": [
    "page_rank.edges.show()"
   ]
  },
  {
   "cell_type": "code",
   "execution_count": null,
   "metadata": {
    "ExecuteTime": {
     "end_time": "2018-11-26T22:57:57.819780Z",
     "start_time": "2018-11-26T22:57:56.757051Z"
    }
   },
   "outputs": [],
   "source": []
  },
  {
   "cell_type": "code",
   "execution_count": null,
   "metadata": {
    "ExecuteTime": {
     "end_time": "2018-11-26T23:00:24.923177Z",
     "start_time": "2018-11-26T23:00:24.352451Z"
    }
   },
   "outputs": [],
   "source": [
    "e = g.edges.toPandas().iloc[:, [0,1]]\n",
    "e.columns = ['source', 'target']\n",
    "G = nx.DiGraph(e)"
   ]
  },
  {
   "cell_type": "code",
   "execution_count": null,
   "metadata": {
    "ExecuteTime": {
     "end_time": "2018-11-26T23:45:50.709952Z",
     "start_time": "2018-11-26T23:00:40.347661Z"
    }
   },
   "outputs": [],
   "source": [
    "nxpd.draw(G)"
   ]
  },
  {
   "cell_type": "code",
   "execution_count": null,
   "metadata": {
    "ExecuteTime": {
     "end_time": "2018-11-27T19:43:06.530893Z",
     "start_time": "2018-11-27T19:43:05.983267Z"
    }
   },
   "outputs": [],
   "source": []
  },
  {
   "cell_type": "code",
   "execution_count": 39,
   "metadata": {
    "ExecuteTime": {
     "end_time": "2018-11-27T19:51:17.591428Z",
     "start_time": "2018-11-27T19:51:14.907642Z"
    }
   },
   "outputs": [],
   "source": [
    "df = pd.read_json(path_or_buf='data/retracted', lines=-1)\n",
    "df = df[df.error.isnull()]\n",
    "df.drop('error', axis=1, inplace=True)"
   ]
  },
  {
   "cell_type": "code",
   "execution_count": 50,
   "metadata": {
    "ExecuteTime": {
     "end_time": "2018-11-27T19:53:53.524168Z",
     "start_time": "2018-11-27T19:53:53.347474Z"
    }
   },
   "outputs": [
    {
     "data": {
      "text/plain": [
       "0                                                      []\n",
       "1                                                      []\n",
       "2       [{'arxivId': None, 'authors': [{'authorId': '5...\n",
       "3                                                      []\n",
       "4       [{'arxivId': None, 'authors': [{'authorId': No...\n",
       "5       [{'arxivId': None, 'authors': [{'authorId': '5...\n",
       "6                                                      []\n",
       "7                                                      []\n",
       "8                                                      []\n",
       "9                                                      []\n",
       "10                                                     []\n",
       "11                                                     []\n",
       "12      [{'arxivId': None, 'authors': [{'authorId': '4...\n",
       "13      [{'arxivId': None, 'authors': [{'authorId': No...\n",
       "14                                                     []\n",
       "15                                                     []\n",
       "16                                                     []\n",
       "17      [{'arxivId': None, 'authors': [{'authorId': '3...\n",
       "18      [{'arxivId': None, 'authors': [{'authorId': '3...\n",
       "19      [{'arxivId': None, 'authors': [{'authorId': '5...\n",
       "20                                                     []\n",
       "21                                                     []\n",
       "22                                                     []\n",
       "23      [{'arxivId': None, 'authors': [{'authorId': '3...\n",
       "24                                                     []\n",
       "25                                                     []\n",
       "26      [{'arxivId': None, 'authors': [{'authorId': No...\n",
       "27      [{'arxivId': '1201.0490', 'authors': [{'author...\n",
       "28                                                     []\n",
       "29                                                     []\n",
       "                              ...                        \n",
       "3662                                                   []\n",
       "3663                                                   []\n",
       "3664    [{'arxivId': None, 'authors': [{'authorId': '2...\n",
       "3665                                                   []\n",
       "3666                                                   []\n",
       "3667                                                   []\n",
       "3668                                                   []\n",
       "3669                                                   []\n",
       "3670    [{'arxivId': None, 'authors': [{'authorId': '3...\n",
       "3671                                                   []\n",
       "3672    [{'arxivId': None, 'authors': [{'authorId': '3...\n",
       "3673    [{'arxivId': None, 'authors': [{'authorId': No...\n",
       "3674                                                   []\n",
       "3675                                                   []\n",
       "3676    [{'arxivId': None, 'authors': [{'authorId': '2...\n",
       "3677                                                   []\n",
       "3678                                                   []\n",
       "3679                                                   []\n",
       "3680                                                   []\n",
       "3682                                                   []\n",
       "3683                                                   []\n",
       "3684                                                   []\n",
       "3685    [{'arxivId': None, 'authors': [{'authorId': '3...\n",
       "3686    [{'arxivId': None, 'authors': [{'authorId': '4...\n",
       "3687    [{'arxivId': None, 'authors': [{'authorId': '6...\n",
       "3688    [{'arxivId': None, 'authors': [{'authorId': '9...\n",
       "3689    [{'arxivId': None, 'authors': [{'authorId': '2...\n",
       "3690    [{'arxivId': None, 'authors': [{'authorId': '2...\n",
       "3691    [{'arxivId': None, 'authors': [{'authorId': '5...\n",
       "3692                                                  NaN\n",
       "Name: references, Length: 3596, dtype: object"
      ]
     },
     "execution_count": 50,
     "metadata": {},
     "output_type": "execute_result"
    }
   ],
   "source": [
    "df.references"
   ]
  },
  {
   "cell_type": "code",
   "execution_count": 55,
   "metadata": {
    "ExecuteTime": {
     "end_time": "2018-11-27T19:54:42.302163Z",
     "start_time": "2018-11-27T19:54:42.265989Z"
    }
   },
   "outputs": [
    {
     "data": {
      "text/plain": [
       "{'1258': [],\n",
       " '42534': ['dabc3c8815de76bfa2799a9667259aaa98d5c498',\n",
       "  '8936b6830ecd034671eef7773c20b6728b5b7201',\n",
       "  '003374ef65a9f2f981f9f9027bb82819ce7beb3b',\n",
       "  'c9599575f0d79bab1730cb854f5a42fb5db4ba7e',\n",
       "  '80cfc7d32b8103f70795ce8b8c19af33cbe4d9eb'],\n",
       " '119252': [],\n",
       " '146135': [],\n",
       " '147922': [],\n",
       " '164138': ['a7d718a8c2595fcc6779d6f1c20dbc023159b919',\n",
       "  '1ec15f64a6929389145cbb73beb856bb3775e44d',\n",
       "  'a4d3e156705759fb63de20d2ed1308c01b846e16',\n",
       "  '5255d419f8440bd5ba2eed4cf4d46e661d948681',\n",
       "  '6b9734de2202552f906b6c3532811f618967dd8d'],\n",
       " '174028': [],\n",
       " '286242': [],\n",
       " '314925': ['c7d3d39f0f6ca018aa74f876386bb375dc1fd179',\n",
       "  'b87c31978ba16856b7aa3cca79a0923489d4a155'],\n",
       " '339873': [],\n",
       " '377921': ['f5ae20c502baf961815a5178b4a272d1ef12702b',\n",
       "  'c298739be9b82524591d7aa1f070ab4db1ecaced'],\n",
       " '420925': [],\n",
       " '448459': [],\n",
       " '468617': [],\n",
       " '556418': ['bda27f309679d01f30b949923893e90336ad139f',\n",
       "  '0ff9e94eac5c7febda748d17576bdffdfc947fb6',\n",
       "  '8b43c16c34d607a65b4fee4cf2fad60bf4dc3805'],\n",
       " '595906': ['0764bc21b80b6ac101ed6dea06ba3ff1bd250c34'],\n",
       " '605436': [],\n",
       " '662501': ['52399d37bbbfe6eb5994a3844244ff895f1783a9',\n",
       "  '20931996acc16506ccc450962aefe87b1fac0969'],\n",
       " '716984': [],\n",
       " '747264': [],\n",
       " '782409': [],\n",
       " '784094': ['61ebd5348b8ec72cb2d3aa38ab758b4a92e8508f'],\n",
       " '796592': [],\n",
       " '800867': [],\n",
       " '801523': ['1275e5776afad816b4c10b112d2cb62e0712dcc8'],\n",
       " '809082': [],\n",
       " '821589': [],\n",
       " '861589': ['2e5f75ffac9e6737ce9063986abacca880ad3492',\n",
       "  'cf9fe67e9037291a9594420f84723d8852a77abf'],\n",
       " '880799': [],\n",
       " '885205': ['54af0864b3c6ab2bb15c4be7cbad3ee953140b67',\n",
       "  '15332e971d9ebd70375cab85fc4d49e63b06b7f7',\n",
       "  'c0e57228f56304d3bce0081c84c45c6c7efd8c60',\n",
       "  'bb12024d49708608c5616d4506f7b993c4b0ec27'],\n",
       " '897454': [],\n",
       " '907592': [],\n",
       " '907884': ['6e3efd06aebf8fcfafe0522dbd1f072b2703df97'],\n",
       " '934431': []}"
      ]
     },
     "execution_count": 55,
     "metadata": {},
     "output_type": "execute_result"
    }
   ],
   "source": [
    "df.inCitations[3692]"
   ]
  },
  {
   "cell_type": "code",
   "execution_count": null,
   "metadata": {},
   "outputs": [],
   "source": []
  }
 ],
 "metadata": {
  "kernelspec": {
   "display_name": "Python 3",
   "language": "python",
   "name": "python3"
  }
 },
 "nbformat": 4,
 "nbformat_minor": 2
}
