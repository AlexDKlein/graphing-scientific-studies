{
 "cells": [
  {
   "cell_type": "code",
   "execution_count": 204,
   "metadata": {
    "ExecuteTime": {
     "end_time": "2018-11-26T22:56:35.574742Z",
     "start_time": "2018-11-26T22:56:35.509147Z"
    }
   },
   "outputs": [],
   "source": [
    "import io\n",
    "import requests\n",
    "import pandas as pd\n",
    "import numpy as np\n",
    "import networkx as nx\n",
    "import nxpd\n",
    "import matplotlib.pyplot as plt\n",
    "import matplotlib\n",
    "import pyspark\n",
    "import pyspark.sql.functions as F\n",
    "from pyspark.sql.types import *\n",
    "from pyspark.sql import dataframe\n",
    "import graphframes\n",
    "\n",
    "from src.data_reader import DataReader\n",
    "from src.to_gexf import to_gexf"
   ]
  },
  {
   "cell_type": "code",
   "execution_count": 182,
   "metadata": {
    "ExecuteTime": {
     "end_time": "2018-11-26T22:37:40.246682Z",
     "start_time": "2018-11-26T22:37:40.218767Z"
    }
   },
   "outputs": [],
   "source": [
    "reader = DataReader('data/s2-corpus-00')"
   ]
  },
  {
   "cell_type": "code",
   "execution_count": 187,
   "metadata": {
    "ExecuteTime": {
     "end_time": "2018-11-26T22:41:07.309719Z",
     "start_time": "2018-11-26T22:41:07.283677Z"
    }
   },
   "outputs": [],
   "source": [
    "reader.write() if not written else None\n",
    "written = True"
   ]
  },
  {
   "cell_type": "code",
   "execution_count": 189,
   "metadata": {
    "ExecuteTime": {
     "end_time": "2018-11-26T22:41:31.570464Z",
     "start_time": "2018-11-26T22:41:31.231590Z"
    }
   },
   "outputs": [],
   "source": [
    "edges = spark.createDataFrame(reader.read_edges(50e3), schema=StructType(\n",
    "[\n",
    "    StructField(name='src', dataType=StringType()),\n",
    "    StructField(name='dst', dataType=StringType())\n",
    "]\n",
    ")).withColumn('id', F.monotonically_increasing_id())\n",
    "\n",
    "\n",
    "nodes = spark.createDataFrame(reader.read_nodes(10e3), schema=StructType(\n",
    "[\n",
    "    StructField(name='id', dataType=StringType()),\n",
    "    StructField(name='year', dataType=StringType()),\n",
    "    StructField(name='authors', dataType=StringType()),\n",
    "    StructField(name='entities', dataType=StringType())\n",
    "]\n",
    "))\n"
   ]
  },
  {
   "cell_type": "code",
   "execution_count": 190,
   "metadata": {
    "ExecuteTime": {
     "end_time": "2018-11-26T22:41:33.250450Z",
     "start_time": "2018-11-26T22:41:32.783141Z"
    }
   },
   "outputs": [],
   "source": [
    "g = graphframes.GraphFrame(e=edges, v=nodes)\n",
    "to_gexf(g, 'data/graph.gexf')"
   ]
  },
  {
   "cell_type": "code",
   "execution_count": 197,
   "metadata": {
    "ExecuteTime": {
     "end_time": "2018-11-26T22:54:13.723712Z",
     "start_time": "2018-11-26T22:52:22.029443Z"
    }
   },
   "outputs": [
    {
     "data": {
      "text/plain": [
       "GraphFrame(v:[id: string, year: string ... 3 more fields], e:[src: string, dst: string ... 2 more fields])"
      ]
     },
     "execution_count": 197,
     "metadata": {},
     "output_type": "execute_result"
    }
   ],
   "source": [
    "page_rank = g.pageRank(maxIter=5, resetProbability=0.9)"
   ]
  },
  {
   "cell_type": "code",
   "execution_count": 203,
   "metadata": {
    "ExecuteTime": {
     "end_time": "2018-11-26T22:55:29.360132Z",
     "start_time": "2018-11-26T22:54:52.079249Z"
    }
   },
   "outputs": [
    {
     "name": "stdout",
     "output_type": "stream",
     "text": [
      "+--------------------+--------------------+-----------+------+\n",
      "|                 src|                 dst|         id|weight|\n",
      "+--------------------+--------------------+-----------+------+\n",
      "|15ed7a529360639e5...|38bb76891ab91b37e...|       7063|   1.0|\n",
      "|d6b5d08c93118db6a...|3c7420db0fd835840...|       8965|   0.5|\n",
      "|d6b5d08c93118db6a...|3c7420db0fd835840...|       9769|   0.5|\n",
      "|d6b5d08c93118db6a...|3c7420db0fd835840...|       8965|   0.5|\n",
      "|d6b5d08c93118db6a...|3c7420db0fd835840...|       9769|   0.5|\n",
      "|0d8f5e3988670deef...|aaa09419253fbd5b6...|       8580|   0.5|\n",
      "|0d8f5e3988670deef...|aaa09419253fbd5b6...| 8589939659|   0.5|\n",
      "|0d8f5e3988670deef...|aaa09419253fbd5b6...|       8580|   0.5|\n",
      "|0d8f5e3988670deef...|aaa09419253fbd5b6...| 8589939659|   0.5|\n",
      "|381a7328fac4a99c4...|32bb822b32a485933...| 8589935568|   0.5|\n",
      "|381a7328fac4a99c4...|32bb822b32a485933...|17179872269|   0.5|\n",
      "|381a7328fac4a99c4...|32bb822b32a485933...| 8589935568|   0.5|\n",
      "|381a7328fac4a99c4...|32bb822b32a485933...|17179872269|   0.5|\n",
      "|041ffa291f52fd1ea...|29b3fbe8aa56793ad...|25769808864|   1.0|\n",
      "|e187c8b3ea73acf23...|699e2c6a3ebb318e1...| 8589942739|   1.0|\n",
      "|b332b781c1f190122...|c28d9ba41a2f6b696...| 8589944518|   1.0|\n",
      "|8c28e240f1fb7d5a5...|c28d9ba41a2f6b696...|25769809998|   1.0|\n",
      "|41be87a1bec1a8dd7...|1e554a1894a9d7f88...|17179873840|   1.0|\n",
      "|105c850af9de3fce1...|44449e39488c89727...|25769810999|   0.5|\n",
      "|105c850af9de3fce1...|44449e39488c89727...|25769813063|   0.5|\n",
      "+--------------------+--------------------+-----------+------+\n",
      "only showing top 20 rows\n",
      "\n"
     ]
    }
   ],
   "source": [
    "page_rank.edges.show()"
   ]
  },
  {
   "cell_type": "code",
   "execution_count": null,
   "metadata": {
    "ExecuteTime": {
     "end_time": "2018-11-26T22:57:57.819780Z",
     "start_time": "2018-11-26T22:57:56.757051Z"
    }
   },
   "outputs": [],
   "source": []
  },
  {
   "cell_type": "code",
   "execution_count": 221,
   "metadata": {
    "ExecuteTime": {
     "end_time": "2018-11-26T23:00:24.923177Z",
     "start_time": "2018-11-26T23:00:24.352451Z"
    }
   },
   "outputs": [],
   "source": [
    "e = g.edges.toPandas().iloc[:, [0,1]]\n",
    "e.columns = ['source', 'target']\n",
    "G = nx.DiGraph(e)"
   ]
  },
  {
   "cell_type": "code",
   "execution_count": 223,
   "metadata": {
    "ExecuteTime": {
     "end_time": "2018-11-26T23:45:50.709952Z",
     "start_time": "2018-11-26T23:00:40.347661Z"
    }
   },
   "outputs": [
    {
     "ename": "KeyboardInterrupt",
     "evalue": "",
     "output_type": "error",
     "traceback": [
      "\u001b[0;31m---------------------------------------------------------------------------\u001b[0m",
      "\u001b[0;31mKeyboardInterrupt\u001b[0m                         Traceback (most recent call last)",
      "\u001b[0;32m<ipython-input-223-a58260201e3c>\u001b[0m in \u001b[0;36m<module>\u001b[0;34m()\u001b[0m\n\u001b[0;32m----> 1\u001b[0;31m \u001b[0mnxpd\u001b[0m\u001b[0;34m.\u001b[0m\u001b[0mdraw\u001b[0m\u001b[0;34m(\u001b[0m\u001b[0mG\u001b[0m\u001b[0;34m)\u001b[0m\u001b[0;34m\u001b[0m\u001b[0m\n\u001b[0m",
      "\u001b[0;32m~/anaconda3/lib/python3.6/site-packages/nxpd/nx_pydot.py\u001b[0m in \u001b[0;36mdraw_pydot\u001b[0;34m(G, filename, format, prefix, suffix, layout, args, show)\u001b[0m\n\u001b[1;32m    456\u001b[0m     \u001b[0;31m# Draw the image.\u001b[0m\u001b[0;34m\u001b[0m\u001b[0;34m\u001b[0m\u001b[0m\n\u001b[1;32m    457\u001b[0m     \u001b[0mG2\u001b[0m \u001b[0;34m=\u001b[0m \u001b[0mto_pydot\u001b[0m\u001b[0;34m(\u001b[0m\u001b[0mG\u001b[0m\u001b[0;34m)\u001b[0m\u001b[0;34m\u001b[0m\u001b[0m\n\u001b[0;32m--> 458\u001b[0;31m     \u001b[0mG2\u001b[0m\u001b[0;34m.\u001b[0m\u001b[0mwrite\u001b[0m\u001b[0;34m(\u001b[0m\u001b[0mfobj\u001b[0m\u001b[0;34m,\u001b[0m \u001b[0mprog\u001b[0m\u001b[0;34m=\u001b[0m\u001b[0mprog\u001b[0m\u001b[0;34m,\u001b[0m \u001b[0mformat\u001b[0m\u001b[0;34m=\u001b[0m\u001b[0mext\u001b[0m\u001b[0;34m)\u001b[0m\u001b[0;34m\u001b[0m\u001b[0m\n\u001b[0m\u001b[1;32m    459\u001b[0m     \u001b[0;32mif\u001b[0m \u001b[0mclose\u001b[0m\u001b[0;34m:\u001b[0m\u001b[0;34m\u001b[0m\u001b[0m\n\u001b[1;32m    460\u001b[0m         \u001b[0mfobj\u001b[0m\u001b[0;34m.\u001b[0m\u001b[0mclose\u001b[0m\u001b[0;34m(\u001b[0m\u001b[0;34m)\u001b[0m\u001b[0;34m\u001b[0m\u001b[0m\n",
      "\u001b[0;32m~/anaconda3/lib/python3.6/site-packages/nxpd/pydot/__init__.py\u001b[0m in \u001b[0;36mwrite\u001b[0;34m(self, path, prog, format)\u001b[0m\n\u001b[1;32m   1839\u001b[0m \u001b[0;34m\u001b[0m\u001b[0m\n\u001b[1;32m   1840\u001b[0m             \u001b[0;32melse\u001b[0m\u001b[0;34m:\u001b[0m\u001b[0;34m\u001b[0m\u001b[0m\n\u001b[0;32m-> 1841\u001b[0;31m                 \u001b[0mfobj\u001b[0m\u001b[0;34m.\u001b[0m\u001b[0mwrite\u001b[0m\u001b[0;34m(\u001b[0m\u001b[0mself\u001b[0m\u001b[0;34m.\u001b[0m\u001b[0mcreate\u001b[0m\u001b[0;34m(\u001b[0m\u001b[0mprog\u001b[0m\u001b[0;34m,\u001b[0m \u001b[0mformat\u001b[0m\u001b[0;34m)\u001b[0m\u001b[0;34m)\u001b[0m\u001b[0;34m\u001b[0m\u001b[0m\n\u001b[0m\u001b[1;32m   1842\u001b[0m         \u001b[0;32mfinally\u001b[0m\u001b[0;34m:\u001b[0m\u001b[0;34m\u001b[0m\u001b[0m\n\u001b[1;32m   1843\u001b[0m             \u001b[0;32mif\u001b[0m \u001b[0mclose\u001b[0m\u001b[0;34m:\u001b[0m\u001b[0;34m\u001b[0m\u001b[0m\n",
      "\u001b[0;32m~/anaconda3/lib/python3.6/site-packages/nxpd/pydot/__init__.py\u001b[0m in \u001b[0;36mcreate\u001b[0;34m(self, prog, format)\u001b[0m\n\u001b[1;32m   1921\u001b[0m         \u001b[0mstdout_output\u001b[0m \u001b[0;34m=\u001b[0m \u001b[0mlist\u001b[0m\u001b[0;34m(\u001b[0m\u001b[0;34m)\u001b[0m\u001b[0;34m\u001b[0m\u001b[0m\n\u001b[1;32m   1922\u001b[0m         \u001b[0;32mwhile\u001b[0m \u001b[0;32mTrue\u001b[0m\u001b[0;34m:\u001b[0m\u001b[0;34m\u001b[0m\u001b[0m\n\u001b[0;32m-> 1923\u001b[0;31m             \u001b[0mdata\u001b[0m \u001b[0;34m=\u001b[0m \u001b[0mstdout\u001b[0m\u001b[0;34m.\u001b[0m\u001b[0mread\u001b[0m\u001b[0;34m(\u001b[0m\u001b[0;34m)\u001b[0m\u001b[0;34m\u001b[0m\u001b[0m\n\u001b[0m\u001b[1;32m   1924\u001b[0m             \u001b[0;32mif\u001b[0m \u001b[0;32mnot\u001b[0m \u001b[0mdata\u001b[0m\u001b[0;34m:\u001b[0m\u001b[0;34m\u001b[0m\u001b[0m\n\u001b[1;32m   1925\u001b[0m                 \u001b[0;32mbreak\u001b[0m\u001b[0;34m\u001b[0m\u001b[0m\n",
      "\u001b[0;31mKeyboardInterrupt\u001b[0m: "
     ]
    }
   ],
   "source": [
    "nxpd.draw(G)"
   ]
  },
  {
   "cell_type": "code",
   "execution_count": null,
   "metadata": {},
   "outputs": [],
   "source": []
  }
 ],
 "metadata": {
  "kernelspec": {
   "display_name": "Python 3",
   "language": "python",
   "name": "python3"
  },
  "language_info": {
   "codemirror_mode": {
    "name": "ipython",
    "version": 3
   },
   "file_extension": ".py",
   "mimetype": "text/x-python",
   "name": "python",
   "nbconvert_exporter": "python",
   "pygments_lexer": "ipython3",
   "version": "3.6.5"
  }
 },
 "nbformat": 4,
 "nbformat_minor": 2
}
