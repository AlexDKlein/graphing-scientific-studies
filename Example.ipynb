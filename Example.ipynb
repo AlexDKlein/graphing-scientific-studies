{
 "cells": [
  {
   "cell_type": "code",
   "execution_count": 1,
   "metadata": {
    "ExecuteTime": {
     "end_time": "2018-12-11T17:31:08.605625Z",
     "start_time": "2018-12-11T17:31:06.951080Z"
    }
   },
   "outputs": [],
   "source": [
    "import pandas as pd\n",
    "import numpy as np\n",
    "import matplotlib.pyplot as plt\n",
    "from pymongo import MongoClient\n",
    "\n",
    "from src.component import ComponentCreator\n",
    "from src.network import Node,Edge,Network\n",
    "from src.splitter import Splitter\n",
    "from src.model import Model\n",
    "from src.util import Util\n",
    "\n",
    "from sklearn.model_selection import train_test_split\n",
    "from sklearn.metrics import roc_auc_score, roc_curve, log_loss\n",
    "from sklearn.ensemble import GradientBoostingClassifier"
   ]
  },
  {
   "cell_type": "markdown",
   "metadata": {},
   "source": [
    "# Initiate MongoDB Collection"
   ]
  },
  {
   "cell_type": "code",
   "execution_count": 2,
   "metadata": {
    "ExecuteTime": {
     "end_time": "2018-12-11T17:31:08.634754Z",
     "start_time": "2018-12-11T17:31:08.606963Z"
    }
   },
   "outputs": [],
   "source": [
    "client = MongoClient()\n",
    "papers = client.capstone.papers"
   ]
  },
  {
   "cell_type": "markdown",
   "metadata": {},
   "source": [
    "# Create Randomly Generated Components"
   ]
  },
  {
   "cell_type": "code",
   "execution_count": 3,
   "metadata": {
    "ExecuteTime": {
     "end_time": "2018-12-11T17:31:30.982280Z",
     "start_time": "2018-12-11T17:31:09.165175Z"
    }
   },
   "outputs": [],
   "source": [
    "comp_creator = ComponentCreator(collection=papers)\n",
    "E,X = comp_creator.random_construct(10000)"
   ]
  },
  {
   "cell_type": "markdown",
   "metadata": {},
   "source": [
    "# Split Sample Records and Train Recommender Model"
   ]
  },
  {
   "cell_type": "code",
   "execution_count": 9,
   "metadata": {
    "ExecuteTime": {
     "end_time": "2018-12-11T17:34:58.588277Z",
     "start_time": "2018-12-11T17:34:55.968801Z"
    }
   },
   "outputs": [],
   "source": [
    "X0,Xt,y0,yt,E0,Et = Splitter.split(X, 10.0, random_state=5476)"
   ]
  },
  {
   "cell_type": "code",
   "execution_count": 10,
   "metadata": {
    "ExecuteTime": {
     "end_time": "2018-12-11T17:34:59.054947Z",
     "start_time": "2018-12-11T17:34:59.023759Z"
    }
   },
   "outputs": [],
   "source": [
    "recommender = Model(\n",
    "    GradientBoostingClassifier(n_estimators=5000, subsample=0.9, max_features='sqrt', max_depth=2), \n",
    "    ['topics','title','abstract','year','n_authors']\n",
    ")"
   ]
  },
  {
   "cell_type": "code",
   "execution_count": 11,
   "metadata": {
    "ExecuteTime": {
     "end_time": "2018-12-11T17:36:29.978913Z",
     "start_time": "2018-12-11T17:34:59.783403Z"
    }
   },
   "outputs": [
    {
     "data": {
      "text/plain": [
       "<src.model.Model at 0x1a22cff898>"
      ]
     },
     "execution_count": 11,
     "metadata": {},
     "output_type": "execute_result"
    }
   ],
   "source": [
    "recommender.fit(X0)"
   ]
  },
  {
   "cell_type": "markdown",
   "metadata": {},
   "source": [
    "# Update Network to Include All Records\n",
    "    Because the model keeps its own record of nodes that can be recommended,\n",
    "    it must be updated to account for missing records in the test set. In a\n",
    "    real-world case, this is not an issue as inputs will not be added to the\n",
    "    network or compared against real edges."
   ]
  },
  {
   "cell_type": "code",
   "execution_count": 12,
   "metadata": {
    "ExecuteTime": {
     "end_time": "2018-12-11T17:36:34.136689Z",
     "start_time": "2018-12-11T17:36:29.980689Z"
    }
   },
   "outputs": [],
   "source": [
    "recommender._update_network(X0)\n",
    "recommender._update_network(Xt)"
   ]
  },
  {
   "cell_type": "markdown",
   "metadata": {},
   "source": [
    "# Plot ROC Curves\n",
    "    The model is predispositioned to favor metrics like AUC \n",
    "    when the test set is comparing true edges to random pairs.\n",
    "    This is because the similarity of any two random nodes is \n",
    "    likely to be substantially smaller than a real edge.\n",
    "    Changing the method the nodes are collected via the\n",
    "    ComponentCreator class adjusts AUC within a range of\n",
    "    around 0.70-0.97. The 'random_construct' method was chosen\n",
    "    here in order to improve the variety of recommendations."
   ]
  },
  {
   "cell_type": "code",
   "execution_count": 13,
   "metadata": {
    "ExecuteTime": {
     "end_time": "2018-12-11T17:37:58.780299Z",
     "start_time": "2018-12-11T17:36:34.138448Z"
    }
   },
   "outputs": [],
   "source": [
    "pred_0 = recommender.predict_proba(E0)[:, 1]\n",
    "pred_t = recommender.predict_proba(Et)[:, 1]"
   ]
  },
  {
   "cell_type": "code",
   "execution_count": 14,
   "metadata": {
    "ExecuteTime": {
     "end_time": "2018-12-11T17:37:59.077134Z",
     "start_time": "2018-12-11T17:37:58.781937Z"
    }
   },
   "outputs": [
    {
     "name": "stdout",
     "output_type": "stream",
     "text": [
      "Train AUC: 0.9364413254629876\n",
      "Test AUC: 0.9031000902516629\n"
     ]
    },
    {
     "data": {
      "text/plain": [
       "<matplotlib.legend.Legend at 0x1a266ee2e8>"
      ]
     },
     "execution_count": 14,
     "metadata": {},
     "output_type": "execute_result"
    },
    {
     "data": {
      "image/png": "[encoded data removed]",
      "text/plain": [
       "<Figure size 432x288 with 1 Axes>"
      ]
     },
     "metadata": {},
     "output_type": "display_data"
    }
   ],
   "source": [
    "print('Train AUC:', roc_auc_score(y_true=y0.astype(int), \n",
    "                              y_score=pred_0))\n",
    "print('Test AUC:', roc_auc_score(y_true=yt.astype(int), \n",
    "                             y_score=pred_t))\n",
    "\n",
    "fig, ax = plt.subplots()\n",
    "tpr, fpr, thr = roc_curve(y_true=yt.astype(int), \n",
    "                          y_score=pred_t)\n",
    "ax.plot(tpr, fpr, label='Test')\n",
    "tpr, fpr, thr = roc_curve(y_true=y0.astype(int), \n",
    "                          y_score=pred_0)\n",
    "ax.plot(tpr, fpr, color='orange', label='Train')\n",
    "ax.legend()"
   ]
  }
 ],
 "metadata": {
  "kernelspec": {
   "display_name": "Python 3",
   "language": "python",
   "name": "python3"
  },
  "language_info": {
   "codemirror_mode": {
    "name": "ipython",
    "version": 3
   },
   "file_extension": ".py",
   "mimetype": "text/x-python",
   "name": "python",
   "nbconvert_exporter": "python",
   "pygments_lexer": "ipython3",
   "version": "3.6.5"
  }
 },
 "nbformat": 4,
 "nbformat_minor": 2
}
