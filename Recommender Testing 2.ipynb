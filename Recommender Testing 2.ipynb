{
 "cells": [
  {
   "cell_type": "code",
   "execution_count": 310,
   "metadata": {
    "ExecuteTime": {
     "end_time": "2018-12-08T19:22:07.730416Z",
     "start_time": "2018-12-08T19:22:07.700018Z"
    }
   },
   "outputs": [],
   "source": [
    "import pandas as pd\n",
    "import numpy as np\n",
    "from pymongo import MongoClient\n",
    "from src.source_selector import Recommender, InfluenceModel, EdgeSplitter, PaperNLP\n",
    "from src.graphing import AuthorNetwork\n",
    "from sklearn.ensemble import GradientBoostingClassifier, RandomForestRegressor\n",
    "from sklearn.metrics.pairwise import cosine_similarity\n",
    "from sklearn.metrics import roc_auc_score, roc_curve, log_loss\n",
    "from sklearn.model_selection import train_test_split\n",
    "from src.component import ComponentCreator\n",
    "from src.to_gexf import pd_to_gexf\n",
    "\n",
    "import matplotlib.pyplot as plt\n",
    "import requests\n",
    "import json\n",
    "import random"
   ]
  },
  {
   "cell_type": "code",
   "execution_count": null,
   "metadata": {
    "ExecuteTime": {
     "end_time": "2018-12-08T19:09:45.075729Z",
     "start_time": "2018-12-08T19:09:44.994Z"
    }
   },
   "outputs": [],
   "source": [
    "client = MongoClient()\n",
    "papers = client.capstone.papers"
   ]
  },
  {
   "cell_type": "code",
   "execution_count": null,
   "metadata": {
    "ExecuteTime": {
     "end_time": "2018-12-08T19:09:45.076422Z",
     "start_time": "2018-12-08T19:09:44.997Z"
    }
   },
   "outputs": [],
   "source": [
    "comp_creator = ComponentCreator(collection=papers)\n",
    "E,X = comp_creator.edge_construct(['1c2a234329c161bd187b61cb9794d68b03dd1296',\n",
    "                                    '00242e2b73910516973c9647c93f12de3ffb35f9'], 4,\n",
    "                                 lim=10000)\n",
    "E_,X_ = comp_creator.mixed_construct(4100442, lim=10000)"
   ]
  },
  {
   "cell_type": "code",
   "execution_count": null,
   "metadata": {},
   "outputs": [],
   "source": [
    "E,X = comp_creator.edge_construct(lim=10000)\n",
    "E_,X_ = comp_creator.mixed_construct(lim=10000)"
   ]
  },
  {
   "cell_type": "code",
   "execution_count": 354,
   "metadata": {
    "ExecuteTime": {
     "end_time": "2018-12-08T19:39:30.991410Z",
     "start_time": "2018-12-08T19:39:29.145393Z"
    }
   },
   "outputs": [],
   "source": [
    "_E, _X = comp_creator.mixed_construct(4100442)"
   ]
  },
  {
   "cell_type": "code",
   "execution_count": null,
   "metadata": {
    "ExecuteTime": {
     "end_time": "2018-12-08T19:36:44.735064Z",
     "start_time": "2018-12-08T19:36:44.703140Z"
    }
   },
   "outputs": [],
   "source": []
  },
  {
   "cell_type": "code",
   "execution_count": null,
   "metadata": {
    "ExecuteTime": {
     "end_time": "2018-12-08T19:39:43.505394Z",
     "start_time": "2018-12-08T19:39:43.474955Z"
    }
   },
   "outputs": [],
   "source": []
  },
  {
   "cell_type": "code",
   "execution_count": 143,
   "metadata": {
    "ExecuteTime": {
     "end_time": "2018-12-08T00:25:19.231800Z",
     "start_time": "2018-12-08T00:25:19.182131Z"
    }
   },
   "outputs": [],
   "source": [
    "_recommender = Recommender(GradientBoostingClassifier(), 'paperAbstract', 'title','entities')"
   ]
  },
  {
   "cell_type": "code",
   "execution_count": 144,
   "metadata": {
    "ExecuteTime": {
     "end_time": "2018-12-08T00:36:03.154662Z",
     "start_time": "2018-12-08T00:25:52.791154Z"
    }
   },
   "outputs": [
    {
     "data": {
      "text/plain": [
       "<src.source_selector.Recommender at 0x1cbb3a5630>"
      ]
     },
     "execution_count": 144,
     "metadata": {},
     "output_type": "execute_result"
    }
   ],
   "source": [
    "_recommender.fit(_X)"
   ]
  },
  {
   "cell_type": "code",
   "execution_count": 56,
   "metadata": {
    "ExecuteTime": {
     "end_time": "2018-12-07T21:27:36.744771Z",
     "start_time": "2018-12-07T21:27:36.703128Z"
    }
   },
   "outputs": [],
   "source": [
    "recommender = Recommender(GradientBoostingClassifier(), 'paperAbstract', 'title','entities')\n",
    "recommender_ = Recommender(GradientBoostingClassifier(), 'paperAbstract', 'title','entities')"
   ]
  },
  {
   "cell_type": "code",
   "execution_count": 57,
   "metadata": {
    "ExecuteTime": {
     "end_time": "2018-12-07T21:28:11.449739Z",
     "start_time": "2018-12-07T21:27:37.519305Z"
    },
    "scrolled": true
   },
   "outputs": [],
   "source": [
    "splitter = EdgeSplitter()\n",
    "X0, Xt, E0, Et = splitter.split(X, E)\n",
    "X0_,Xt_,E0_,Et_ = splitter.split(X_, E_)\n",
    "y0, yt = E0['edge'], Et['edge']\n",
    "y0_, yt_ = E0_['edge'], Et_['edge']"
   ]
  },
  {
   "cell_type": "code",
   "execution_count": 58,
   "metadata": {
    "ExecuteTime": {
     "end_time": "2018-12-07T21:36:28.034460Z",
     "start_time": "2018-12-07T21:28:13.777626Z"
    }
   },
   "outputs": [
    {
     "data": {
      "text/plain": [
       "<src.source_selector.Recommender at 0x1a5b94de10>"
      ]
     },
     "execution_count": 58,
     "metadata": {},
     "output_type": "execute_result"
    }
   ],
   "source": [
    "recommender.fit(X0)\n",
    "recommender_.fit(X0_)"
   ]
  },
  {
   "cell_type": "code",
   "execution_count": 60,
   "metadata": {
    "ExecuteTime": {
     "end_time": "2018-12-07T21:39:36.126260Z",
     "start_time": "2018-12-07T21:38:27.772612Z"
    }
   },
   "outputs": [],
   "source": [
    "tpr, fpr, thr = roc_curve(y_score=recommender.predict_proba(Et, Xt),\n",
    "                          y_true=yt.astype(int))\n",
    "tpr_, fpr_, thr_ = roc_curve(y_score=recommender_.predict_proba(Et_, Xt_),\n",
    "                          y_true=yt_.astype(int))\n",
    "\n"
   ]
  },
  {
   "cell_type": "code",
   "execution_count": 95,
   "metadata": {
    "ExecuteTime": {
     "end_time": "2018-12-07T22:46:46.702202Z",
     "start_time": "2018-12-07T22:46:46.252112Z"
    }
   },
   "outputs": [
    {
     "data": {
      "text/plain": [
       "[<matplotlib.lines.Line2D at 0x1a513f53c8>]"
      ]
     },
     "execution_count": 95,
     "metadata": {},
     "output_type": "execute_result"
    },
    {
     "data": {
      "image/png": "[encoded data removed]",
      "text/plain": [
       "<Figure size 432x288 with 1 Axes>"
      ]
     },
     "metadata": {},
     "output_type": "display_data"
    }
   ],
   "source": [
    "\n",
    "plt.plot(tpr_,fpr_, color='orange')"
   ]
  },
  {
   "cell_type": "code",
   "execution_count": 97,
   "metadata": {
    "ExecuteTime": {
     "end_time": "2018-12-07T22:49:57.337589Z",
     "start_time": "2018-12-07T22:49:20.210195Z"
    }
   },
   "outputs": [
    {
     "data": {
      "text/plain": [
       "0.9592921019266056"
      ]
     },
     "execution_count": 97,
     "metadata": {},
     "output_type": "execute_result"
    }
   ],
   "source": [
    "roc_auc_score(y_score=recommender_.predict_proba(Et_, Xt_), y_true=yt_.astype(int))"
   ]
  },
  {
   "cell_type": "code",
   "execution_count": 99,
   "metadata": {
    "ExecuteTime": {
     "end_time": "2018-12-07T22:52:08.686708Z",
     "start_time": "2018-12-07T22:51:43.222452Z"
    }
   },
   "outputs": [
    {
     "data": {
      "text/plain": [
       "0.931590126633868"
      ]
     },
     "execution_count": 99,
     "metadata": {},
     "output_type": "execute_result"
    }
   ],
   "source": [
    "roc_auc_score(y_score=recommender.predict_proba(Et, Xt), y_true=yt.astype(int))"
   ]
  },
  {
   "cell_type": "code",
   "execution_count": null,
   "metadata": {
    "ExecuteTime": {
     "end_time": "2018-12-07T22:53:34.351602Z",
     "start_time": "2018-12-07T22:53:34.283851Z"
    }
   },
   "outputs": [],
   "source": []
  },
  {
   "cell_type": "code",
   "execution_count": 98,
   "metadata": {
    "ExecuteTime": {
     "end_time": "2018-12-07T22:50:42.078843Z",
     "start_time": "2018-12-07T22:50:41.877458Z"
    },
    "scrolled": true
   },
   "outputs": [
    {
     "data": {
      "text/plain": [
       "[<matplotlib.lines.Line2D at 0x1a5db01b70>]"
      ]
     },
     "execution_count": 98,
     "metadata": {},
     "output_type": "execute_result"
    },
    {
     "data": {
      "image/png": "[encoded data removed]",
      "text/plain": [
       "<Figure size 432x288 with 1 Axes>"
      ]
     },
     "metadata": {},
     "output_type": "display_data"
    }
   ],
   "source": [
    "plt.plot(tpr,fpr)\n",
    "# plt.plot(tpr_,fpr_, color='orange')"
   ]
  },
  {
   "cell_type": "code",
   "execution_count": 92,
   "metadata": {
    "ExecuteTime": {
     "end_time": "2018-12-07T22:05:54.006385Z",
     "start_time": "2018-12-07T22:05:53.970489Z"
    }
   },
   "outputs": [],
   "source": [
    "edges, edges_ = E, E_\n",
    "nodes, nodes_ = X, X_"
   ]
  },
  {
   "cell_type": "code",
   "execution_count": 90,
   "metadata": {
    "ExecuteTime": {
     "end_time": "2018-12-07T22:04:53.484354Z",
     "start_time": "2018-12-07T22:04:53.449934Z"
    }
   },
   "outputs": [],
   "source": [
    "edges, edges_ = E[E['edge']==1], E_[E_['edge']==1]\n",
    "nodes, nodes_ = Xt, Xt_"
   ]
  },
  {
   "cell_type": "code",
   "execution_count": 94,
   "metadata": {
    "ExecuteTime": {
     "end_time": "2018-12-07T22:10:21.166722Z",
     "start_time": "2018-12-07T22:10:21.041979Z"
    },
    "scrolled": true
   },
   "outputs": [],
   "source": [
    "edges['weight'] = recommender.predict_proba(edges, nodes)\n",
    "edges['id'] = edges.index\n",
    "nodes['id'] = nodes['_id']"
   ]
  },
  {
   "cell_type": "code",
   "execution_count": 85,
   "metadata": {
    "ExecuteTime": {
     "end_time": "2018-12-07T21:57:41.815898Z",
     "start_time": "2018-12-07T21:57:07.706457Z"
    }
   },
   "outputs": [
    {
     "name": "stderr",
     "output_type": "stream",
     "text": [
      "/Users/alexklein/anaconda3/lib/python3.6/site-packages/ipykernel_launcher.py:1: SettingWithCopyWarning: \n",
      "A value is trying to be set on a copy of a slice from a DataFrame.\n",
      "Try using .loc[row_indexer,col_indexer] = value instead\n",
      "\n",
      "See the caveats in the documentation: http://pandas.pydata.org/pandas-docs/stable/indexing.html#indexing-view-versus-copy\n",
      "  \"\"\"Entry point for launching an IPython kernel.\n",
      "/Users/alexklein/anaconda3/lib/python3.6/site-packages/ipykernel_launcher.py:2: SettingWithCopyWarning: \n",
      "A value is trying to be set on a copy of a slice from a DataFrame.\n",
      "Try using .loc[row_indexer,col_indexer] = value instead\n",
      "\n",
      "See the caveats in the documentation: http://pandas.pydata.org/pandas-docs/stable/indexing.html#indexing-view-versus-copy\n",
      "  \n",
      "/Users/alexklein/anaconda3/lib/python3.6/site-packages/ipykernel_launcher.py:3: SettingWithCopyWarning: \n",
      "A value is trying to be set on a copy of a slice from a DataFrame.\n",
      "Try using .loc[row_indexer,col_indexer] = value instead\n",
      "\n",
      "See the caveats in the documentation: http://pandas.pydata.org/pandas-docs/stable/indexing.html#indexing-view-versus-copy\n",
      "  This is separate from the ipykernel package so we can avoid doing imports until\n"
     ]
    }
   ],
   "source": [
    "edges_['weight'] = recommender_.predict_proba(edges_, nodes_)\n",
    "edges_['id'] = edges_.index\n",
    "nodes_['id'] = nodes_['_id']"
   ]
  },
  {
   "cell_type": "code",
   "execution_count": 84,
   "metadata": {
    "ExecuteTime": {
     "end_time": "2018-12-07T21:56:43.378028Z",
     "start_time": "2018-12-07T21:56:42.884886Z"
    }
   },
   "outputs": [],
   "source": [
    "pd_to_gexf(edges, nodes, 'example.gexf', node_attr={'year':'float'}, edge_attr={'weight':'float'})"
   ]
  },
  {
   "cell_type": "code",
   "execution_count": 86,
   "metadata": {
    "ExecuteTime": {
     "end_time": "2018-12-07T21:57:54.964189Z",
     "start_time": "2018-12-07T21:57:54.381814Z"
    }
   },
   "outputs": [],
   "source": [
    "pd_to_gexf(edges_, nodes_, 'example_.gexf', node_attr={'year':'float'}, edge_attr={'weight':'float'})"
   ]
  },
  {
   "cell_type": "code",
   "execution_count": null,
   "metadata": {
    "ExecuteTime": {
     "end_time": "2018-12-07T18:21:33.900948Z",
     "start_time": "2018-12-07T18:21:33.861622Z"
    }
   },
   "outputs": [],
   "source": [
    "recommeder = Recommender(GradientBoostingClassifier(), 'paperAbstract', 'title','entities')"
   ]
  },
  {
   "cell_type": "code",
   "execution_count": null,
   "metadata": {
    "ExecuteTime": {
     "start_time": "2018-12-07T20:52:32.330Z"
    }
   },
   "outputs": [],
   "source": [
    "fields = ['paperAbstract','title','entities']\n",
    "nlp = PaperNLP(*fields)\n",
    "splitter = EdgeSplitter()\n",
    "X0,Xt,E0,Et = splitter.split(X, E)\n",
    "nlp.fit(X0)\n",
    "S0,St = [nlp.similarity_matrix(X) for X in (X0,Xt)]\n",
    "y0,yt = E0['edge'], Et['edge']\n",
    "for field in fields:\n",
    "    E0[field + '_similarity'] = S0[field].lookup(col_labels=E0['src'], row_labels=E0['dst'])\n",
    "    Et[field + '_similarity'] = St[field].lookup(col_labels=Et['src'], row_labels=Et['dst'])"
   ]
  },
  {
   "cell_type": "code",
   "execution_count": null,
   "metadata": {
    "ExecuteTime": {
     "end_time": "2018-12-07T19:30:25.980535Z",
     "start_time": "2018-12-07T19:30:25.933232Z"
    }
   },
   "outputs": [],
   "source": [
    "E0['age'] = abs(X0['year'][E0['dst']].values - X0['year'][E0['src']].values)\n",
    "Et['age'] = abs(Xt['year'][Et['dst']].values - Xt['year'][Et['src']].values)\n",
    "\n",
    "E0['age'] = np.where(E0['age'].isnull(), 0, E0['age'])\n",
    "Et['age'] = np.where(Et['age'].isnull(), 0, Et['age'])"
   ]
  },
  {
   "cell_type": "code",
   "execution_count": null,
   "metadata": {
    "ExecuteTime": {
     "end_time": "2018-12-07T19:30:45.528098Z",
     "start_time": "2018-12-07T19:30:26.514416Z"
    }
   },
   "outputs": [],
   "source": [
    "gbc = GradientBoostingClassifier(n_estimators=5000)\n",
    "gbc.fit(E0.drop(columns=['src','dst','edge'], axis=1), y0.astype(int).values.reshape(-1,1))\n",
    "tpr, fpr, thr = roc_curve(y_score=gbc.predict_proba(\n",
    "    Et.drop(columns=['src','dst','edge']))[:,1], \n",
    "                          y_true=yt.astype(int))\n",
    "print(roc_auc_score(y_score=gbc.predict_proba(\n",
    "    Et.drop(columns=['src','dst','edge']))[:,1],\n",
    "      y_true=yt.astype(int)))\n",
    "plt.plot(tpr,fpr)\n"
   ]
  },
  {
   "cell_type": "code",
   "execution_count": null,
   "metadata": {
    "ExecuteTime": {
     "end_time": "2018-12-07T19:25:56.363428Z",
     "start_time": "2018-12-07T19:25:55.825Z"
    }
   },
   "outputs": [],
   "source": [
    "Et[Et['edge'] == 1]"
   ]
  },
  {
   "cell_type": "code",
   "execution_count": null,
   "metadata": {
    "ExecuteTime": {
     "end_time": "2018-12-07T18:21:41.035978Z",
     "start_time": "2018-12-07T18:21:40.998216Z"
    }
   },
   "outputs": [],
   "source": [
    "recommeder = Recommender(GradientBoostingClassifier(), 'paperAbstract', 'title','entities')"
   ]
  },
  {
   "cell_type": "code",
   "execution_count": null,
   "metadata": {
    "ExecuteTime": {
     "end_time": "2018-12-07T18:22:01.875772Z",
     "start_time": "2018-12-07T18:21:54.690360Z"
    }
   },
   "outputs": [],
   "source": [
    "recommeder.fit(X0)"
   ]
  },
  {
   "cell_type": "code",
   "execution_count": null,
   "metadata": {
    "ExecuteTime": {
     "end_time": "2018-12-06T20:04:13.812239Z",
     "start_time": "2018-12-06T20:04:13.763123Z"
    },
    "scrolled": true
   },
   "outputs": [],
   "source": [
    "recommeder.predict_one(x,y)"
   ]
  },
  {
   "cell_type": "code",
   "execution_count": null,
   "metadata": {
    "ExecuteTime": {
     "end_time": "2018-12-06T20:14:43.785825Z",
     "start_time": "2018-12-06T20:14:43.482169Z"
    }
   },
   "outputs": [],
   "source": [
    "resp=requests.get('http://api.semanticscholar.org/v1/paper/0796f6cd7f0403a854d67d525e9b32af3b277331')\n",
    "pd.DataFrame(resp.json()['references'])"
   ]
  },
  {
   "cell_type": "code",
   "execution_count": null,
   "metadata": {
    "ExecuteTime": {
     "end_time": "2018-12-06T19:35:47.893237Z",
     "start_time": "2018-12-06T19:35:47.501739Z"
    }
   },
   "outputs": [],
   "source": [
    "%pdb\n",
    "recommeder.predict(x=pd.DataFrame([{'_id':'test', 'paperAbstract':sample_abstract, \n",
    "                                    'title':sample_title, \n",
    "                                    'entities':[]}]))"
   ]
  },
  {
   "cell_type": "markdown",
   "metadata": {},
   "source": [
    "# Authors\n",
    "    ID: author id \n",
    "    Papers: list of paper ids\n",
    "    In: list of citing author ids\n",
    "    Out: list of cited author ids\n",
    "    Peers: list of all coauthor ids\n",
    "    \n",
    "# Papers\n",
    "    ID: paper id\n",
    "    Authors: list of author ids\n",
    "    In: list of in citations\n",
    "    Out: list of out citations\n",
    "    Peers: list of papers ids with shared authors\n",
    "    Influenced: list of highly influenced paper ids\n",
    "    Influential: list of highly influential paper ids"
   ]
  },
  {
   "cell_type": "code",
   "execution_count": 2,
   "metadata": {
    "ExecuteTime": {
     "end_time": "2018-12-09T20:10:13.964664Z",
     "start_time": "2018-12-09T20:10:13.939019Z"
    }
   },
   "outputs": [],
   "source": [
    "import networkx as nx\n",
    "def cosimrank(S, A, C=1e-5):\n",
    "    A/= np.sqrt((A * A).sum(axis=1))\n",
    "    A = np.where(np.isfinite(A), A, 0)\n",
    "    return C*(A.T @ S @ A) + np.identity(A.shape[0])\n",
    "\n",
    "def simrank(S, A, C=1e-5):\n",
    "    return (cosimrank(S,A,C) - np.identity(A.shape[0])).max(axis=1)\n",
    "\n",
    "def adj_matrix(edges, nodelist=None):\n",
    "    g = nx.Graph(edges)\n",
    "    return nx.adj_matrix(g, nodelist=nodelist)\n",
    "\n",
    "def sim_matrix(nodes, mdl):\n",
    "    return mdl.similarity_matrix(nodes)\n",
    "\n",
    "def power_iteration(X, n):\n",
    "    v = unit_vect(X.shape[1])\n",
    "    for _ in range(n):\n",
    "        v_ = X @ v\n",
    "        v = v_ / np.linalg.norm(v)\n",
    "    return v\n",
    "\n",
    "def cosim(n, m, S, A, C=1e-5, k=100, nodelist=None):\n",
    "    A/= np.sqrt((A * A).sum(axis=1))\n",
    "    A = np.where(np.isfinite(A), A, 0)\n",
    "    p_ = p(n, A.shape[1])\n",
    "    sim = 0\n",
    "    for k_ in range(k):\n",
    "        sim += C**k_ * p_[m] * p_[n]\n",
    "        p_ = A @ p_\n",
    "    return sim\n",
    "\n",
    "def p(i, n):\n",
    "    return np.where(np.arange(n) == i, 1, 0)\n"
   ]
  },
  {
   "cell_type": "code",
   "execution_count": null,
   "metadata": {
    "ExecuteTime": {
     "end_time": "2018-12-07T18:22:41.686551Z",
     "start_time": "2018-12-07T18:22:41.635650Z"
    }
   },
   "outputs": [],
   "source": [
    "recommeder.predict_one(X.loc['d66324821e45348d7173a790902fe37a1fe0c4f9'],\n",
    "                       X.loc['6e727df3e527706f79f95621218d9c836b8cdf66'])\n"
   ]
  },
  {
   "cell_type": "code",
   "execution_count": null,
   "metadata": {
    "ExecuteTime": {
     "end_time": "2018-12-07T18:19:54.797078Z",
     "start_time": "2018-12-07T18:19:54.742014Z"
    }
   },
   "outputs": [],
   "source": []
  },
  {
   "cell_type": "code",
   "execution_count": null,
   "metadata": {
    "ExecuteTime": {
     "end_time": "2018-12-07T17:57:17.728626Z",
     "start_time": "2018-12-07T17:57:10.698608Z"
    }
   },
   "outputs": [],
   "source": [
    "adj = adj_matrix(E.values.tolist(), X['_id'])\n",
    "sim = sim_matrix(X, nlp)['paperAbstract']"
   ]
  },
  {
   "cell_type": "code",
   "execution_count": null,
   "metadata": {
    "ExecuteTime": {
     "end_time": "2018-12-07T18:16:29.032110Z",
     "start_time": "2018-12-07T18:16:28.183574Z"
    }
   },
   "outputs": [],
   "source": [
    "cosim(765, 897, sim, adj, 1)"
   ]
  },
  {
   "cell_type": "code",
   "execution_count": null,
   "metadata": {
    "ExecuteTime": {
     "end_time": "2018-12-07T18:16:33.404373Z",
     "start_time": "2018-12-07T18:16:31.030638Z"
    }
   },
   "outputs": [],
   "source": [
    "simrank(sim, adj)"
   ]
  },
  {
   "cell_type": "code",
   "execution_count": null,
   "metadata": {
    "ExecuteTime": {
     "end_time": "2018-12-07T18:11:51.005227Z",
     "start_time": "2018-12-07T18:11:48.725696Z"
    }
   },
   "outputs": [],
   "source": [
    "cosimrank(sim, adj, 1)[765,897]"
   ]
  },
  {
   "cell_type": "code",
   "execution_count": null,
   "metadata": {
    "ExecuteTime": {
     "end_time": "2018-12-07T18:05:06.350263Z",
     "start_time": "2018-12-07T18:05:01.646061Z"
    }
   },
   "outputs": [],
   "source": [
    "cosimrank(sim, adj)[cosimrank(sim, adj) != 1].argmax()%adj.shape[1]"
   ]
  },
  {
   "cell_type": "code",
   "execution_count": null,
   "metadata": {
    "ExecuteTime": {
     "end_time": "2018-12-07T17:29:32.700436Z",
     "start_time": "2018-12-07T17:29:31.761078Z"
    },
    "scrolled": true
   },
   "outputs": [],
   "source": [
    "adj / (np.ones(adj.shape) * np.sqrt(sum(adj * adj)).toarray())"
   ]
  },
  {
   "cell_type": "code",
   "execution_count": null,
   "metadata": {
    "ExecuteTime": {
     "end_time": "2018-12-07T17:40:12.296269Z",
     "start_time": "2018-12-07T17:40:11.948707Z"
    }
   },
   "outputs": [],
   "source": [
    "adj_ = adj / np.sqrt((adj * adj).sum(axis=1))\n",
    "adj_ = np.where(np.isfinite(adj_), adj_, 0)"
   ]
  },
  {
   "cell_type": "code",
   "execution_count": null,
   "metadata": {
    "ExecuteTime": {
     "end_time": "2018-12-07T17:39:56.638673Z",
     "start_time": "2018-12-07T17:39:56.581081Z"
    }
   },
   "outputs": [],
   "source": []
  },
  {
   "cell_type": "code",
   "execution_count": null,
   "metadata": {
    "ExecuteTime": {
     "end_time": "2018-12-07T17:33:51.100289Z",
     "start_time": "2018-12-07T17:33:51.059080Z"
    }
   },
   "outputs": [],
   "source": [
    "np.linalg.norm?"
   ]
  },
  {
   "cell_type": "code",
   "execution_count": null,
   "metadata": {},
   "outputs": [],
   "source": []
  },
  {
   "cell_type": "code",
   "execution_count": null,
   "metadata": {
    "ExecuteTime": {
     "end_time": "2018-12-06T19:34:19.940026Z",
     "start_time": "2018-12-06T19:34:19.899196Z"
    }
   },
   "outputs": [],
   "source": [
    "sample_abstract = '''In this paper we address the problem of classifying cited work into important and non-important to the developments presented in a research publication. This task is vital for the algorithmic techniques that detect and follow emerging research topics and to qualitatively measure the impact of publications in increasingly growing scholarly big data. We consider cited work as important to a publication if that work is used or extended in some way. If a reference is cited as background work or for the purpose of comparing results, the cited work is considered to be non-important. By employing five classification techniques (Support Vector Machine, Naïve Bayes, Decision Tree, K-Nearest Neighbors and Random Forest) on an annotated dataset of 465 citations, we explore the effectiveness of eight previously published features and six novel features (including context based, cue words based and textual based). Within this set, our new features are among the best performing. Using the Random Forest classifier we achieve an overall classification accuracy of 0.91 AUC'''\n",
    "\n",
    "\n",
    "# '''BACKGROUND\n",
    "# The primary determinant of reproductive age in women is the number of ovarian non-growing (primordial, intermediate and primary) follicles (NGFs). To better characterize the decline in NGF number associated with aging, we have employed modern stereology techniques to determine NGF number in women from birth to menopause.\n",
    "\n",
    "\n",
    "# METHODS\n",
    "# Normal human ovaries were collected from 122 women (aged 0-51 years) undergoing elective oophorectomy, organ donation or autopsy. After gross pathologic examination, systematic random sampling was utilized to obtain tissue for analysis by the fractionator/optical disector method. Models to describe the resulting decay curve were constructed and evaluated.\n",
    "\n",
    "\n",
    "# RESULTS\n",
    "# NGF decay was best described by a simple power function: log (y) = ax(b) + c, where a, b and c are constants and y = NGF count at age x (R(2) = 0.84, Sums of Squares Error = 28.18 on 119 degrees of freedom). This model implies that follicles decay faster with increasing age.\n",
    "\n",
    "\n",
    "# CONCLUSIONS\n",
    "# Unlike previous models of ovarian follicle depletion, our model predicts no sudden change in decay rate, but rather a constantly increasing rate. The model not only agrees well with observed ages of menopause in women, but also is more biologically plausible than previous models. Although the model represents a significant improvement compared with earlier attempts, a considerable percentage of the variation in NGF number between women cannot be explained by age alone.'''\n",
    "\n",
    "sample_title = '''Identifying Important Citations Using Contextual Information from Full Text'''\n",
    "#'''A new model of reproductive aging: the decline in ovarian non-growing follicle number from birth to menopause.'''\n",
    "\n"
   ]
  },
  {
   "cell_type": "code",
   "execution_count": null,
   "metadata": {
    "ExecuteTime": {
     "end_time": "2018-12-06T22:32:10.411775Z",
     "start_time": "2018-12-06T22:32:10.366822Z"
    }
   },
   "outputs": [],
   "source": [
    "x = X2.paper_nodes[X2.paper_nodes['_id'] == '02a698470f476de722e78b20d0ddd92d3781bbfc']\n",
    "y = X2.paper_nodes[X2.paper_nodes['_id'] == 'e95b97b143378e91acaf5b6e9110dbd5b1c4ed22']\n"
   ]
  },
  {
   "cell_type": "code",
   "execution_count": null,
   "metadata": {
    "ExecuteTime": {
     "end_time": "2018-12-06T20:22:03.705556Z",
     "start_time": "2018-12-06T20:22:03.529458Z"
    }
   },
   "outputs": [],
   "source": [
    "InfluenceModel(base=GradientBoostingClassifier())\n",
    "x,y = InfluenceModel.generate_edge_ids('e95b97b143378e91acaf5b6e9110dbd5b1c4ed22')"
   ]
  },
  {
   "cell_type": "code",
   "execution_count": null,
   "metadata": {
    "ExecuteTime": {
     "end_time": "2018-12-06T22:10:37.660115Z",
     "start_time": "2018-12-06T22:10:37.622720Z"
    }
   },
   "outputs": [],
   "source": []
  },
  {
   "cell_type": "code",
   "execution_count": null,
   "metadata": {
    "ExecuteTime": {
     "end_time": "2018-12-06T22:44:44.770962Z",
     "start_time": "2018-12-06T22:44:33.679405Z"
    },
    "scrolled": true
   },
   "outputs": [],
   "source": [
    "recommeder = Recommender(GradientBoostingClassifier(), 'paperAbstract', 'title','entities')\n",
    "recommeder.fit(X)"
   ]
  },
  {
   "cell_type": "code",
   "execution_count": null,
   "metadata": {
    "ExecuteTime": {
     "end_time": "2018-12-06T22:53:56.215354Z",
     "start_time": "2018-12-06T22:53:56.173185Z"
    }
   },
   "outputs": [],
   "source": [
    "E[E['src'] == '51b64144ea8026984333b038aec9679d4a41c1a8']"
   ]
  },
  {
   "cell_type": "code",
   "execution_count": null,
   "metadata": {
    "ExecuteTime": {
     "end_time": "2018-12-06T22:54:47.684231Z",
     "start_time": "2018-12-06T22:54:47.506501Z"
    },
    "scrolled": true
   },
   "outputs": [],
   "source": [
    "lookup_id = '51b64144ea8026984333b038aec9679d4a41c1a8'\n",
    "x = pd.DataFrame(X.loc[lookup_id]).T\n",
    "for i, _id in enumerate(recommeder.predict(x, 1000)['_id'].values):\n",
    "    isInCitation = _id in x['inCitations'].values[0]\n",
    "    isOutCitation = _id in x['outCitations'].values[0]\n",
    "    if isInCitation or isOutCitation: \n",
    "        isInfluential = y[(E['dst']==_id) & (E['src']==lookup_id)] \\\n",
    "                        if isInCitation else \\\n",
    "                        y[(E['src']==_id) & (E['dst']==lookup_id)]\n",
    "        print(f'Found Citaition at: {i}')\n",
    "#         print(f'    Is influential: {isInfluential}')\n"
   ]
  },
  {
   "cell_type": "code",
   "execution_count": null,
   "metadata": {
    "ExecuteTime": {
     "end_time": "2018-12-06T22:16:28.547163Z",
     "start_time": "2018-12-06T22:15:17.261504Z"
    }
   },
   "outputs": [],
   "source": [
    "comp_creator = ComponentCreator(collection=papers)\n",
    "E,X,Y = comp_creator.edge_construct(['e95b97b143378e91acaf5b6e9110dbd5b1c4ed22'],4)"
   ]
  },
  {
   "cell_type": "code",
   "execution_count": null,
   "metadata": {
    "ExecuteTime": {
     "end_time": "2018-12-06T22:20:41.037346Z",
     "start_time": "2018-12-06T22:20:41.002416Z"
    }
   },
   "outputs": [],
   "source": [
    "X.index = X['_id']"
   ]
  },
  {
   "cell_type": "code",
   "execution_count": null,
   "metadata": {
    "ExecuteTime": {
     "end_time": "2018-12-06T22:21:41.109985Z",
     "start_time": "2018-12-06T22:21:29.356545Z"
    },
    "scrolled": true
   },
   "outputs": [],
   "source": [
    "e = recommeder._transform_edges(E,X).drop(['src','dst'],axis=1)"
   ]
  },
  {
   "cell_type": "code",
   "execution_count": null,
   "metadata": {
    "ExecuteTime": {
     "end_time": "2018-12-06T22:32:33.927170Z",
     "start_time": "2018-12-06T22:32:33.891715Z"
    }
   },
   "outputs": [],
   "source": []
  },
  {
   "cell_type": "code",
   "execution_count": null,
   "metadata": {
    "ExecuteTime": {
     "end_time": "2018-12-06T23:02:03.064065Z",
     "start_time": "2018-12-06T23:01:56.953899Z"
    }
   },
   "outputs": [],
   "source": [
    "mdl = RandomForestClassifier(max_depth=5, criterion='entropy', n_estimators=5000, n_jobs=-1, max_features=2)\n",
    "# mdl = GradientBoostingClassifier(n_estimators=10000, learning_rate=0.1, max_features='sqrt')\n",
    "e0,et,y0,yt = train_test_split(e,y)\n",
    "mdl.fit(e0,y0)"
   ]
  },
  {
   "cell_type": "code",
   "execution_count": null,
   "metadata": {
    "ExecuteTime": {
     "end_time": "2018-12-06T23:02:05.736277Z",
     "start_time": "2018-12-06T23:02:03.067630Z"
    }
   },
   "outputs": [],
   "source": [
    "try:\n",
    "    tpr, fpr, thr = roc_curve(y_score=mdl.predict_proba(et)[:,1], y_true=yt)\n",
    "    \n",
    "    print(roc_auc_score(y_score=mdl.predict_proba(et)[:,1], y_true=yt))\n",
    "    print(log_loss(y_pred=mdl.predict_proba(et), y_true=yt))\n",
    "    plt.plot(tpr,fpr)\n",
    "except AttributeError:\n",
    "    tpr, fpr, thr = roc_curve(y_score=mdl.predict(et), y_true=yt)\n",
    "    print(roc_auc_score(y_score=mdl.predict(et), y_true=yt))\n",
    "    print(log_loss(y_pred=mdl.predict(et), y_true=yt))\n",
    "    plt.plot(tpr,fpr)"
   ]
  },
  {
   "cell_type": "markdown",
   "metadata": {
    "ExecuteTime": {
     "end_time": "2018-12-06T22:10:52.310660Z",
     "start_time": "2018-12-06T22:10:52.259545Z"
    }
   },
   "source": []
  },
  {
   "cell_type": "markdown",
   "metadata": {},
   "source": []
  },
  {
   "cell_type": "markdown",
   "metadata": {},
   "source": []
  },
  {
   "cell_type": "markdown",
   "metadata": {},
   "source": []
  },
  {
   "cell_type": "markdown",
   "metadata": {},
   "source": []
  },
  {
   "cell_type": "markdown",
   "metadata": {},
   "source": []
  },
  {
   "cell_type": "markdown",
   "metadata": {},
   "source": []
  },
  {
   "cell_type": "markdown",
   "metadata": {},
   "source": []
  },
  {
   "cell_type": "markdown",
   "metadata": {},
   "source": []
  },
  {
   "cell_type": "markdown",
   "metadata": {},
   "source": []
  },
  {
   "cell_type": "markdown",
   "metadata": {},
   "source": [
    "------\n",
    "\n",
    "\n",
    "\n",
    "\n",
    "\n",
    "\n",
    "\n",
    "\n",
    " \n",
    "\n",
    "\n",
    "\n",
    "\n",
    "\n",
    "\n",
    "-----\n",
    "\n",
    "# Example"
   ]
  },
  {
   "cell_type": "code",
   "execution_count": 149,
   "metadata": {
    "ExecuteTime": {
     "end_time": "2018-12-08T00:38:27.553050Z",
     "start_time": "2018-12-08T00:38:27.325765Z"
    },
    "code_folding": []
   },
   "outputs": [],
   "source": [
    "title = '''\n",
    "The Design and Analysis of Computer Algorithms\n",
    "'''\n",
    "\n",
    "abstract = '''\n",
    "Addison-Wesley Pub. Co., 1974, , 470 pages. With this text, you gain an understanding of the fundamental concepts of algorithms, \n",
    "the very heart of computer science. It introduces the basic data structures and programming techniques often used in efficient \n",
    "algorithms. Covers use of lists, push-down stacks, queues, trees, and graphs. Later chapters go into sorting, \n",
    "searching and graphing algorithms, the string-matching algorithms, and the Schonhage-Strassen \n",
    "integer-multiplication algorithm. Provides numerous graded exercises at the end of each chapter. \n",
    "'''\n",
    "\n",
    "tags = [\n",
    "    'stacks', \n",
    "    'queues', \n",
    "    'trees',\n",
    "    'algorithm',\n",
    "    'computer science',\n",
    "    'data science'\n",
    "]"
   ]
  },
  {
   "cell_type": "code",
   "execution_count": 150,
   "metadata": {
    "ExecuteTime": {
     "end_time": "2018-12-08T00:38:28.778919Z",
     "start_time": "2018-12-08T00:38:28.725572Z"
    }
   },
   "outputs": [],
   "source": [
    "x = pd.DataFrame([\n",
    "    {'_id':'test', \n",
    "     'paperAbstract': abstract, \n",
    "     'title':title, \n",
    "     'entities':tags,\n",
    "     'year':2018}\n",
    "])"
   ]
  },
  {
   "cell_type": "code",
   "execution_count": 153,
   "metadata": {
    "ExecuteTime": {
     "end_time": "2018-12-08T00:41:30.257833Z",
     "start_time": "2018-12-08T00:41:18.814006Z"
    }
   },
   "outputs": [
    {
     "name": "stdout",
     "output_type": "stream",
     "text": [
      "Computer Model of Gambling and Bluffing\n",
      "\n",
      "Benchmarking graph-based clustering algorithms\n",
      "\n",
      "A hybrid genetically-bacterial foraging algorithm converged by particle swarm optimisation for global optimisation\n",
      "\n",
      "Performance assessment of foraging algorithms vs. evolutionary algorithms\n",
      "\n",
      "Combining Pattern Classifiers: Methods and Algorithms\n",
      "\n",
      "Computer Poker\n",
      "\n",
      "A New Heuristic Algorithm for Unit Commitment Problem\n",
      "\n",
      "Computer Models of Stroke Recovery: Implications for Neurorehabilitation\n",
      "\n",
      "Low-Complexity MAP-Based Successive Data Detection for Coded OFDM Systems Over Highly Mobile Wireless Channels\n",
      "\n",
      "A two-stage framework for bat algorithm\n",
      "\n",
      "Secure Computer Systems: A Retrospective\n",
      "\n",
      "ChucK: A Strongly Timed Computer Music Language\n",
      "\n",
      "The fifth generation - artificial intelligence and Japan's computer challenge to the world\n",
      "\n",
      "A Novel Evolutionary-Fuzzy System for Function Approximation and Comparison the Robust of Used Evolutionary Algorithms\n",
      "\n",
      "Rounding-o errors in matrix processes\n",
      "\n",
      "AM Turing ’ s Original Proposal for the Development of an Electronic Computer : Reprinted with a Foreword by DW Davies Universal Turing Machine\n",
      "\n",
      "Information Extraction: Algorithms and Prospects in a Retrieval Context\n",
      "\n",
      "Nature-Inspired Mateheuristic Algorithms: Success and New Challenges\n",
      "\n",
      "Why Gödel Didn't Have Church's Thesis\n",
      "\n",
      "A comprehensive survey of brain storm optimization algorithms\n",
      "\n",
      "Stability of continuous-time distributed consensus algorithms\n",
      "\n",
      "Alan Turing - Father of Modern Computer Science father of modern computer science\n",
      "\n",
      "Reversible image watermarking based on a generalized integer transform\n",
      "\n",
      "A novel hybrid artificial bee colony algorithm with crossover operator for numerical optimization\n",
      "\n",
      "Variable Neighborhood Search Methods\n"
     ]
    }
   ],
   "source": [
    "# print('\\n\\n'.join(_recommender.recommend(x, 25)['title'].values))"
   ]
  },
  {
   "cell_type": "code",
   "execution_count": null,
   "metadata": {
    "ExecuteTime": {
     "end_time": "2018-12-08T00:18:07.296892Z",
     "start_time": "2018-12-08T00:18:07.254302Z"
    }
   },
   "outputs": [],
   "source": []
  },
  {
   "cell_type": "code",
   "execution_count": null,
   "metadata": {},
   "outputs": [],
   "source": []
  }
 ],
 "metadata": {
  "kernelspec": {
   "display_name": "Python 3",
   "language": "python",
   "name": "python3"
  },
  "language_info": {
   "codemirror_mode": {
    "name": "ipython",
    "version": 3
   },
   "file_extension": ".py",
   "mimetype": "text/x-python",
   "name": "python",
   "nbconvert_exporter": "python",
   "pygments_lexer": "ipython3",
   "version": "3.6.5"
  }
 },
 "nbformat": 4,
 "nbformat_minor": 2
}
