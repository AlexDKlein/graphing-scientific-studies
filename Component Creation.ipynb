{
 "cells": [
  {
   "cell_type": "code",
   "execution_count": 76,
   "metadata": {
    "ExecuteTime": {
     "end_time": "2018-12-02T22:48:33.894312Z",
     "start_time": "2018-12-02T22:48:33.863701Z"
    }
   },
   "outputs": [],
   "source": [
    "import boto3\n",
    "import time\n",
    "import json\n",
    "import csv\n",
    "import pandas as pd\n",
    "from pymongo import MongoClient\n",
    "from pymongo.errors import DuplicateKeyError\n",
    "\n",
    "from src.data_reader import DataReader, RetractionFinder\n",
    "from src.to_gexf import to_gexf\n",
    "from src.get_redacted import get_paper, load_redacted, get_doi, gen_retracted\n",
    "import src.load_data as load_data\n",
    "\n",
    "import pyspark\n",
    "import pyspark.sql.functions as F\n",
    "from pyspark.sql.types import *\n",
    "from pyspark.sql import dataframe\n",
    "import graphframes\n",
    "\n",
    "import requests\n"
   ]
  },
  {
   "cell_type": "code",
   "execution_count": 2,
   "metadata": {
    "ExecuteTime": {
     "end_time": "2018-12-02T21:51:28.602417Z",
     "start_time": "2018-12-02T21:51:28.462891Z"
    }
   },
   "outputs": [],
   "source": [
    "client = MongoClient()\n",
    "db = client['capstone']\n",
    "papers = db.papers\n",
    "s3 = boto3.client('s3')"
   ]
  },
  {
   "cell_type": "code",
   "execution_count": 3,
   "metadata": {
    "ExecuteTime": {
     "end_time": "2018-12-02T21:51:30.253146Z",
     "start_time": "2018-12-02T21:51:30.222680Z"
    }
   },
   "outputs": [],
   "source": [
    "# papers.find_one('883a188c2aad75e2e12769e5f48fe582223b3507')"
   ]
  },
  {
   "cell_type": "code",
   "execution_count": 47,
   "metadata": {
    "ExecuteTime": {
     "end_time": "2018-12-02T22:32:18.551512Z",
     "start_time": "2018-12-02T22:32:18.523803Z"
    }
   },
   "outputs": [],
   "source": [
    "def construct_component(collection, start_id=None, \n",
    "                        max_depth=3, max_size=1e6,\n",
    "                        component=set(), depth=0, v=False):\n",
    "    if start_id in component or depth > max_depth and max_depth > 0:\n",
    "        return component\n",
    "    component |= {start_id}\n",
    "    node = collection.find_one(start_id)\n",
    "    if node is None: \n",
    "        return component\n",
    "    for other in node['inCitations'] + node['outCitations']:\n",
    "        component = construct_component(collection, other, \n",
    "                                        max_depth, component, \n",
    "                                        depth=depth + 1, v=v)\n",
    "    if v and len(component):\n",
    "        print(len(component), depth)\n",
    "    return component"
   ]
  },
  {
   "cell_type": "code",
   "execution_count": 51,
   "metadata": {
    "ExecuteTime": {
     "end_time": "2018-12-02T22:32:52.139526Z",
     "start_time": "2018-12-02T22:32:52.107981Z"
    }
   },
   "outputs": [],
   "source": [
    "def write_component(collection, component, path='data/component'):\n",
    "    result = collection.find({'_id': {'$in': list(component)}})\n",
    "    with open(path, 'w') as f:\n",
    "        for itm in result:\n",
    "            f.writelines(json.dumps(itm))\n",
    "            f.writelines('\\n')"
   ]
  },
  {
   "cell_type": "code",
   "execution_count": null,
   "metadata": {},
   "outputs": [],
   "source": []
  },
  {
   "cell_type": "code",
   "execution_count": 48,
   "metadata": {
    "ExecuteTime": {
     "end_time": "2018-12-02T22:32:22.170866Z",
     "start_time": "2018-12-02T22:32:18.909131Z"
    }
   },
   "outputs": [],
   "source": [
    "comp = construct_component(papers, '1c2a234329c161bd187b61cb9794d68b03dd1296', 2, v=False)"
   ]
  },
  {
   "cell_type": "code",
   "execution_count": 52,
   "metadata": {
    "ExecuteTime": {
     "end_time": "2018-12-02T22:33:10.644308Z",
     "start_time": "2018-12-02T22:33:04.962686Z"
    }
   },
   "outputs": [],
   "source": [
    "write_component(papers, comp)"
   ]
  },
  {
   "cell_type": "code",
   "execution_count": 53,
   "metadata": {
    "ExecuteTime": {
     "end_time": "2018-12-02T22:33:16.050455Z",
     "start_time": "2018-12-02T22:33:12.157435Z"
    }
   },
   "outputs": [],
   "source": [
    "reader = DataReader('data/component')\n",
    "reader.write(dynamic=True)"
   ]
  },
  {
   "cell_type": "code",
   "execution_count": 58,
   "metadata": {
    "ExecuteTime": {
     "end_time": "2018-12-02T22:41:39.579554Z",
     "start_time": "2018-12-02T22:41:34.077611Z"
    }
   },
   "outputs": [],
   "source": [
    "edges = spark.createDataFrame(reader.read_edges(), schema=StructType(\n",
    "[\n",
    "    StructField(name='src', dataType=StringType()),\n",
    "    StructField(name='dst', dataType=StringType()),\n",
    "    StructField(name='year', dataType=StringType())\n",
    "]\n",
    ")).withColumn('id', F.monotonically_increasing_id())\n",
    "\n",
    "\n",
    "nodes = spark.createDataFrame(reader.read_nodes(), schema=StructType(\n",
    "[\n",
    "    StructField(name='id', dataType=StringType()),\n",
    "    StructField(name='year', dataType=StringType()),\n",
    "    StructField(name='authors', dataType=StringType())\n",
    "]\n",
    "))"
   ]
  },
  {
   "cell_type": "code",
   "execution_count": 66,
   "metadata": {
    "ExecuteTime": {
     "end_time": "2018-12-02T22:43:28.617963Z",
     "start_time": "2018-12-02T22:43:28.579795Z"
    }
   },
   "outputs": [
    {
     "data": {
      "text/plain": [
       "<itertools.chain at 0x1887ca278>"
      ]
     },
     "execution_count": 66,
     "metadata": {},
     "output_type": "execute_result"
    }
   ],
   "source": [
    "iter_nodes = g.vertices.rdd.map(lambda v: f'      <node id=\"{v[\"id\"]}\"  start=\"{v[\"year\"]}\" end=\"2018\" />\\n').toLocalIterator()\n",
    "iter_nodes"
   ]
  },
  {
   "cell_type": "code",
   "execution_count": 74,
   "metadata": {
    "ExecuteTime": {
     "end_time": "2018-12-02T22:48:27.100444Z",
     "start_time": "2018-12-02T22:46:53.601172Z"
    }
   },
   "outputs": [
    {
     "ename": "KeyboardInterrupt",
     "evalue": "",
     "output_type": "error",
     "traceback": [
      "\u001b[0;31m---------------------------------------------------------------------------\u001b[0m",
      "\u001b[0;31mKeyboardInterrupt\u001b[0m                         Traceback (most recent call last)",
      "\u001b[0;32m<ipython-input-74-010afd9bf432>\u001b[0m in \u001b[0;36m<module>\u001b[0;34m()\u001b[0m\n\u001b[0;32m----> 1\u001b[0;31m \u001b[0mnodes\u001b[0m\u001b[0;34m.\u001b[0m\u001b[0mtoJSON\u001b[0m\u001b[0;34m(\u001b[0m\u001b[0;34m)\u001b[0m\u001b[0;34m.\u001b[0m\u001b[0mfirst\u001b[0m\u001b[0;34m(\u001b[0m\u001b[0;34m)\u001b[0m\u001b[0;34m\u001b[0m\u001b[0m\n\u001b[0m",
      "\u001b[0;32m/usr/local/Cellar/apache-spark/2.3.2/libexec/python/pyspark/rdd.py\u001b[0m in \u001b[0;36mfirst\u001b[0;34m(self)\u001b[0m\n\u001b[1;32m   1374\u001b[0m         \u001b[0mValueError\u001b[0m\u001b[0;34m:\u001b[0m \u001b[0mRDD\u001b[0m \u001b[0;32mis\u001b[0m \u001b[0mempty\u001b[0m\u001b[0;34m\u001b[0m\u001b[0m\n\u001b[1;32m   1375\u001b[0m         \"\"\"\n\u001b[0;32m-> 1376\u001b[0;31m         \u001b[0mrs\u001b[0m \u001b[0;34m=\u001b[0m \u001b[0mself\u001b[0m\u001b[0;34m.\u001b[0m\u001b[0mtake\u001b[0m\u001b[0;34m(\u001b[0m\u001b[0;36m1\u001b[0m\u001b[0;34m)\u001b[0m\u001b[0;34m\u001b[0m\u001b[0m\n\u001b[0m\u001b[1;32m   1377\u001b[0m         \u001b[0;32mif\u001b[0m \u001b[0mrs\u001b[0m\u001b[0;34m:\u001b[0m\u001b[0;34m\u001b[0m\u001b[0m\n\u001b[1;32m   1378\u001b[0m             \u001b[0;32mreturn\u001b[0m \u001b[0mrs\u001b[0m\u001b[0;34m[\u001b[0m\u001b[0;36m0\u001b[0m\u001b[0;34m]\u001b[0m\u001b[0;34m\u001b[0m\u001b[0m\n",
      "\u001b[0;32m/usr/local/Cellar/apache-spark/2.3.2/libexec/python/pyspark/rdd.py\u001b[0m in \u001b[0;36mtake\u001b[0;34m(self, num)\u001b[0m\n\u001b[1;32m   1356\u001b[0m \u001b[0;34m\u001b[0m\u001b[0m\n\u001b[1;32m   1357\u001b[0m             \u001b[0mp\u001b[0m \u001b[0;34m=\u001b[0m \u001b[0mrange\u001b[0m\u001b[0;34m(\u001b[0m\u001b[0mpartsScanned\u001b[0m\u001b[0;34m,\u001b[0m \u001b[0mmin\u001b[0m\u001b[0;34m(\u001b[0m\u001b[0mpartsScanned\u001b[0m \u001b[0;34m+\u001b[0m \u001b[0mnumPartsToTry\u001b[0m\u001b[0;34m,\u001b[0m \u001b[0mtotalParts\u001b[0m\u001b[0;34m)\u001b[0m\u001b[0;34m)\u001b[0m\u001b[0;34m\u001b[0m\u001b[0m\n\u001b[0;32m-> 1358\u001b[0;31m             \u001b[0mres\u001b[0m \u001b[0;34m=\u001b[0m \u001b[0mself\u001b[0m\u001b[0;34m.\u001b[0m\u001b[0mcontext\u001b[0m\u001b[0;34m.\u001b[0m\u001b[0mrunJob\u001b[0m\u001b[0;34m(\u001b[0m\u001b[0mself\u001b[0m\u001b[0;34m,\u001b[0m \u001b[0mtakeUpToNumLeft\u001b[0m\u001b[0;34m,\u001b[0m \u001b[0mp\u001b[0m\u001b[0;34m)\u001b[0m\u001b[0;34m\u001b[0m\u001b[0m\n\u001b[0m\u001b[1;32m   1359\u001b[0m \u001b[0;34m\u001b[0m\u001b[0m\n\u001b[1;32m   1360\u001b[0m             \u001b[0mitems\u001b[0m \u001b[0;34m+=\u001b[0m \u001b[0mres\u001b[0m\u001b[0;34m\u001b[0m\u001b[0m\n",
      "\u001b[0;32m/usr/local/Cellar/apache-spark/2.3.2/libexec/python/pyspark/context.py\u001b[0m in \u001b[0;36mrunJob\u001b[0;34m(self, rdd, partitionFunc, partitions, allowLocal)\u001b[0m\n\u001b[1;32m   1031\u001b[0m         \u001b[0;31m# SparkContext#runJob.\u001b[0m\u001b[0;34m\u001b[0m\u001b[0;34m\u001b[0m\u001b[0m\n\u001b[1;32m   1032\u001b[0m         \u001b[0mmappedRDD\u001b[0m \u001b[0;34m=\u001b[0m \u001b[0mrdd\u001b[0m\u001b[0;34m.\u001b[0m\u001b[0mmapPartitions\u001b[0m\u001b[0;34m(\u001b[0m\u001b[0mpartitionFunc\u001b[0m\u001b[0;34m)\u001b[0m\u001b[0;34m\u001b[0m\u001b[0m\n\u001b[0;32m-> 1033\u001b[0;31m         \u001b[0msock_info\u001b[0m \u001b[0;34m=\u001b[0m \u001b[0mself\u001b[0m\u001b[0;34m.\u001b[0m\u001b[0m_jvm\u001b[0m\u001b[0;34m.\u001b[0m\u001b[0mPythonRDD\u001b[0m\u001b[0;34m.\u001b[0m\u001b[0mrunJob\u001b[0m\u001b[0;34m(\u001b[0m\u001b[0mself\u001b[0m\u001b[0;34m.\u001b[0m\u001b[0m_jsc\u001b[0m\u001b[0;34m.\u001b[0m\u001b[0msc\u001b[0m\u001b[0;34m(\u001b[0m\u001b[0;34m)\u001b[0m\u001b[0;34m,\u001b[0m \u001b[0mmappedRDD\u001b[0m\u001b[0;34m.\u001b[0m\u001b[0m_jrdd\u001b[0m\u001b[0;34m,\u001b[0m \u001b[0mpartitions\u001b[0m\u001b[0;34m)\u001b[0m\u001b[0;34m\u001b[0m\u001b[0m\n\u001b[0m\u001b[1;32m   1034\u001b[0m         \u001b[0;32mreturn\u001b[0m \u001b[0mlist\u001b[0m\u001b[0;34m(\u001b[0m\u001b[0m_load_from_socket\u001b[0m\u001b[0;34m(\u001b[0m\u001b[0msock_info\u001b[0m\u001b[0;34m,\u001b[0m \u001b[0mmappedRDD\u001b[0m\u001b[0;34m.\u001b[0m\u001b[0m_jrdd_deserializer\u001b[0m\u001b[0;34m)\u001b[0m\u001b[0;34m)\u001b[0m\u001b[0;34m\u001b[0m\u001b[0m\n\u001b[1;32m   1035\u001b[0m \u001b[0;34m\u001b[0m\u001b[0m\n",
      "\u001b[0;32m/usr/local/Cellar/apache-spark/2.3.2/libexec/python/lib/py4j-0.10.7-src.zip/py4j/java_gateway.py\u001b[0m in \u001b[0;36m__call__\u001b[0;34m(self, *args)\u001b[0m\n\u001b[1;32m   1253\u001b[0m             \u001b[0mproto\u001b[0m\u001b[0;34m.\u001b[0m\u001b[0mEND_COMMAND_PART\u001b[0m\u001b[0;34m\u001b[0m\u001b[0m\n\u001b[1;32m   1254\u001b[0m \u001b[0;34m\u001b[0m\u001b[0m\n\u001b[0;32m-> 1255\u001b[0;31m         \u001b[0manswer\u001b[0m \u001b[0;34m=\u001b[0m \u001b[0mself\u001b[0m\u001b[0;34m.\u001b[0m\u001b[0mgateway_client\u001b[0m\u001b[0;34m.\u001b[0m\u001b[0msend_command\u001b[0m\u001b[0;34m(\u001b[0m\u001b[0mcommand\u001b[0m\u001b[0;34m)\u001b[0m\u001b[0;34m\u001b[0m\u001b[0m\n\u001b[0m\u001b[1;32m   1256\u001b[0m         return_value = get_return_value(\n\u001b[1;32m   1257\u001b[0m             answer, self.gateway_client, self.target_id, self.name)\n",
      "\u001b[0;32m/usr/local/Cellar/apache-spark/2.3.2/libexec/python/lib/py4j-0.10.7-src.zip/py4j/java_gateway.py\u001b[0m in \u001b[0;36msend_command\u001b[0;34m(self, command, retry, binary)\u001b[0m\n\u001b[1;32m    983\u001b[0m         \u001b[0mconnection\u001b[0m \u001b[0;34m=\u001b[0m \u001b[0mself\u001b[0m\u001b[0;34m.\u001b[0m\u001b[0m_get_connection\u001b[0m\u001b[0;34m(\u001b[0m\u001b[0;34m)\u001b[0m\u001b[0;34m\u001b[0m\u001b[0m\n\u001b[1;32m    984\u001b[0m         \u001b[0;32mtry\u001b[0m\u001b[0;34m:\u001b[0m\u001b[0;34m\u001b[0m\u001b[0m\n\u001b[0;32m--> 985\u001b[0;31m             \u001b[0mresponse\u001b[0m \u001b[0;34m=\u001b[0m \u001b[0mconnection\u001b[0m\u001b[0;34m.\u001b[0m\u001b[0msend_command\u001b[0m\u001b[0;34m(\u001b[0m\u001b[0mcommand\u001b[0m\u001b[0;34m)\u001b[0m\u001b[0;34m\u001b[0m\u001b[0m\n\u001b[0m\u001b[1;32m    986\u001b[0m             \u001b[0;32mif\u001b[0m \u001b[0mbinary\u001b[0m\u001b[0;34m:\u001b[0m\u001b[0;34m\u001b[0m\u001b[0m\n\u001b[1;32m    987\u001b[0m                 \u001b[0;32mreturn\u001b[0m \u001b[0mresponse\u001b[0m\u001b[0;34m,\u001b[0m \u001b[0mself\u001b[0m\u001b[0;34m.\u001b[0m\u001b[0m_create_connection_guard\u001b[0m\u001b[0;34m(\u001b[0m\u001b[0mconnection\u001b[0m\u001b[0;34m)\u001b[0m\u001b[0;34m\u001b[0m\u001b[0m\n",
      "\u001b[0;32m/usr/local/Cellar/apache-spark/2.3.2/libexec/python/lib/py4j-0.10.7-src.zip/py4j/java_gateway.py\u001b[0m in \u001b[0;36msend_command\u001b[0;34m(self, command)\u001b[0m\n\u001b[1;32m   1150\u001b[0m \u001b[0;34m\u001b[0m\u001b[0m\n\u001b[1;32m   1151\u001b[0m         \u001b[0;32mtry\u001b[0m\u001b[0;34m:\u001b[0m\u001b[0;34m\u001b[0m\u001b[0m\n\u001b[0;32m-> 1152\u001b[0;31m             \u001b[0manswer\u001b[0m \u001b[0;34m=\u001b[0m \u001b[0msmart_decode\u001b[0m\u001b[0;34m(\u001b[0m\u001b[0mself\u001b[0m\u001b[0;34m.\u001b[0m\u001b[0mstream\u001b[0m\u001b[0;34m.\u001b[0m\u001b[0mreadline\u001b[0m\u001b[0;34m(\u001b[0m\u001b[0;34m)\u001b[0m\u001b[0;34m[\u001b[0m\u001b[0;34m:\u001b[0m\u001b[0;34m-\u001b[0m\u001b[0;36m1\u001b[0m\u001b[0;34m]\u001b[0m\u001b[0;34m)\u001b[0m\u001b[0;34m\u001b[0m\u001b[0m\n\u001b[0m\u001b[1;32m   1153\u001b[0m             \u001b[0mlogger\u001b[0m\u001b[0;34m.\u001b[0m\u001b[0mdebug\u001b[0m\u001b[0;34m(\u001b[0m\u001b[0;34m\"Answer received: {0}\"\u001b[0m\u001b[0;34m.\u001b[0m\u001b[0mformat\u001b[0m\u001b[0;34m(\u001b[0m\u001b[0manswer\u001b[0m\u001b[0;34m)\u001b[0m\u001b[0;34m)\u001b[0m\u001b[0;34m\u001b[0m\u001b[0m\n\u001b[1;32m   1154\u001b[0m             \u001b[0;32mif\u001b[0m \u001b[0manswer\u001b[0m\u001b[0;34m.\u001b[0m\u001b[0mstartswith\u001b[0m\u001b[0;34m(\u001b[0m\u001b[0mproto\u001b[0m\u001b[0;34m.\u001b[0m\u001b[0mRETURN_MESSAGE\u001b[0m\u001b[0;34m)\u001b[0m\u001b[0;34m:\u001b[0m\u001b[0;34m\u001b[0m\u001b[0m\n",
      "\u001b[0;32m~/anaconda3/lib/python3.6/socket.py\u001b[0m in \u001b[0;36mreadinto\u001b[0;34m(self, b)\u001b[0m\n\u001b[1;32m    584\u001b[0m         \u001b[0;32mwhile\u001b[0m \u001b[0;32mTrue\u001b[0m\u001b[0;34m:\u001b[0m\u001b[0;34m\u001b[0m\u001b[0m\n\u001b[1;32m    585\u001b[0m             \u001b[0;32mtry\u001b[0m\u001b[0;34m:\u001b[0m\u001b[0;34m\u001b[0m\u001b[0m\n\u001b[0;32m--> 586\u001b[0;31m                 \u001b[0;32mreturn\u001b[0m \u001b[0mself\u001b[0m\u001b[0;34m.\u001b[0m\u001b[0m_sock\u001b[0m\u001b[0;34m.\u001b[0m\u001b[0mrecv_into\u001b[0m\u001b[0;34m(\u001b[0m\u001b[0mb\u001b[0m\u001b[0;34m)\u001b[0m\u001b[0;34m\u001b[0m\u001b[0m\n\u001b[0m\u001b[1;32m    587\u001b[0m             \u001b[0;32mexcept\u001b[0m \u001b[0mtimeout\u001b[0m\u001b[0;34m:\u001b[0m\u001b[0;34m\u001b[0m\u001b[0m\n\u001b[1;32m    588\u001b[0m                 \u001b[0mself\u001b[0m\u001b[0;34m.\u001b[0m\u001b[0m_timeout_occurred\u001b[0m \u001b[0;34m=\u001b[0m \u001b[0;32mTrue\u001b[0m\u001b[0;34m\u001b[0m\u001b[0m\n",
      "\u001b[0;31mKeyboardInterrupt\u001b[0m: "
     ]
    }
   ],
   "source": [
    "nodes.toJSON().first()"
   ]
  },
  {
   "cell_type": "code",
   "execution_count": 57,
   "metadata": {
    "ExecuteTime": {
     "end_time": "2018-12-02T22:41:22.482712Z",
     "start_time": "2018-12-02T22:33:59.642718Z"
    }
   },
   "outputs": [
    {
     "ename": "KeyboardInterrupt",
     "evalue": "",
     "output_type": "error",
     "traceback": [
      "\u001b[0;31m---------------------------------------------------------------------------\u001b[0m",
      "\u001b[0;31mKeyboardInterrupt\u001b[0m                         Traceback (most recent call last)",
      "\u001b[0;32m<ipython-input-57-68eef7f1cb27>\u001b[0m in \u001b[0;36m<module>\u001b[0;34m()\u001b[0m\n\u001b[1;32m      1\u001b[0m \u001b[0mg\u001b[0m \u001b[0;34m=\u001b[0m \u001b[0mgraphframes\u001b[0m\u001b[0;34m.\u001b[0m\u001b[0mGraphFrame\u001b[0m\u001b[0;34m(\u001b[0m\u001b[0me\u001b[0m\u001b[0;34m=\u001b[0m\u001b[0medges\u001b[0m\u001b[0;34m,\u001b[0m \u001b[0mv\u001b[0m\u001b[0;34m=\u001b[0m\u001b[0mnodes\u001b[0m\u001b[0;34m)\u001b[0m\u001b[0;34m\u001b[0m\u001b[0m\n\u001b[0;32m----> 2\u001b[0;31m \u001b[0mto_gexf\u001b[0m\u001b[0;34m(\u001b[0m\u001b[0mg\u001b[0m\u001b[0;34m,\u001b[0m \u001b[0;34m'data/component.gexf'\u001b[0m\u001b[0;34m,\u001b[0m \u001b[0mdynamic\u001b[0m\u001b[0;34m=\u001b[0m\u001b[0;32mTrue\u001b[0m\u001b[0;34m)\u001b[0m\u001b[0;34m\u001b[0m\u001b[0m\n\u001b[0m",
      "\u001b[0;32m~/Galvanize/Capstone/graphing-scientific-studies/src/to_gexf.py\u001b[0m in \u001b[0;36mto_gexf\u001b[0;34m(g, path, dynamic)\u001b[0m\n\u001b[1;32m     10\u001b[0m     \"\"\"\n\u001b[1;32m     11\u001b[0m     \u001b[0;32mif\u001b[0m \u001b[0mdynamic\u001b[0m\u001b[0;34m:\u001b[0m\u001b[0;34m\u001b[0m\u001b[0m\n\u001b[0;32m---> 12\u001b[0;31m       \u001b[0mnodes\u001b[0m \u001b[0;34m=\u001b[0m \u001b[0;34m''\u001b[0m\u001b[0;34m.\u001b[0m\u001b[0mjoin\u001b[0m\u001b[0;34m(\u001b[0m\u001b[0mg\u001b[0m\u001b[0;34m.\u001b[0m\u001b[0mvertices\u001b[0m\u001b[0;34m.\u001b[0m\u001b[0mrdd\u001b[0m\u001b[0;34m.\u001b[0m\u001b[0mmap\u001b[0m\u001b[0;34m(\u001b[0m\u001b[0;32mlambda\u001b[0m \u001b[0mv\u001b[0m\u001b[0;34m:\u001b[0m \u001b[0;34mf'      <node id=\"{v[\"id\"]}\"  start=\"{v[\"year\"]}\" end=\"2018\" />\\n'\u001b[0m\u001b[0;34m)\u001b[0m\u001b[0;34m.\u001b[0m\u001b[0mcollect\u001b[0m\u001b[0;34m(\u001b[0m\u001b[0;34m)\u001b[0m\u001b[0;34m)\u001b[0m\u001b[0;34m\u001b[0m\u001b[0m\n\u001b[0m\u001b[1;32m     13\u001b[0m       \u001b[0medges\u001b[0m \u001b[0;34m=\u001b[0m \u001b[0;34m''\u001b[0m\u001b[0;34m.\u001b[0m\u001b[0mjoin\u001b[0m\u001b[0;34m(\u001b[0m\u001b[0mg\u001b[0m\u001b[0;34m.\u001b[0m\u001b[0medges\u001b[0m\u001b[0;34m.\u001b[0m\u001b[0mrdd\u001b[0m\u001b[0;34m.\u001b[0m\u001b[0mmap\u001b[0m\u001b[0;34m(\u001b[0m\u001b[0;32mlambda\u001b[0m \u001b[0me\u001b[0m\u001b[0;34m:\u001b[0m \u001b[0;34mf'      <edge id=\"{e[\"id\"]}\" source=\"{e[\"src\"]}\" target=\"{e[\"dst\"]}\" start=\"{e[\"year\"]}\" end=\"2018\" />\\n'\u001b[0m\u001b[0;34m)\u001b[0m\u001b[0;34m.\u001b[0m\u001b[0mcollect\u001b[0m\u001b[0;34m(\u001b[0m\u001b[0;34m)\u001b[0m\u001b[0;34m)\u001b[0m\u001b[0;34m\u001b[0m\u001b[0m\n\u001b[1;32m     14\u001b[0m     \u001b[0;32melse\u001b[0m\u001b[0;34m:\u001b[0m\u001b[0;34m\u001b[0m\u001b[0m\n",
      "\u001b[0;32m/usr/local/Cellar/apache-spark/2.3.2/libexec/python/pyspark/rdd.py\u001b[0m in \u001b[0;36mcollect\u001b[0;34m(self)\u001b[0m\n\u001b[1;32m    812\u001b[0m         \"\"\"\n\u001b[1;32m    813\u001b[0m         \u001b[0;32mwith\u001b[0m \u001b[0mSCCallSiteSync\u001b[0m\u001b[0;34m(\u001b[0m\u001b[0mself\u001b[0m\u001b[0;34m.\u001b[0m\u001b[0mcontext\u001b[0m\u001b[0;34m)\u001b[0m \u001b[0;32mas\u001b[0m \u001b[0mcss\u001b[0m\u001b[0;34m:\u001b[0m\u001b[0;34m\u001b[0m\u001b[0m\n\u001b[0;32m--> 814\u001b[0;31m             \u001b[0msock_info\u001b[0m \u001b[0;34m=\u001b[0m \u001b[0mself\u001b[0m\u001b[0;34m.\u001b[0m\u001b[0mctx\u001b[0m\u001b[0;34m.\u001b[0m\u001b[0m_jvm\u001b[0m\u001b[0;34m.\u001b[0m\u001b[0mPythonRDD\u001b[0m\u001b[0;34m.\u001b[0m\u001b[0mcollectAndServe\u001b[0m\u001b[0;34m(\u001b[0m\u001b[0mself\u001b[0m\u001b[0;34m.\u001b[0m\u001b[0m_jrdd\u001b[0m\u001b[0;34m.\u001b[0m\u001b[0mrdd\u001b[0m\u001b[0;34m(\u001b[0m\u001b[0;34m)\u001b[0m\u001b[0;34m)\u001b[0m\u001b[0;34m\u001b[0m\u001b[0m\n\u001b[0m\u001b[1;32m    815\u001b[0m         \u001b[0;32mreturn\u001b[0m \u001b[0mlist\u001b[0m\u001b[0;34m(\u001b[0m\u001b[0m_load_from_socket\u001b[0m\u001b[0;34m(\u001b[0m\u001b[0msock_info\u001b[0m\u001b[0;34m,\u001b[0m \u001b[0mself\u001b[0m\u001b[0;34m.\u001b[0m\u001b[0m_jrdd_deserializer\u001b[0m\u001b[0;34m)\u001b[0m\u001b[0;34m)\u001b[0m\u001b[0;34m\u001b[0m\u001b[0m\n\u001b[1;32m    816\u001b[0m \u001b[0;34m\u001b[0m\u001b[0m\n",
      "\u001b[0;32m/usr/local/Cellar/apache-spark/2.3.2/libexec/python/lib/py4j-0.10.7-src.zip/py4j/java_gateway.py\u001b[0m in \u001b[0;36m__call__\u001b[0;34m(self, *args)\u001b[0m\n\u001b[1;32m   1253\u001b[0m             \u001b[0mproto\u001b[0m\u001b[0;34m.\u001b[0m\u001b[0mEND_COMMAND_PART\u001b[0m\u001b[0;34m\u001b[0m\u001b[0m\n\u001b[1;32m   1254\u001b[0m \u001b[0;34m\u001b[0m\u001b[0m\n\u001b[0;32m-> 1255\u001b[0;31m         \u001b[0manswer\u001b[0m \u001b[0;34m=\u001b[0m \u001b[0mself\u001b[0m\u001b[0;34m.\u001b[0m\u001b[0mgateway_client\u001b[0m\u001b[0;34m.\u001b[0m\u001b[0msend_command\u001b[0m\u001b[0;34m(\u001b[0m\u001b[0mcommand\u001b[0m\u001b[0;34m)\u001b[0m\u001b[0;34m\u001b[0m\u001b[0m\n\u001b[0m\u001b[1;32m   1256\u001b[0m         return_value = get_return_value(\n\u001b[1;32m   1257\u001b[0m             answer, self.gateway_client, self.target_id, self.name)\n",
      "\u001b[0;32m/usr/local/Cellar/apache-spark/2.3.2/libexec/python/lib/py4j-0.10.7-src.zip/py4j/java_gateway.py\u001b[0m in \u001b[0;36msend_command\u001b[0;34m(self, command, retry, binary)\u001b[0m\n\u001b[1;32m    983\u001b[0m         \u001b[0mconnection\u001b[0m \u001b[0;34m=\u001b[0m \u001b[0mself\u001b[0m\u001b[0;34m.\u001b[0m\u001b[0m_get_connection\u001b[0m\u001b[0;34m(\u001b[0m\u001b[0;34m)\u001b[0m\u001b[0;34m\u001b[0m\u001b[0m\n\u001b[1;32m    984\u001b[0m         \u001b[0;32mtry\u001b[0m\u001b[0;34m:\u001b[0m\u001b[0;34m\u001b[0m\u001b[0m\n\u001b[0;32m--> 985\u001b[0;31m             \u001b[0mresponse\u001b[0m \u001b[0;34m=\u001b[0m \u001b[0mconnection\u001b[0m\u001b[0;34m.\u001b[0m\u001b[0msend_command\u001b[0m\u001b[0;34m(\u001b[0m\u001b[0mcommand\u001b[0m\u001b[0;34m)\u001b[0m\u001b[0;34m\u001b[0m\u001b[0m\n\u001b[0m\u001b[1;32m    986\u001b[0m             \u001b[0;32mif\u001b[0m \u001b[0mbinary\u001b[0m\u001b[0;34m:\u001b[0m\u001b[0;34m\u001b[0m\u001b[0m\n\u001b[1;32m    987\u001b[0m                 \u001b[0;32mreturn\u001b[0m \u001b[0mresponse\u001b[0m\u001b[0;34m,\u001b[0m \u001b[0mself\u001b[0m\u001b[0;34m.\u001b[0m\u001b[0m_create_connection_guard\u001b[0m\u001b[0;34m(\u001b[0m\u001b[0mconnection\u001b[0m\u001b[0;34m)\u001b[0m\u001b[0;34m\u001b[0m\u001b[0m\n",
      "\u001b[0;32m/usr/local/Cellar/apache-spark/2.3.2/libexec/python/lib/py4j-0.10.7-src.zip/py4j/java_gateway.py\u001b[0m in \u001b[0;36msend_command\u001b[0;34m(self, command)\u001b[0m\n\u001b[1;32m   1150\u001b[0m \u001b[0;34m\u001b[0m\u001b[0m\n\u001b[1;32m   1151\u001b[0m         \u001b[0;32mtry\u001b[0m\u001b[0;34m:\u001b[0m\u001b[0;34m\u001b[0m\u001b[0m\n\u001b[0;32m-> 1152\u001b[0;31m             \u001b[0manswer\u001b[0m \u001b[0;34m=\u001b[0m \u001b[0msmart_decode\u001b[0m\u001b[0;34m(\u001b[0m\u001b[0mself\u001b[0m\u001b[0;34m.\u001b[0m\u001b[0mstream\u001b[0m\u001b[0;34m.\u001b[0m\u001b[0mreadline\u001b[0m\u001b[0;34m(\u001b[0m\u001b[0;34m)\u001b[0m\u001b[0;34m[\u001b[0m\u001b[0;34m:\u001b[0m\u001b[0;34m-\u001b[0m\u001b[0;36m1\u001b[0m\u001b[0;34m]\u001b[0m\u001b[0;34m)\u001b[0m\u001b[0;34m\u001b[0m\u001b[0m\n\u001b[0m\u001b[1;32m   1153\u001b[0m             \u001b[0mlogger\u001b[0m\u001b[0;34m.\u001b[0m\u001b[0mdebug\u001b[0m\u001b[0;34m(\u001b[0m\u001b[0;34m\"Answer received: {0}\"\u001b[0m\u001b[0;34m.\u001b[0m\u001b[0mformat\u001b[0m\u001b[0;34m(\u001b[0m\u001b[0manswer\u001b[0m\u001b[0;34m)\u001b[0m\u001b[0;34m)\u001b[0m\u001b[0;34m\u001b[0m\u001b[0m\n\u001b[1;32m   1154\u001b[0m             \u001b[0;32mif\u001b[0m \u001b[0manswer\u001b[0m\u001b[0;34m.\u001b[0m\u001b[0mstartswith\u001b[0m\u001b[0;34m(\u001b[0m\u001b[0mproto\u001b[0m\u001b[0;34m.\u001b[0m\u001b[0mRETURN_MESSAGE\u001b[0m\u001b[0;34m)\u001b[0m\u001b[0;34m:\u001b[0m\u001b[0;34m\u001b[0m\u001b[0m\n",
      "\u001b[0;32m~/anaconda3/lib/python3.6/socket.py\u001b[0m in \u001b[0;36mreadinto\u001b[0;34m(self, b)\u001b[0m\n\u001b[1;32m    584\u001b[0m         \u001b[0;32mwhile\u001b[0m \u001b[0;32mTrue\u001b[0m\u001b[0;34m:\u001b[0m\u001b[0;34m\u001b[0m\u001b[0m\n\u001b[1;32m    585\u001b[0m             \u001b[0;32mtry\u001b[0m\u001b[0;34m:\u001b[0m\u001b[0;34m\u001b[0m\u001b[0m\n\u001b[0;32m--> 586\u001b[0;31m                 \u001b[0;32mreturn\u001b[0m \u001b[0mself\u001b[0m\u001b[0;34m.\u001b[0m\u001b[0m_sock\u001b[0m\u001b[0;34m.\u001b[0m\u001b[0mrecv_into\u001b[0m\u001b[0;34m(\u001b[0m\u001b[0mb\u001b[0m\u001b[0;34m)\u001b[0m\u001b[0;34m\u001b[0m\u001b[0m\n\u001b[0m\u001b[1;32m    587\u001b[0m             \u001b[0;32mexcept\u001b[0m \u001b[0mtimeout\u001b[0m\u001b[0;34m:\u001b[0m\u001b[0;34m\u001b[0m\u001b[0m\n\u001b[1;32m    588\u001b[0m                 \u001b[0mself\u001b[0m\u001b[0;34m.\u001b[0m\u001b[0m_timeout_occurred\u001b[0m \u001b[0;34m=\u001b[0m \u001b[0;32mTrue\u001b[0m\u001b[0;34m\u001b[0m\u001b[0m\n",
      "\u001b[0;31mKeyboardInterrupt\u001b[0m: "
     ]
    }
   ],
   "source": [
    "g = graphframes.GraphFrame(e=edges, v=nodes)\n",
    "to_gexf(g, 'data/component.gexf', dynamic=True)"
   ]
  },
  {
   "cell_type": "code",
   "execution_count": null,
   "metadata": {
    "ExecuteTime": {
     "end_time": "2018-12-02T22:21:25.677120Z",
     "start_time": "2018-12-02T22:21:25.581298Z"
    }
   },
   "outputs": [],
   "source": []
  },
  {
   "cell_type": "code",
   "execution_count": 4,
   "metadata": {
    "ExecuteTime": {
     "end_time": "2018-12-02T21:48:48.218708Z",
     "start_time": "2018-12-02T21:48:48.174845Z"
    }
   },
   "outputs": [
    {
     "data": {
      "text/plain": [
       "{'_id': '1c2a234329c161bd187b61cb9794d68b03dd1296',\n",
       " 'entities': ['Menopause',\n",
       "  'Ovarian Follicle',\n",
       "  'Ovariectomy',\n",
       "  'Ovary',\n",
       "  'Sampling - Surgical action',\n",
       "  'ovarian'],\n",
       " 'journalVolume': '23 3',\n",
       " 'journalPages': '699-708',\n",
       " 'pmid': '18192670v1',\n",
       " 'year': 2008,\n",
       " 'outCitations': ['9b1e57ec9106433f8232ee223c31d6582c7f6564',\n",
       "  '60eeeffc4bd3771d15e7737aa9324954d0f5d81f',\n",
       "  'afb10655a42480d5dc2468445631ea404e7626d9',\n",
       "  'debddbed085de019220505df2b12fef19c4aed0c',\n",
       "  'fe89c0cb096cf1534ac257165e2d254cb408f833',\n",
       "  'f10dcaa5469fd912910fa4aed9144e511279f34e',\n",
       "  '82f8f57851c0588a4c1d3aba1f10943208efd5ed',\n",
       "  '84615196d075f3c729e9536f278aa4d92096341d',\n",
       "  'd6ac761b8b2de5acdc7ac59b73205333af1b5f8f',\n",
       "  '813b27308a05e9b5a081d62bcc8d2ec4ca490979',\n",
       "  'f65edb631d31d03b2a087d49798117a8002dadcb',\n",
       "  '52481f12a09167ebac6ec2ebf333ce61622a79f7',\n",
       "  'e29a4f411799e857e8f2ad0278a6091a7734264f',\n",
       "  '9ad37584ed807667a305e65bbc4b94fe25da23b6',\n",
       "  'ce573ea2ba601cae295bc3f8dbd392eb4afc8109',\n",
       "  'bbf55ad95c2c1d9cc4124d300aaf803dff3845d4',\n",
       "  '86a1f88d694b2895e048897842316decee664366',\n",
       "  '3545c246c64804c89e5ced343d0ea5afc8622b0a',\n",
       "  'a8ab326272e481328de78f272eec4584ade6b9bc',\n",
       "  '2d120c28f01d07dd0684f4a0b4ad7aea8b19a354',\n",
       "  '9ce6dbf27551aaafad0852c7b1c1c955bf2ed6fb',\n",
       "  '68a421f457670e340f43b997c3a69676fc137979',\n",
       "  '48f860dfd41b4cb1db6d2a3d62c34786519e6e0c',\n",
       "  'd5edfbc89fc4b36962813a9f54d2fae14f8a70d7',\n",
       "  '6e727df3e527706f79f95621218d9c836b8cdf66',\n",
       "  'fc557bfcfd387ac056e56fac9377f66991e39458',\n",
       "  '70d012dd79e9c8b1d1155ae752b2a1f2a18c03cc',\n",
       "  '243308a09b6ef19429b6b6fe5cc8ac81126c02a4',\n",
       "  '6678f52f6d10b6a44e7da26acdf60a71f92d1f0d',\n",
       "  'de89362621a489412065da49833c1e09eea50946',\n",
       "  'dcd4ab35335ba1813450c5010661d7606008118f',\n",
       "  'c79380c0eabf0522caf0a600f64a32d72f3c88d7',\n",
       "  'd0ca97f6072748b4dd807cd023a9301f79fd6ee7',\n",
       "  '6926dacf0a5d843b8bcebdab86294ad805ff465c'],\n",
       " 's2Url': 'https://semanticscholar.org/paper/1c2a234329c161bd187b61cb9794d68b03dd1296',\n",
       " 's2PdfUrl': '',\n",
       " 'authors': [{'name': 'Karl R Hansen', 'ids': ['40403970']},\n",
       "  {'name': 'Nicholas S Knowlton', 'ids': ['2746478']},\n",
       "  {'name': 'Angela C Thyer', 'ids': ['10270756']},\n",
       "  {'name': 'Jay S Charleston', 'ids': ['40268172']},\n",
       "  {'name': 'Michael R Soules', 'ids': ['29750974']},\n",
       "  {'name': 'Nancy A Klein', 'ids': ['34298869']}],\n",
       " 'journalName': 'Human reproduction',\n",
       " 'paperAbstract': 'BACKGROUND\\nThe primary determinant of reproductive age in women is the number of ovarian non-growing (primordial, intermediate and primary) follicles (NGFs). To better characterize the decline in NGF number associated with aging, we have employed modern stereology techniques to determine NGF number in women from birth to menopause.\\n\\n\\nMETHODS\\nNormal human ovaries were collected from 122 women (aged 0-51 years) undergoing elective oophorectomy, organ donation or autopsy. After gross pathologic examination, systematic random sampling was utilized to obtain tissue for analysis by the fractionator/optical disector method. Models to describe the resulting decay curve were constructed and evaluated.\\n\\n\\nRESULTS\\nNGF decay was best described by a simple power function: log (y) = ax(b) + c, where a, b and c are constants and y = NGF count at age x (R(2) = 0.84, Sums of Squares Error = 28.18 on 119 degrees of freedom). This model implies that follicles decay faster with increasing age.\\n\\n\\nCONCLUSIONS\\nUnlike previous models of ovarian follicle depletion, our model predicts no sudden change in decay rate, but rather a constantly increasing rate. The model not only agrees well with observed ages of menopause in women, but also is more biologically plausible than previous models. Although the model represents a significant improvement compared with earlier attempts, a considerable percentage of the variation in NGF number between women cannot be explained by age alone.',\n",
       " 'inCitations': ['509ae4b849f37902c15632c1c2ab1eec3b41fc2c',\n",
       "  '782f70b5b15e688037221e741667dac5e7860b5a',\n",
       "  '48a2ef25c0510e6ceaf514a6276dd6a4d82cd491',\n",
       "  '36d8592b66fd57e29f8468ed1774ed7895bca149',\n",
       "  '003760230927ca8f1404dbfa1dba41331126a508',\n",
       "  'ba120ddffd3bcc07577a0156a00cd295a8aa064d',\n",
       "  '4bcef692f3108718d83ac94b21208f4843c29419',\n",
       "  'b00252aebd109a1dbd2e61dcdb01e6b08f6fa141',\n",
       "  '3be37ffc9b86ca2dcb7d10efbe539bcfe5159135',\n",
       "  '6f6422d1cd31417545ec0ef06ccd3565f164abdf',\n",
       "  'b2beadf5337ce80c1915a3dec9ce51c9a72e00e2',\n",
       "  'da35dbd738d3d3e13d633bd75a2803929b4a82ba',\n",
       "  '18fca82d6fdac7b0e2f2de1a821bb4602bffbc57',\n",
       "  '17e825b233cc6354849d79282c8ce2d59d2a3fb7',\n",
       "  '1092cb82f68e826e2e5002f3d285084987d2fcc3',\n",
       "  '35c6eb4383d86d4dce976acb159a9fce3382f9d3',\n",
       "  '3e01ca97e6dde8a3d510d5fdc2b0b69029fdfc81',\n",
       "  '52e7810bfa3d4b9d5c54984e2cc88774b262c0db',\n",
       "  '05dbd892dd4832caa49f82992c3a7b1cd2ba2bfb',\n",
       "  'b5725a9ea5d26e109b3136dffba596b59fd35233',\n",
       "  'b62858157ba3e6f949293226a6c073086bb12d35',\n",
       "  '68a3454675a47e6c055167ecfdcb3079b8a7b5c9',\n",
       "  'c0a572b08c4a9345c6c1cb539850949d840702cd',\n",
       "  '060f95346d4e4fdfc75fb0af2e30103a95c4eee5',\n",
       "  '94e5073d7bd634b5a3ac47d8feb80b80e332b245',\n",
       "  '0e52ab404558e8ee6468288813315ae10951ee9c',\n",
       "  '873abad1ff5b24b5eeb8b283a7f7b89dc0c51331',\n",
       "  '3278c47794ff19987eba6ee21a24ce7805358b46',\n",
       "  '4114196c433d76b058e7c74d032631a79e97de82',\n",
       "  '583d4ff6cc08e49b640a01087d1eb8de4a15cb28',\n",
       "  '056de98ebd9b4551e1b04636413354524f02a803',\n",
       "  'f4a0f68a5c026ec04322c9760320be8065c52f79',\n",
       "  'dc07d7c1f64e15a88f49efa227538c2fea66a689',\n",
       "  '44d9094da5e0221d18385857f60872e3bc71362d',\n",
       "  '2a7e9c031e0bfb601ab9551b1988c0fccf8a6c26',\n",
       "  'f6a31c397ae2acb23f4faba0086084c0394784af',\n",
       "  'b20b1e130641ecf91e33e7fb435ea02e512c49f3',\n",
       "  '2e1d54b37ebd0d4f635986488689863ea9c56cbb',\n",
       "  '1e1e39b4c9129d86c237d747499781e32226f105',\n",
       "  '199490de7da4fec4b7b4fd0ac60ee7193dec6b95',\n",
       "  '32d0a23954836ff3a82d79d7ede0344bfd3e00cb',\n",
       "  '017f1abdf259d0f35e4dfa16549e3ffe351bb511',\n",
       "  '0d8a9f59145c8878ae98f9e491a74ee5e654f49b',\n",
       "  'b5fa1d81138c2798efd1bf61a3308dba99167d47',\n",
       "  '3001aece9db8ea6bbe8a11e38e3626531c76d726',\n",
       "  '204aebce6ce648798e16aa40ca4fd3d95f82bf81',\n",
       "  '7d5ad11a7d10eeaebb51fb57bcab838b25795556',\n",
       "  '6eb6fdf2e68db53484db378ff726aed367c298d8',\n",
       "  'ed69d052ac092b1bd92def1b63ca8cfb266cc21a',\n",
       "  '32cc5713b74c729cd4eaa7b3f5f9932fe28d583c',\n",
       "  '3f1bb64362db24e6c522c615f14e83b3e8544d32',\n",
       "  '94f4485b6f0bc7265d19e35d4f6c1e741e0bb03f',\n",
       "  '9f34bef50e2585be4404a0bbd094ab5b0de692f3',\n",
       "  'b3d98efd8a23f37765a5abbb5d07ac43ceb6cfce',\n",
       "  '70083bf87922f734343eefb816183f7a0daf7eb6',\n",
       "  '134e505fd2e1c6fae16eb840e3658673019620ea',\n",
       "  '3c5186d31a4822fff3e67a72d1098a023e9cd21b',\n",
       "  '58646e6dd6816827ce11ddd804b29d1d08231909',\n",
       "  'f174bf8bb27795ff199c2910d8352d7dae5fb5d7',\n",
       "  '7043397029ae60ac9040a754434a6e725779bcdf',\n",
       "  '664192dd7d4e9c85e18d3ff75b7147acd9aa7d63',\n",
       "  '86f1c9b21769552ab84de08bd194de468e9f1b77',\n",
       "  '3512bb404e4c6db9b027eafb187fe7bdcc0caccd',\n",
       "  '883a188c2aad75e2e12769e5f48fe582223b3507',\n",
       "  'af27a2158320d61b23a27e72bae83aab1e23e31c',\n",
       "  '20e18c1c775f10c2c8eae6603f2d6c7d14fb7cc1',\n",
       "  'a3060f893764f62feca698bf0b657b28839d2f15',\n",
       "  '69fca7e59896e5c7ad3680bdf8f4d041146d2ec0',\n",
       "  'ed53f92c07895bc1442251bcf6dad3b24efd1436',\n",
       "  '31517c46801e6d420c723092c94448b373b33646',\n",
       "  '957003e8a7d2a58424414e466556c5cf8a5edc22',\n",
       "  '72bb0e9733d2e7f212783a7e05ec490eae227dce',\n",
       "  'b8f3c6ef2bad7b5935d45aee647460a62c178512',\n",
       "  '3a67873f0ba0e7a89de5dc81686645e1eff02c8b',\n",
       "  'ddefae80bc820d7f26df79eef51a2ec404b4ace4',\n",
       "  'a227082d0bceccdf28b5c3308097bb58877df64a',\n",
       "  '59018006f298ca9676ea3d4c33996b3f5e1290b0',\n",
       "  '54ee0cc54e91bd5455e63b974de59d228df195d2',\n",
       "  '65b26f02da1fbda16870733b105e566dc599d34e',\n",
       "  '70ffc0532ee9a7c0de856b91c248666cd2b54ecb',\n",
       "  'ed339267adf68dd815bdb7206217a9c30d458cb8',\n",
       "  'e33498c9b6e81dcd1c8a2915af65da62724d3e06',\n",
       "  '502723b900f65058d4cd7e6ea0a7e1782ae98ca4',\n",
       "  '7d4bd67649e31a2d1039a868a6579a135c4ca650',\n",
       "  '2607dbd41f0f8247e7ec0dff2f3aba2f5aa3abf3',\n",
       "  '778ecdee9b2a8187ce8c3dabffe408876c3476c5',\n",
       "  'b5f713f3611125b45d42e44e549b347901bc0939',\n",
       "  'e87d73890de765ce3c627f2ef16f9f4363f87108'],\n",
       " 'pdfUrls': [],\n",
       " 'title': 'A new model of reproductive aging: the decline in ovarian non-growing follicle number from birth to menopause.',\n",
       " 'doi': '10.1093/humrep/dem408',\n",
       " 'sources': ['Medline'],\n",
       " 'doiUrl': 'https://doi.org/10.1093/humrep/dem408',\n",
       " 'venue': 'Human reproduction'}"
      ]
     },
     "execution_count": 4,
     "metadata": {},
     "output_type": "execute_result"
    }
   ],
   "source": [
    "papers.find_one('1c2a234329c161bd187b61cb9794d68b03dd1296')"
   ]
  },
  {
   "cell_type": "code",
   "execution_count": 21,
   "metadata": {
    "ExecuteTime": {
     "end_time": "2018-12-02T22:13:52.744991Z",
     "start_time": "2018-12-02T22:13:52.715731Z"
    }
   },
   "outputs": [],
   "source": [
    "# def to_gexf(edges_path, node_path, path):\n",
    "#     \"\"\"\n",
    "#     Export two files to a .gexf file for use in Gephi.\n",
    "#     ============\n",
    "#     Takes:\n",
    "#         g: pyspark graphframe object-graph to export\n",
    "#         path: string-location to save file\n",
    "#     ============\n",
    "#     Returns: None\n",
    "#     \"\"\"\n",
    "    \n",
    "#     header = f\"\"\"<?xml version=\"1.0\" encoding=\"UTF-8\"?>\n",
    "#     <gexf xmlns=\"http://www.gexf.net/1.2draft\" version=\"1.2\" xmlns:xsi=\"http://www.w3.org/2001/XMLSchema-instance\" xsi:schemaLocation=\"http://www.w3.org/2001/XMLSchema-instance\">\n",
    "#       <graph mode=\"{'static' if not dynamic else 'dynamic'}\" defaultedgetype=\"directed\" name=\"\">\n",
    "#         <nodes>\n",
    "#   \"\"\"\n",
    "#     with open(path, 'w') as f:\n",
    "#         f.write(header)\n",
    "#         with open(nodes_path, 'r') as nodes:\n",
    "#             for line in nodes:\n",
    "#                 v = json.loads(line)\n",
    "#                 f.writelines(f'      <node id=\"{v[\"_id\"]}\"  start=\"{v[\"year\"]}\" end=\"2018\" />\\n')\n",
    "#         f.writelines(\"\"\"\n",
    "#          </nodes>\n",
    "#          <edges>\n",
    "#   \"\"\")\n",
    "#         with open(edges_path, 'r') as edges:\n",
    "#             for line in edges:\n",
    "#                 e = json.loads(line)\n",
    "#                 f.writelines(f'      <edge id=\"{e[\"_id\"]}\" source=\"{e[\"src\"]}\" target=\"{e[\"dst\"]}\" start=\"{e[\"year\"]}\" end=\"2018\" />\\n')\n",
    "#         f.writelines(\"\"\"         </edges>\n",
    "#        </graph>\n",
    "#      </gexf>\"\"\")\n"
   ]
  },
  {
   "cell_type": "code",
   "execution_count": 104,
   "metadata": {
    "ExecuteTime": {
     "end_time": "2018-12-03T00:57:35.804867Z",
     "start_time": "2018-12-03T00:57:35.753152Z"
    }
   },
   "outputs": [],
   "source": [
    "def pd_to_gexf(edges, nodes, path, dynamic=False):\n",
    "    \"\"\"\n",
    "    Export two pandas frames to a single .gexf file for use in Gephi.\n",
    "    ============\n",
    "    Takes:\n",
    "        edges: DataFrame object containing edges to export\n",
    "        nodes: DataFrame object containing nodes to export\n",
    "        path: string-location to save file\n",
    "    ============\n",
    "    Returns: None\n",
    "    \"\"\"\n",
    "    if dynamic:\n",
    "      nodes = ''.join(nodes.T.apply(lambda v: f'      <node id=\"{v[\"id\"]}\"  start=\"{v[\"year\"]}\" end=\"2018\" year=\"{v[\"year\"]}\" />\\n'))\n",
    "      edges = ''.join(edges.T.apply(lambda e: f'      <edge id=\"{e[\"id\"]}\" source=\"{e[\"src\"]}\" target=\"{e[\"dst\"]}\" start=\"{e[\"year\"]}\" end=\"2018\" year=\"{e[\"year\"]}\" />\\n'))\n",
    "    else:\n",
    "      nodes = ''.join(g.vertices.rdd.map(lambda v: f'      <node id=\"{v[\"id\"]}\" />\\n').collect())\n",
    "      edges = ''.join(g.edges.rdd.map(lambda e: f'      <edge id=\"{e[\"id\"]}\" source=\"{e[\"src\"]}\" target=\"{e[\"dst\"]}\" />\\n').collect())\n",
    "    string =f\"\"\"<?xml version=\"1.0\" encoding=\"UTF-8\"?>\n",
    "    <gexf xmlns=\"http://www.gexf.net/1.2draft\" version=\"1.2\" xmlns:xsi=\"http://www.w3.org/2001/XMLSchema-instance\" xsi:schemaLocation=\"http://www.w3.org/2001/XMLSchema-instance\">\n",
    "      <graph mode=\"{'static' if not dynamic else 'dynamic'}\" defaultedgetype=\"directed\" name=\"\">\n",
    "        <nodes>\n",
    "  {nodes}\n",
    "        </nodes>\n",
    "        <edges>\n",
    "  {edges}\n",
    "        </edges>\n",
    "      </graph>\n",
    "    </gexf>\"\"\"\n",
    "    with open(path, 'w') as f:\n",
    "        f.write(string)"
   ]
  },
  {
   "cell_type": "code",
   "execution_count": 92,
   "metadata": {
    "ExecuteTime": {
     "end_time": "2018-12-02T22:54:45.861411Z",
     "start_time": "2018-12-02T22:54:45.821590Z"
    }
   },
   "outputs": [
    {
     "data": {
      "text/plain": [
       "<itertools.chain at 0x127ac0a90>"
      ]
     },
     "execution_count": 92,
     "metadata": {},
     "output_type": "execute_result"
    }
   ],
   "source": [
    "nodes.rdd.toLocalIterator()\n",
    "# map(lambda e: f'      <edge id=\"{e[\"id\"]}\" source=\"{e[\"src\"]}\" target=\"{e[\"dst\"]}\" start=\"{e[\"year\"]}\" end=\"2018\" />\\n')\n",
    "# test.first()"
   ]
  },
  {
   "cell_type": "code",
   "execution_count": 42,
   "metadata": {
    "ExecuteTime": {
     "end_time": "2018-12-02T22:30:30.584248Z",
     "start_time": "2018-12-02T22:30:30.553173Z"
    }
   },
   "outputs": [],
   "source": []
  },
  {
   "cell_type": "code",
   "execution_count": 98,
   "metadata": {
    "ExecuteTime": {
     "end_time": "2018-12-02T22:59:22.969742Z",
     "start_time": "2018-12-02T22:59:22.494454Z"
    }
   },
   "outputs": [],
   "source": [
    "nodes_df = pd.read_csv('data/nodes', sep='|', header=None)\n",
    "nodes_df.columns = ['id','year','authors']\n",
    "edges_df = pd.read_csv('data/edges', sep='|', header=None)\n",
    "edges_df.columns = ['src','dst','year']\n",
    "edges_df['id'] = edges_df.index"
   ]
  },
  {
   "cell_type": "code",
   "execution_count": 105,
   "metadata": {
    "ExecuteTime": {
     "end_time": "2018-12-03T00:58:04.794640Z",
     "start_time": "2018-12-03T00:57:37.726051Z"
    }
   },
   "outputs": [],
   "source": [
    "pd_to_gexf(edges_df, nodes_df, 'data/nak2.gexf', dynamic=True)"
   ]
  },
  {
   "cell_type": "code",
   "execution_count": null,
   "metadata": {
    "ExecuteTime": {
     "end_time": "2018-12-02T22:57:35.296339Z",
     "start_time": "2018-12-02T22:57:35.131432Z"
    },
    "scrolled": false
   },
   "outputs": [],
   "source": []
  },
  {
   "cell_type": "code",
   "execution_count": null,
   "metadata": {},
   "outputs": [],
   "source": [
    "g = graphframes.GraphFrame(e=edges, v=nodes)\n",
    "to_gexf(g, 'data/component.gexf', dynamic=True)"
   ]
  }
 ],
 "metadata": {
  "kernelspec": {
   "display_name": "Python 3",
   "language": "python",
   "name": "python3"
  },
  "language_info": {
   "codemirror_mode": {
    "name": "ipython",
    "version": 3
   },
   "file_extension": ".py",
   "mimetype": "text/x-python",
   "name": "python",
   "nbconvert_exporter": "python",
   "pygments_lexer": "ipython3",
   "version": "3.6.5"
  }
 },
 "nbformat": 4,
 "nbformat_minor": 2
}
